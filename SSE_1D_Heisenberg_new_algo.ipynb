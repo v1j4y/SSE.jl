{
 "cells": [
  {
   "cell_type": "markdown",
   "metadata": {
    "toc-hr-collapsed": false
   },
   "source": [
    "# SSE 1D Heisenberg"
   ]
  },
  {
   "cell_type": "markdown",
   "metadata": {},
   "source": [
    "## I. Theory"
   ]
  },
  {
   "cell_type": "markdown",
   "metadata": {},
   "source": [
    "The objective of the method is to calculate the expectation value of an observable $\\hat{A}$ as follows:\n",
    "\n",
    "$$\n",
    "<\\hat{A}> = \\frac{1}{Z}Tr\\left\\{ \\hat{A}e^{-\\beta\\hat{H}}\\right\\}\n",
    "$$\n",
    "\n",
    "with $Z = Tr\\left\\{ e^{-\\beta\\hat{H}}\\right\\}$.\n",
    "\n",
    "The Hamiltonian is made up of a sum of non-commuting terms $\\hat{H} = \\sum^M_i \\hat{H}_i , [\\hat{H}_i,\\hat{H}_j] \\ne 0$ for any i, j"
   ]
  },
  {
   "cell_type": "markdown",
   "metadata": {},
   "source": [
    "This trace can be rewritten in terms of a summation over the expectation values of product of Hamiltonian terms of a given order $n$ such as:\n",
    "\n",
    "$$\n",
    "Z = \\sum^{\\infty}_n \\sum_{\\{C_n\\}} \\frac{(-\\beta)^n}{n!} Tr\\left\\{\\prod^n_{j=1} \\hat{H}_{l_j} \\right\\}\n",
    "$$"
   ]
  },
  {
   "cell_type": "markdown",
   "metadata": {},
   "source": [
    "Where $C_n$ gives all the possible combinations of product terms of bonds indices $(l_1,l_2,\\dots,l_n)$ of order $n$ with $1\\le l_i \\le M$ where $M$ is the number of operators in the summation of the Hamiltonian terms $\\hat{H}_i$.\n",
    "\n",
    "With this reordering, the expectation value of an operator $<\\hat{A}>$ can be written as:\n",
    "\n",
    "$$\n",
    "<\\hat{A}> = \\sum^{\\infty}_n\\sum_{\\{C_n\\}} A(C_n)W(C_n)\n",
    "$$"
   ]
  },
  {
   "cell_type": "markdown",
   "metadata": {},
   "source": [
    "where $A(C_n)$ and $W(C_n)$ are given by:\n",
    "\n",
    "$$\n",
    "A(C_n) =  Tr\\left\\{\\hat{A}\\prod^n_{j=1}\\hat{H}_{l_j} \\right\\}\\bigg/Tr\\left\\{\\prod^n_{j=1}\\hat{H}_{l_j} \\right\\} \\ \\text{if}\\ W(C_n) \\ne 0\\\\ 0,W(C_n) = 0\n",
    "$$\n",
    "\n",
    "$$\n",
    "W(C_n) = \\frac{1}{Z}\\frac{(-\\beta)^n}{n!}Tr\\left\\{\\prod^n_{j=1}\\hat{H}_{l_j} \\right\\}\n",
    "$$"
   ]
  },
  {
   "cell_type": "markdown",
   "metadata": {},
   "source": [
    "If the weights $W(C_n)$ are all positive, $<\\hat{A}>$ can be sampled in a MC simulation and the value can be extracted.\n",
    "\n",
    "$$\n",
    "<\\hat{A}> = <A(C_n)>_W\n",
    "$$"
   ]
  },
  {
   "cell_type": "markdown",
   "metadata": {},
   "source": [
    "The expectation value can be calculated by expanding the trace in terms of a basis representation which is chosen as a list of string with the $\\hat{S}_{z_j}$ component of each site $\\alpha=[S_1,S_2,\\dots,S_N]$.\n",
    "\n",
    "$$\n",
    "<\\hat{A}> = \\frac{1}{Z}\\sum_{\\alpha}\\sum^{L}_n \\sum_{\\{C_n\\}} \\frac{(-\\beta)^n}{n!}<\\alpha|\\hat{A}\\prod^{n}_{j=1}\\hat{H}_{l_j}|\\alpha>\n",
    "$$"
   ]
  },
  {
   "cell_type": "markdown",
   "metadata": {
    "toc-hr-collapsed": false
   },
   "source": [
    "## II. Algorithm"
   ]
  },
  {
   "cell_type": "markdown",
   "metadata": {},
   "source": [
    "The states are represented as a list of the per site $S^z_i$ values as follows:\n",
    "\n",
    "$$\n",
    "|\\alpha> = |S^z_1,S^z_2,\\dots,S^z_N>\n",
    "$$\n",
    "\n",
    "The Heisenberg Hamiltonian given below is simplified as follows\n",
    "\n",
    "$$\n",
    "\\hat{H} = \\sum^{B}_{b=1} \\left[ \\hat{S}^z_{i(b)}\\cdot\\hat{S}^z_{j(b)} + \\frac{1}{2} \\left( S^+_{i(b)}\\cdot S^-_{j(b)} + S^-_{i(b)}\\cdot S^+_{j(b)} \\right) \\right]\n",
    "$$"
   ]
  },
  {
   "cell_type": "markdown",
   "metadata": {},
   "source": [
    "The two parts of the Hamiltonian are broken down and shifted in order to make all the expectation values non-negative.\n",
    "\n",
    "$$\n",
    "\\hat{H}_{1,b} = \\frac{1}{4} - \\hat{S}^z_{i(b)}\\cdot\\hat{S}^z_{j(b)} \\\\ \\hat{H}_{2,b} = \\frac{1}{2} \\left( S^+_{i(b)}\\cdot S^-_{j(b)} + S^-_{i(b)}\\cdot S^+_{j(b)} \\right) \n",
    "$$\n",
    "\n",
    "Therefore, the Hamiltonian is written as:\n",
    "\n",
    "$$\n",
    "\\hat{H} = -\\sum^B_{b=1}\\sum^2_a \\left[ \\hat{H}_{a,b} \\right]\n",
    "$$\n",
    "\n",
    "with a phase convention for the off-diagonal operators.\n",
    "\n",
    "----\n",
    "__Important Note__\n",
    "\n",
    "The full Hamiltonian is different from the usual Heisenberg Hamiltonian.\n",
    "\n",
    "In fact the _shifted_ Hamiltonian used here is related to the Heisenberg Hamiltonian:\n",
    "\n",
    "$$\n",
    "\\hat{H}_{heis} = \\sum^{B}_{b=1} \\left[ \\hat{S}^z_{i(b)}\\cdot\\hat{S}^z_{j(b)} + \\frac{1}{2} \\left( S^+_{i(b)}\\cdot S^-_{j(b)} + S^-_{i(b)}\\cdot S^+_{j(b)} \\right) \\right]\n",
    "$$\n",
    "\n",
    "\n",
    "$$\n",
    "\\hat{H}_{SSE} = \\hat{H}_{heis} + \\frac{JB}{4}\n",
    "$$\n",
    "\n",
    "Where $B$ is the Number of bonds in the Hamiltonian.\n",
    "\n",
    "----"
   ]
  },
  {
   "cell_type": "markdown",
   "metadata": {},
   "source": [
    "The SSE operator products in the partition function are given by\n",
    "$$\n",
    "\\prod^M_p \\hat{H}_{a(p),b(p)}\n",
    "$$"
   ]
  },
  {
   "cell_type": "markdown",
   "metadata": {},
   "source": [
    "The lists $a(p)$ and $b(p)$ are stored in a vector which give the operators acting at each time step $p$\n",
    "\n",
    "and the operator string is given by $opstring(p) = 2 b(p) + a(p) - 1$ with the identity represented by $0$."
   ]
  },
  {
   "cell_type": "markdown",
   "metadata": {},
   "source": [
    "The configuration is stored in the spin variable which contains $spin[i] = 2S^z_i$"
   ]
  },
  {
   "cell_type": "markdown",
   "metadata": {},
   "source": [
    "The connection of pair of spins to a bond is stored in $bsites$ which is a $MaxM x 2$ matrix with $bsites[b,1]$ giving the ms of the 1st site and $bsites[b,2]$ giving the ms of the second site.\n"
   ]
  },
  {
   "cell_type": "markdown",
   "metadata": {},
   "source": [
    "### a.) The data structures"
   ]
  },
  {
   "cell_type": "code",
   "execution_count": 322,
   "metadata": {
    "jupyter": {
     "source_hidden": true
    }
   },
   "outputs": [
    {
     "name": "stdout",
     "output_type": "stream",
     "text": [
      "i  \t a \t b \topstring\n",
      "\n",
      "1>\t1\t2\t4\n",
      "2>\t0\t0\t0\n",
      "3>\t2\t4\t9\n",
      "4>\t2\t6\t13\n",
      "5>\t1\t3\t6\n",
      "6>\t0\t0\t0\n",
      "7>\t0\t0\t0\n",
      "8>\t1\t2\t4\n",
      "9>\t2\t6\t13\n",
      "10>\t0\t0\t0\n",
      "11>\t2\t4\t9\n",
      "12>\t1\t7\t14\n"
     ]
    }
   ],
   "source": [
    "Nsites = 8\n",
    "MaxM = M = 12\n",
    "n=0\n",
    "spins = 1.0*[1; 1; -1; -1; 1; -1; 1; -1]\n",
    "a = zeros(Int,MaxM)\n",
    "a[1]=1\n",
    "a[3]=2\n",
    "a[4]=2\n",
    "a[5]=1\n",
    "a[8]=1\n",
    "a[9]=2\n",
    "a[11]=2\n",
    "a[12]=1\n",
    "b = zeros(Int,MaxM)\n",
    "b[1]=2\n",
    "b[3]=4\n",
    "b[4]=6\n",
    "b[5]=3\n",
    "b[8]=2\n",
    "b[9]=6\n",
    "b[11]=4\n",
    "b[12]=7\n",
    "opstring = zeros(Int,MaxM)\n",
    "bsites = makeBsites(Nsites)\n",
    "buildOpstring!(opstring,a,b)\n",
    "print(\"i  \\t a \\t b \\topstring\\n\\n\")\n",
    "for i in 1:MaxM\n",
    "    print(i,\">\",\"\\t\",a[i],\"\\t\",b[i],\"\\t\",opstring[i],\"\\n\")\n",
    "end"
   ]
  },
  {
   "cell_type": "markdown",
   "metadata": {},
   "source": [
    "### b.) Visualize SSE config"
   ]
  },
  {
   "cell_type": "markdown",
   "metadata": {},
   "source": [
    "An example of an SSE configuration and propagated states for $M=12$ and $8$ sites is shown below."
   ]
  },
  {
   "cell_type": "code",
   "execution_count": 321,
   "metadata": {
    "jupyter": {
     "source_hidden": true
    }
   },
   "outputs": [
    {
     "data": {
      "image/png": "[encoded data removed]",
      "text/plain": [
       "Figure(PyObject <Figure size 640x480 with 1 Axes>)"
      ]
     },
     "metadata": {},
     "output_type": "display_data"
    },
    {
     "name": "stdout",
     "output_type": "stream",
     "text": [
      "    -1.0       -1.0       1.0       1.0       1.0       -1.0       -1.0       -1.0       "
     ]
    }
   ],
   "source": [
    "drawSSEConfig(Nsites,M,a,b,spin);"
   ]
  },
  {
   "cell_type": "markdown",
   "metadata": {},
   "source": [
    "### b.) Make vertex list"
   ]
  },
  {
   "cell_type": "markdown",
   "metadata": {},
   "source": [
    "The most important function to build then is the loop calculation algorithm which gives the list of all the closed loops for a given SSE configuration."
   ]
  },
  {
   "cell_type": "code",
   "execution_count": 324,
   "metadata": {},
   "outputs": [
    {
     "name": "stdout",
     "output_type": "stream",
     "text": [
      "l = \t  0\t\t\t  1\t\t\t  2\t\t\t  3\t\t\t  \n",
      "\n",
      "\t [1]\t31\t\t [2]\t32\t\t [3]\t29\t\t [4]\t17\t\n",
      "\t [5]\t-1\t\t [6]\t-1\t\t [7]\t-1\t\t [8]\t-1\t\n",
      "\t [9]\t43\t\t [10]\t44\t\t [11]\t18\t\t [12]\t42\t\n",
      "\t [13]\t35\t\t [14]\t47\t\t [15]\t33\t\t [16]\t34\t\n",
      "\t [17]\t4\t\t [18]\t11\t\t [19]\t30\t\t [20]\t41\t\n",
      "\t [21]\t-1\t\t [22]\t-1\t\t [23]\t-1\t\t [24]\t-1\t\n",
      "\t [25]\t-1\t\t [26]\t-1\t\t [27]\t-1\t\t [28]\t-1\t\n",
      "\t [29]\t3\t\t [30]\t19\t\t [31]\t1\t\t [32]\t2\t\n",
      "\t [33]\t15\t\t [34]\t16\t\t [35]\t13\t\t [36]\t45\t\n",
      "\t [37]\t-1\t\t [38]\t-1\t\t [39]\t-1\t\t [40]\t-1\t\n",
      "\t [41]\t20\t\t [42]\t12\t\t [43]\t9\t\t [44]\t10\t\n",
      "\t [45]\t36\t\t [46]\t48\t\t [47]\t14\t\t [48]\t46\t\n"
     ]
    }
   ],
   "source": [
    "vfirst,vlast,vlist = makeVertexListOperatorBased(a,b,opstring,Nsites,M,bsites)\n",
    "printVertexVector(vlist,M,Nsites)"
   ]
  },
  {
   "cell_type": "markdown",
   "metadata": {},
   "source": [
    "# 1.) Diagonal Update"
   ]
  },
  {
   "cell_type": "markdown",
   "metadata": {},
   "source": [
    "The first type of update is the diagonal update where a $\\hat{S}^z_b(p)$ operator is put for a randomly chosen bond $b$ and this is carried out for each time dimension $p$. \n",
    "\n",
    "The condition for adding a diagonal operator $\\hat{S}^z_b(p)$ is that the two spins making up the bond $b$ i.e. $S_{i(b)}$ and $S_{j(b)}$ should be unequal i.e. the spins should be anti-parallel."
   ]
  },
  {
   "cell_type": "markdown",
   "metadata": {},
   "source": [
    "## 2.) Off diagonal update"
   ]
  },
  {
   "cell_type": "markdown",
   "metadata": {},
   "source": [
    "The off diagonal update involves updating two off diagonal operators $S^+_{i(b)}\\cdot S^-_{j(b)}$ at once."
   ]
  },
  {
   "cell_type": "markdown",
   "metadata": {},
   "source": [
    "## 3.) Loop update"
   ]
  },
  {
   "cell_type": "markdown",
   "metadata": {},
   "source": [
    "Loop update involves long range changes where a loop is constructed and inverted with probability $\\frac{1}{2}$."
   ]
  },
  {
   "cell_type": "markdown",
   "metadata": {},
   "source": [
    "# Final Algorithm"
   ]
  },
  {
   "cell_type": "markdown",
   "metadata": {},
   "source": [
    "## 1. Put everything together"
   ]
  },
  {
   "cell_type": "markdown",
   "metadata": {},
   "source": [
    "Combining all the elements we write the final algorithm which has the following steps:\n",
    "\n",
    "    1. A cycle of diagonal updates\n",
    "    2. Construct vertexlist\n",
    "    3. Flip all loops with prob 1/2\n",
    "    4. map vertexlist back to opstring and spin\n",
    " "
   ]
  },
  {
   "cell_type": "code",
   "execution_count": 342,
   "metadata": {},
   "outputs": [
    {
     "data": {
      "image/png": "[encoded data removed]",
      "text/plain": [
       "Figure(PyObject <Figure size 640x480 with 1 Axes>)"
      ]
     },
     "metadata": {},
     "output_type": "display_data"
    },
    {
     "name": "stdout",
     "output_type": "stream",
     "text": [
      "\n",
      "-17.501217564870256\n"
     ]
    }
   ],
   "source": [
    "using TimerOutputs\n",
    "using Statistics, Distributions, StatsPlots\n",
    "\n",
    "# Initialize parameters\n",
    "\n",
    "# temperature\n",
    "β = 50\n",
    "\n",
    "# number of sites\n",
    "Nsites = 40\n",
    "\n",
    "# starting number of max op string\n",
    "MaxM = 4000\n",
    "M = 40 #Nsites*2\n",
    "n = 0\n",
    "\n",
    "\n",
    "a = zeros(Int,MaxM)\n",
    "b = zeros(Int,MaxM)\n",
    "opstring = zeros(Int,MaxM)\n",
    "\n",
    "spins = [(i-0.5)/abs(i-0.5) for i in rand(Nsites)]\n",
    "# Check for unlikely cases\n",
    "# if sum(abs.(spin)) == Nsites\n",
    "#     spins[Nsites÷2] *= spins[Nsites÷2]\n",
    "# end\n",
    "phase = 1\n",
    "# for i in 1:Nsites\n",
    "#     spin[i] = phase*-1\n",
    "#     phase *= -1\n",
    "# end\n",
    "bsites = makeBsites(Nsites)\n",
    "#print(\"spin = \",spins,\"\\n\")\n",
    "\n",
    "maxMCsteps = 1000\n",
    "# ratio for MaxM vs n\n",
    "α = 3\n",
    "\n",
    "to = TimerOutput()\n",
    "\n",
    "mlist = []\n",
    "counterlist = []\n",
    "countn = []\n",
    "mcsteps = 0\n",
    "while mcsteps < maxMCsteps\n",
    "    \n",
    "          \n",
    "    # 1. do diagonal updates\n",
    "    n = @timeit to \"diag update\"  diagUpdate!(a,b,opstring,spins,bsites,n,M,Nsites,β)\n",
    "    \n",
    "    if n <= 0\n",
    "        continue\n",
    "    end\n",
    "        \n",
    "    \n",
    "    if M - n < n/α \n",
    "        prevM = M\n",
    "        M = trunc(Int,n + n/α)\n",
    "    end\n",
    "    \n",
    "    push!(mlist,M)\n",
    "    push!(countn,-n/(β) + ((Nsites-1)/4))\n",
    "    \n",
    "        \n",
    "    # 2. construct vertexlist\n",
    "    vfirst,vlast,vlist = @timeit to \"make vertex list\" makeVertexListOperatorBased(a,b,opstring,Nsites,M,bsites)\n",
    "  \n",
    "    mcsteps += 1   \n",
    "    push!(counterlist,mcsteps)\n",
    " \n",
    "    # 4. do loop update\n",
    "    @timeit to \"loop update\" loopUpdateSimple!(vlist,vfirst,a,opstring,spins)\n",
    "    \n",
    "   if !@timeit to \"check update\" checkConsistency(a,b,bsites,spins,Nsites)\n",
    "       break;\n",
    "   end\n",
    "\n",
    "end\n",
    "\n",
    "# Print the timing info\n",
    "#show(to; allocations = false)\n",
    "\n",
    "PyPlot.plot(counterlist, countn);\n",
    "meann = mean(countn[end-500:end])\n",
    "print(\"\\n\",meann,\"\\n\")"
   ]
  },
  {
   "cell_type": "markdown",
   "metadata": {},
   "source": [
    "## 3.) E vs $\\beta$"
   ]
  },
  {
   "cell_type": "code",
   "execution_count": 340,
   "metadata": {},
   "outputs": [
    {
     "data": {
      "image/png": "[encoded data removed]",
      "text/plain": [
       "Figure(PyObject <Figure size 640x480 with 1 Axes>)"
      ]
     },
     "metadata": {},
     "output_type": "display_data"
    }
   ],
   "source": [
    "listmu = []\n",
    "total=0\n",
    "for i in 1:1.0:50\n",
    "#    print(i,\"\\t\")\n",
    "    e = simulateSSE(i*1.0)\n",
    "    push!(listmu,e)\n",
    "    total+=1\n",
    "end\n",
    "PyPlot.plot(1:total,listmu);"
   ]
  },
  {
   "cell_type": "markdown",
   "metadata": {},
   "source": [
    "## 4.) MC simulate"
   ]
  },
  {
   "cell_type": "code",
   "execution_count": 333,
   "metadata": {},
   "outputs": [
    {
     "data": {
      "text/plain": [
       "simulateSSE"
      ]
     },
     "execution_count": 333,
     "metadata": {},
     "output_type": "execute_result"
    }
   ],
   "source": [
    "using Statistics, Distributions, StatsPlots\n",
    "\n",
    "\"\"\"\n",
    "Do the mc simulation and get \n",
    "\"\"\"\n",
    "function simulateSSE(β)\n",
    "    # Initialize parameters\n",
    "\n",
    "    # number of sites\n",
    "    Nsites = 8\n",
    "\n",
    "    # starting number of max op string\n",
    "    MaxM = 4000\n",
    "    M = 40 #Nsites*2\n",
    "    n = 0\n",
    "\n",
    "\n",
    "    a = zeros(Int,MaxM)\n",
    "    b = zeros(Int,MaxM)\n",
    "    opstring = zeros(Int,MaxM)\n",
    "\n",
    "    spins = [(i-0.5)/abs(i-0.5) for i in rand(Nsites)]\n",
    "    # Check for unlikely cases\n",
    "    # if sum(abs.(spin)) == Nsites\n",
    "    #     spins[Nsites÷2] *= spins[Nsites÷2]\n",
    "    # end\n",
    "    phase = 1\n",
    "    # for i in 1:Nsites\n",
    "    #     spin[i] = phase*-1\n",
    "    #     phase *= -1\n",
    "    # end\n",
    "    bsites = makeBsites(Nsites)\n",
    "    #print(\"spin = \",spins,\"\\n\")\n",
    "\n",
    "    maxMCsteps = 1000\n",
    "    # ratio for MaxM vs n\n",
    "    α = 3\n",
    "\n",
    "    mlist = []\n",
    "    counterlist = []\n",
    "    countn = []\n",
    "    mcsteps = 0\n",
    "    while mcsteps < maxMCsteps\n",
    "          \n",
    "        # 1. do diagonal updates\n",
    "        n = diagUpdate!(a,b,opstring,spins,bsites,n,M,Nsites,β)\n",
    "\n",
    "        if n <= 0\n",
    "            continue\n",
    "        end\n",
    "\n",
    "\n",
    "        if M - n < n/α \n",
    "            prevM = M\n",
    "            M = trunc(Int,n + n/α)\n",
    "        end\n",
    "\n",
    "        push!(mlist,M)\n",
    "        push!(countn,-n/(β) + ((Nsites-1)/4))\n",
    "\n",
    "\n",
    "        # 2. construct vertexlist\n",
    "        vfirst,vlast,vlist = makeVertexListOperatorBased(a,b,opstring,Nsites,M,bsites)\n",
    "\n",
    "        mcsteps += 1   \n",
    "        push!(counterlist,mcsteps)\n",
    "\n",
    "        # 4. do loop update\n",
    "        loopUpdateSimple!(vlist,vfirst,a,opstring,spins)\n",
    "\n",
    "\n",
    "    end\n",
    "\n",
    "    # calculate normal distribution params\n",
    "    return(mean(countn[end-500:end]))\n",
    "end"
   ]
  },
  {
   "cell_type": "markdown",
   "metadata": {},
   "source": [
    "----------"
   ]
  },
  {
   "cell_type": "markdown",
   "metadata": {
    "toc-hr-collapsed": false
   },
   "source": [
    "# Function definitions"
   ]
  },
  {
   "cell_type": "markdown",
   "metadata": {},
   "source": [
    "## 1.) buildOpstring"
   ]
  },
  {
   "cell_type": "code",
   "execution_count": 5,
   "metadata": {},
   "outputs": [
    {
     "data": {
      "text/plain": [
       "buildOpstring!"
      ]
     },
     "execution_count": 5,
     "metadata": {},
     "output_type": "execute_result"
    }
   ],
   "source": [
    "\"\"\"\n",
    "Build opstring given the operator list a and b\n",
    "\"\"\"\n",
    "function buildOpstring!(opstring,a,b)\n",
    "    dim = length(a);\n",
    "    eye = ones(dim);\n",
    "    idxa = a .== 0;\n",
    "    idxb = b .== 0;\n",
    "    eye[idxa] .= 0;\n",
    "    opstring .= 2 * b + a - eye;\n",
    "end"
   ]
  },
  {
   "cell_type": "markdown",
   "metadata": {},
   "source": [
    "## Flipbit function"
   ]
  },
  {
   "cell_type": "code",
   "execution_count": 129,
   "metadata": {},
   "outputs": [
    {
     "data": {
      "text/plain": [
       "flipbit"
      ]
     },
     "execution_count": 129,
     "metadata": {},
     "output_type": "execute_result"
    }
   ],
   "source": [
    "\"\"\"\n",
    "    flipbit(x,i)\n",
    "flips bit of x in the ith position\n",
    "\"\"\"\n",
    "function flipbit(x,n)\n",
    "    return(x ⊻ 2^(n-1))\n",
    "end"
   ]
  },
  {
   "cell_type": "markdown",
   "metadata": {},
   "source": [
    "## 2.) Printmatrix"
   ]
  },
  {
   "cell_type": "code",
   "execution_count": 7,
   "metadata": {},
   "outputs": [
    {
     "data": {
      "text/plain": [
       "printmat (generic function with 1 method)"
      ]
     },
     "execution_count": 7,
     "metadata": {},
     "output_type": "execute_result"
    }
   ],
   "source": [
    "function printmat(mat)\n",
    "    print(\"\\n\")\n",
    "    show(Base.stdout, MIME\"text/plain\"(),mat)\n",
    "    print(\"\\n\")\n",
    "end"
   ]
  },
  {
   "cell_type": "markdown",
   "metadata": {},
   "source": [
    "## 3.) Bsites"
   ]
  },
  {
   "cell_type": "code",
   "execution_count": 2,
   "metadata": {},
   "outputs": [
    {
     "data": {
      "text/plain": [
       "makeBsites"
      ]
     },
     "execution_count": 2,
     "metadata": {},
     "output_type": "execute_result"
    }
   ],
   "source": [
    "\"\"\"\n",
    "Make Bsites for 1D Heisenberg\\n\n",
    "Nsites - the number of sites\n",
    "\"\"\"\n",
    "function makeBsites(Nsites)\n",
    "    bsites = zeros(Int,Nsites-1,2)\n",
    "    bsites[:,1] = 1:Nsites-1\n",
    "    bsites[:,2] = 2:Nsites\n",
    "    return bsites\n",
    "end\n"
   ]
  },
  {
   "cell_type": "markdown",
   "metadata": {},
   "source": [
    "## 4.) Make graph with a given a and b"
   ]
  },
  {
   "cell_type": "code",
   "execution_count": 195,
   "metadata": {},
   "outputs": [
    {
     "name": "stderr",
     "output_type": "stream",
     "text": [
      "┌ Info: Precompiling ImageView [86fae568-95e7-573e-a6b2-d8a6b900c9ef]\n",
      "└ @ Base loading.jl:1273\n",
      "WARNING: ImageQualityIndexes.psnr is deprecated, use assess_psnr instead.\n",
      "  likely near /Users/chilkuri/.julia/packages/Images/RUVAg/src/Images.jl:60\n",
      "┌ Info: Precompiling TestImages [5e47fb64-e119-507b-a336-dd2b206d9990]\n",
      "└ @ Base loading.jl:1273\n",
      "┌ Info: Precompiling PyPlot [d330b81b-6aea-500a-939a-2ce795aea3ee]\n",
      "└ @ Base loading.jl:1273\n",
      "┌ Warning: PyPlot is using tkagg backend, which is known to cause crashes on MacOS (#410); use the MPLBACKEND environment variable to request a different backend.\n",
      "└ @ PyPlot /Users/chilkuri/.julia/packages/PyPlot/4wzW1/src/init.jl:192\n"
     ]
    },
    {
     "data": {
      "text/plain": [
       "drawSSEConfig"
      ]
     },
     "execution_count": 195,
     "metadata": {},
     "output_type": "execute_result"
    }
   ],
   "source": [
    "using ImageView, Images, TestImages\n",
    "using PyPlot\n",
    "using PyCall\n",
    "\n",
    "\"\"\"\n",
    "Draw SSE configuration with given\n",
    "a(p) and b(p) operators.\n",
    "Nsites - number of sites\n",
    "MaxM - number of time steps\n",
    "a - the op type\n",
    "b - the bond id for each op\n",
    "spin - the configuration list\n",
    "\"\"\"\n",
    "function drawSSEConfig(Nsites,MaxM,a,b,spin)\n",
    "    # draw the given opstring\n",
    "\n",
    "\n",
    "    nx = pyimport(\"networkx\")\n",
    "\n",
    "    m=2MaxM + 1\n",
    "    n=Nsites\n",
    "\n",
    "    G = nx.grid_2d_graph(n,m); # n, m grid \n",
    "    pos = Dict( (n, n) for n in G.nodes() );\n",
    "\n",
    "    color_map=[]\n",
    "    countcolor=1\n",
    "    for i in 0:n-1\n",
    "        for j in 0:m-1\n",
    "            if countcolor%2 == 0\n",
    "                push!(color_map,\"white\")\n",
    "            else\n",
    "                push!(color_map,\"blue\")\n",
    "            end\n",
    "            countcolor+=1\n",
    "        end\n",
    "        countcolor+=1\n",
    "    end\n",
    "\n",
    "    for j in 0:m-2\n",
    "        for i in 0:n-2\n",
    "            G.remove_edge((i,j),(i+1,j))\n",
    "            G.remove_edge((i,j),(i,j+1))\n",
    "        end\n",
    "        G.remove_edge((n-1,j),(n-1,j+1))\n",
    "    end\n",
    "    for i in 0:n-2\n",
    "        G.remove_edge((i,m-1),(i+1,m-1))\n",
    "    end\n",
    "\n",
    "    # make the ops by looping over the imaginary time axis\n",
    "    # use a for the time direction and b for the space dimension\n",
    "    #G.add_edge((0,m-2),(1,m-2))\n",
    "    width=[]\n",
    "    edge_color=[]\n",
    "    for i in 1:MaxM\n",
    "        if a[i] != 0 && b[i] < Nsites\n",
    "            J = m-2*i\n",
    "            I = trunc(Int,b[i]-1)\n",
    " #           print(I,\"\\t\",J,\"\\n\")\n",
    "            if a[i]==1\n",
    "                G.add_edge((I,J),(I+1,J))\n",
    "                push!(width,1.0)\n",
    "                push!(edge_color,\"brown\")\n",
    "            else\n",
    "                G.add_edge((I,J),(I+1,J))\n",
    "                push!(width,5.0)\n",
    "                push!(edge_color,\"black\")\n",
    "            end\n",
    "        end\n",
    "    end\n",
    "\n",
    "\n",
    "    edges=[]\n",
    "    edge_color=[]\n",
    "    width=[]\n",
    "    for (i,edge) in enumerate(G.edges)\n",
    "    #    edges[edge]=i\n",
    "        push!(edges,edge)\n",
    "        J = edge[2][1]\n",
    "        I = trunc(Int,MaxM-(edge[2][2]-1)/2)\n",
    "        if a[I]==2\n",
    "            push!(width,5.0)\n",
    "            push!(edge_color,\"black\")\n",
    "        else\n",
    "            push!(width,1.0)\n",
    "            push!(edge_color,\"brown\")\n",
    "        end\n",
    "    end\n",
    "\n",
    "    for j in 1:MaxM    \n",
    "        J = m-2*(j-1)        \n",
    "        for i in 0:n-1\n",
    "            I=i\n",
    "    #        print(J,\" \",I,\"\\t\",J*(m-1)+I,\"\\n\")\n",
    "            if spin[i+1] == 1\n",
    "                color_map[I*(m) + J] = \"red\"\n",
    "            else\n",
    "                color_map[i*(m) + J] = \"blue\"\n",
    "            end\n",
    "        end\n",
    "        if a[j]==2\n",
    "            for i in 0:n-1\n",
    "                if b[j]==i+1\n",
    "                    spin[i+1]*=-1\n",
    "                    spin[i+2]*=-1\n",
    "                end\n",
    "            end \n",
    "        end\n",
    "    end\n",
    "    for i in 0:n-1\n",
    "            J=m-2*(MaxM)\n",
    "            I=i\n",
    "            if spin[i+1] == 1\n",
    "                color_map[I*(m) + J] = \"red\"\n",
    "            else\n",
    "                color_map[i*(m) + J] = \"blue\"\n",
    "            end\n",
    "     end\n",
    "\n",
    "    print(\"    \")\n",
    "    for i in 1:Nsites\n",
    "        print(spin[i],\"       \")\n",
    "    end\n",
    "\n",
    "    nx.draw(G,pos,node_color=color_map, font_color=\"white\",node_size=25);\n",
    "    nx.draw_networkx_edges(G,pos,edgelist=edges,width=width,edge_color=edge_color);\n",
    "end"
   ]
  },
  {
   "cell_type": "markdown",
   "metadata": {},
   "source": [
    "## 6.) Print vertex list\n"
   ]
  },
  {
   "cell_type": "code",
   "execution_count": 6,
   "metadata": {},
   "outputs": [
    {
     "data": {
      "text/plain": [
       "printVertexList"
      ]
     },
     "execution_count": 6,
     "metadata": {},
     "output_type": "execute_result"
    }
   ],
   "source": [
    "\"\"\"\n",
    "Print a given vertex list\n",
    "vlist - the vertex list\n",
    "\"\"\"\n",
    "function printVertexList(vlist)  \n",
    "    MaxM = size(vlist)[1]\n",
    "    print(\"l = \\t  \")\n",
    "    for i in 1:4\n",
    "        print(i,\"\\t\\t\\t  \")\n",
    "    end\n",
    "    print(\"\\n\\n\")\n",
    "    for i in 1:MaxM\n",
    "        for j in 1:4\n",
    "            print(\"\\t [\",4*(i-1) + j,\"]\",\"\\t\",vlist[i,j],\"\\t\")\n",
    "        end\n",
    "        print(\"\\n\")\n",
    "    end\n",
    "end"
   ]
  },
  {
   "cell_type": "code",
   "execution_count": 30,
   "metadata": {},
   "outputs": [
    {
     "data": {
      "text/plain": [
       "printVertexVector (generic function with 1 method)"
      ]
     },
     "execution_count": 30,
     "metadata": {},
     "output_type": "execute_result"
    }
   ],
   "source": [
    "function printVertexVector(xv,M,Nsites)\n",
    "    print(\"l = \\t  \")\n",
    "    for i in 0:3\n",
    "        print(i,\"\\t\\t\\t  \")\n",
    "    end\n",
    "    print(\"\\n\\n\")\n",
    "    for i in 1:M\n",
    "        for j in 1:4\n",
    "            print(\"\\t [\",4*(i-1) + j,\"]\",\"\\t\",xv[4*(i-1) + j],\"\\t\")\n",
    "        end\n",
    "        print(\"\\n\")\n",
    "    end\n",
    "end"
   ]
  },
  {
   "cell_type": "markdown",
   "metadata": {},
   "source": [
    "## 7.) Diagonal Update"
   ]
  },
  {
   "cell_type": "code",
   "execution_count": 287,
   "metadata": {},
   "outputs": [
    {
     "data": {
      "text/plain": [
       "diagUpdate!"
      ]
     },
     "execution_count": 287,
     "metadata": {},
     "output_type": "execute_result"
    }
   ],
   "source": [
    "import Random\n",
    "\n",
    "\"\"\"\n",
    "Get diag update addition probability\n",
    "\"\"\"\n",
    "function diagProbAdd(B,β,M,n)\n",
    "    return (min((B*β/2)/(M-n),1))\n",
    "end\n",
    "\n",
    "\"\"\"\n",
    "Get diag update removal probability\n",
    "\"\"\"\n",
    "function diagProbRemove(B,β,M,n)\n",
    "    return (min((M-n+1)/(B*β/2),1))\n",
    "end\n",
    "\n",
    "#Random.seed!(1234)\n",
    "\"\"\"\n",
    "Return a random number [0,1)\n",
    "\"\"\"\n",
    "function getRand()\n",
    "    return rand()\n",
    "end\n",
    "\n",
    "\"\"\"\n",
    "The function that implements diagonal update\\n\n",
    "a - bond type\n",
    "b - bond id\n",
    "opstring - combind bond type and id\n",
    "spin - the spin configuration\n",
    "bsites - site list for each bond\n",
    "MaxM - the time dimension\n",
    "Nsites - number of sites\n",
    "β - time step\n",
    "\"\"\"\n",
    "function diagUpdate!(a,b,opstring,spin,bsites,n,MaxM,Nsites,β)\n",
    "    B = Nsites-1\n",
    "    for i in 1:MaxM\n",
    "        bnd = rand(1:B)\n",
    "        spin1 = spin[bsites[bnd,1]]\n",
    "        spin2 = spin[bsites[bnd,2]]\n",
    "        if a[i] == 0\n",
    "            if spin1 == spin2\n",
    "                continue\n",
    "            end\n",
    "            probAc = diagProbAdd(B,β,MaxM,n)\n",
    "#             print(probAc,\"\\n\")\n",
    "            rnd = getRand()\n",
    "            if rnd < probAc\n",
    "                # accept update\n",
    "                b[i] = bnd\n",
    "                a[i] = 1\n",
    "                opstring[i] = 2 * bnd\n",
    "                n += 1\n",
    "            end\n",
    "        elseif a[i] == 1\n",
    "            probRm = diagProbRemove(B,β,MaxM,n)\n",
    "            rnd = getRand()\n",
    "#             print(probRm,\"\\n\")\n",
    "            if rnd < probRm\n",
    "                # remove bond\n",
    "                b[i] = 0\n",
    "                a[i] = 0\n",
    "                opstring[i] = 0\n",
    "                n -= 1\n",
    "            end\n",
    "        end\n",
    "        if a[i] == 2\n",
    "            # propagate the state\n",
    "            spin[bsites[b[i],1]] *=-1\n",
    "            spin[bsites[b[i],2]] *=-1\n",
    "        end\n",
    "    end\n",
    "    return n\n",
    "end"
   ]
  },
  {
   "cell_type": "markdown",
   "metadata": {},
   "source": [
    "## 9.) Off diagonal pair update"
   ]
  },
  {
   "cell_type": "code",
   "execution_count": 9,
   "metadata": {},
   "outputs": [
    {
     "data": {
      "text/plain": [
       "offdiagonalUpdate!"
      ]
     },
     "execution_count": 9,
     "metadata": {},
     "output_type": "execute_result"
    }
   ],
   "source": [
    "\"\"\"\n",
    "Generate the list of all the pair of operators type 2 for \n",
    "the off-diagonal update\n",
    "looplist - list of loops\n",
    "a - list of bond types\n",
    "b - list of bond ids\n",
    "opstring - opstring\n",
    "bsites - spin ids for each bond\n",
    "\"\"\"\n",
    "function offdiagonalUpdate!(looplist,a,b,opstring,bsites)\n",
    "    \n",
    "    lpmove = Dict()\n",
    "    lpmove[0]=4\n",
    "    lpmove[1]=1\n",
    "    lpmove[2]=2\n",
    "    lpmove[3]=3\n",
    "    \n",
    "    opinvert = Dict()\n",
    "    opinvert[1.0] = 2.0\n",
    "    opinvert[2.0] = 1.0\n",
    "    \n",
    "    nloops = size(looplist)\n",
    "    loopdims = map(x->size(x)[1],looplist)\n",
    "    idxoffdiagloops = findall(x->x==5,loopdims)\n",
    "    numoffdiagloops = size(idxoffdiagloops)[1]\n",
    "    for i in 1:numoffdiagloops\n",
    "        id = idxoffdiagloops[i]\n",
    "        v1  = looplist[id][1]\n",
    "        v2  = looplist[id][2]\n",
    "        lp1 = lpmove[v1%4]\n",
    "        p1  = trunc(Int,1 + (v1-lp1)/4)        \n",
    "        lp2 = lpmove[v2%4]\n",
    "        p2  = trunc(Int,1 + (v2-lp2)/4)        \n",
    "#        print(i,\"\\t\",v1,\"\\t\",v2,\"\\n\")\n",
    "        if v1 > v2\n",
    "            # winded through periodic edges\n",
    "            # need to change spin configuration\n",
    "            a[p1] = opinvert[a[p1]]\n",
    "            a[p2] = opinvert[a[p2]]            \n",
    "            opstring[p1] = 2*b[p1] + a[p1] - 1\n",
    "            opstring[p2] = 2*b[p2] + a[p2] - 1\n",
    "            b1 = trunc(Int,b[p1])\n",
    "            b2 = trunc(Int,b[p2])\n",
    "            if b1 != b2\n",
    "                print(\"Something is wrong in off diag up b1 != b2\\n\")\n",
    "            end\n",
    "            s1 = trunc(Int,bsites[b1,1])\n",
    "            s2 = trunc(Int,bsites[b1,2])\n",
    "            spin[s1] *= -1\n",
    "            spin[s2] *= -1\n",
    "        else\n",
    "            # direct loop \n",
    "            # no need to change spin configurations\n",
    "            a[p1] = opinvert[a[p1]]\n",
    "            a[p2] = opinvert[a[p2]]\n",
    "            opstring[p1] = 2*b[p1] + a[p1] - 1\n",
    "            opstring[p2] = 2*b[p2] + a[p2] - 1\n",
    "        end       \n",
    "    end\n",
    "end"
   ]
  },
  {
   "cell_type": "markdown",
   "metadata": {},
   "source": [
    "## 13.) Exists in vector function"
   ]
  },
  {
   "cell_type": "code",
   "execution_count": 13,
   "metadata": {},
   "outputs": [
    {
     "data": {
      "text/plain": [
       "isinvec"
      ]
     },
     "execution_count": 13,
     "metadata": {},
     "output_type": "execute_result"
    }
   ],
   "source": [
    "\"\"\"\n",
    "Check if an element exists in vector\n",
    "vec - vector\n",
    "x - element\n",
    "\"\"\"\n",
    "function isinvec(vec,x)\n",
    "    if size(findall(y->y==x,vec))[1] >0\n",
    "        return true\n",
    "    else\n",
    "        return false\n",
    "    end\n",
    "end"
   ]
  },
  {
   "cell_type": "markdown",
   "metadata": {},
   "source": [
    "## 14.) Check consistency"
   ]
  },
  {
   "cell_type": "code",
   "execution_count": 243,
   "metadata": {},
   "outputs": [
    {
     "data": {
      "text/plain": [
       "checkConsistency"
      ]
     },
     "execution_count": 243,
     "metadata": {},
     "output_type": "execute_result"
    }
   ],
   "source": [
    "\"\"\"\n",
    "Check if configuration is consistent.\n",
    "\"\"\"\n",
    "function checkConsistency(a,b,bsites,spin,Nsites)\n",
    "    bndids = findall(x->x>0,b)\n",
    "    nbndsd = length(bndids)\n",
    "    for i in 1:nbndsd\n",
    "        bnd = b[bndids[i]]\n",
    "        s1 = spin[bsites[bnd,1]]\n",
    "        s2 = spin[bsites[bnd,2]]\n",
    "        if s1 == s2\n",
    "            print(\"id= \",bndids[i],\"Bond = \",bnd,\"\\n\")\n",
    "            print(\"Inconsistent confiugration\\n\")\n",
    "            return(false)\n",
    "        end\n",
    "        if a[bndids[i]] == 2\n",
    "            # propagate the state\n",
    "            spin[bsites[bnd,1]] *=-1\n",
    "            spin[bsites[bnd,2]] *=-1\n",
    "        end\n",
    "    end\n",
    "    return(true)\n",
    "end"
   ]
  },
  {
   "cell_type": "markdown",
   "metadata": {},
   "source": [
    "## 15. Vertex List function"
   ]
  },
  {
   "cell_type": "code",
   "execution_count": 150,
   "metadata": {},
   "outputs": [
    {
     "data": {
      "text/plain": [
       "makeVertexListOperatorBased"
      ]
     },
     "execution_count": 150,
     "metadata": {},
     "output_type": "execute_result"
    }
   ],
   "source": [
    "\"\"\"\n",
    "   makeVertexList()\n",
    "Simple algorithm to make the vertexlist\n",
    "according to looping over operators\n",
    "\"\"\"\n",
    "function makeVertexListOperatorBased(a,b,opstring,Nsites,M,bsites)\n",
    "    xv     = -1*ones(Int,M*Nsites)\n",
    "    vfirst = -1*ones(Int,Nsites)\n",
    "    vlast  = -1*ones(Int,Nsites)\n",
    "    opidxs = findall(x->x>0,a)\n",
    "    \n",
    "    # Set the direct links\n",
    "    for i in opidxs\n",
    "        \n",
    "        # bond id\n",
    "        bnd = b[i]\n",
    "        p = i-1\n",
    "        \n",
    "        # 1st and 2nd spins\n",
    "        s1  = bsites[bnd,1]\n",
    "        s2  = bsites[bnd,2]\n",
    "        \n",
    "        # vertix ids\n",
    "        v0 = 4*(p) \n",
    "        v1 = vlast[s1]\n",
    "        v2 = vlast[s2]\n",
    "        \n",
    "        # First spin\n",
    "        if v1 != -1\n",
    "            xv[v1+1] = v0+1\n",
    "            xv[v0+1] = v1+1\n",
    "        else\n",
    "            vfirst[s1] = v0\n",
    "        end\n",
    "        \n",
    "        # Second spin\n",
    "        if v2 != -1\n",
    "            xv[v2+1] = v0+1+1\n",
    "            xv[v0+1+1] = v2+1\n",
    "        else\n",
    "            vfirst[s2] = v0 + 1\n",
    "        end\n",
    "        \n",
    "        vlast[s1] = v0 + 2\n",
    "        vlast[s2] = v0 + 3\n",
    "    end\n",
    "    \n",
    "    # Set the winding links\n",
    "    for i in 1:Nsites\n",
    "        v1 = vlast[i]\n",
    "        v2 = vfirst[i]\n",
    "        if v1 != -1 && v2 != -1\n",
    "            xv[v1+1] = v2+1\n",
    "            xv[v2+1] = v1+1\n",
    "        end\n",
    "    end\n",
    "    return(vfirst,vlast,xv)\n",
    "end\n"
   ]
  },
  {
   "cell_type": "markdown",
   "metadata": {},
   "source": [
    "## 16.) Loop update"
   ]
  },
  {
   "cell_type": "code",
   "execution_count": 239,
   "metadata": {},
   "outputs": [
    {
     "data": {
      "text/plain": [
       "traverseLoop"
      ]
     },
     "execution_count": 239,
     "metadata": {},
     "output_type": "execute_result"
    }
   ],
   "source": [
    "\"\"\"\n",
    "    loopUpdateSimple(xv,vfirst,vlast,b)\n",
    "Updates the operator types in b according to\n",
    "loops given by xv.\n",
    "\"\"\"\n",
    "function loopUpdateSimple!(xv,vfirst,a,opstring,spins)\n",
    "\n",
    "    M = size(a)[1]\n",
    "    opidxs = findall(x->x>0,a)\n",
    "    dimxv = size(xv)[1]\n",
    "    for v0 in 1:2:dimxv\n",
    "        if xv[v0] < 0 \n",
    "            continue\n",
    "        end\n",
    "\n",
    "        # Traverse\n",
    "        rand = getRand()\n",
    "#        print(\"Starting loop: (\",rand<1/2,\") \",v0,\"\\n\")\n",
    "        if rand < 1/2\n",
    "            # traverse no flip\n",
    "            flipit = false\n",
    "            traverseLoop(v0,flipit,opstring,xv)\n",
    "        else\n",
    "            # traverse and flip\n",
    "            flipit = true\n",
    "            traverseLoop(v0,flipit,opstring,xv)\n",
    "        end\n",
    "        \n",
    "#        printVertexVector(xv,M,Nsites)\n",
    "    end\n",
    "    \n",
    "    # update spins\n",
    "    for i in 1:Nsites\n",
    "        v = vfirst[i]\n",
    "        if v == -1\n",
    "            # flip spin\n",
    "            rand = getRand()\n",
    "            if rand < 1/2\n",
    "                spins[i] *= -1\n",
    "            end\n",
    "        else\n",
    "            v += 1\n",
    "            # check if loop is flipped\n",
    "            if xv[v] == -2\n",
    "                spins[i] *= -1\n",
    "            end\n",
    "        end\n",
    "    end\n",
    "    \n",
    "    # Update a \n",
    "    M = size(opstring)[1]\n",
    "#    print(opstring,\"\\n\")\n",
    "    for i in 1:M\n",
    "        if opstring[i] > 0\n",
    "            a[i] = (opstring[i]%2) + 1\n",
    "        end\n",
    "    end\n",
    "#    print(a,\"\\n\")\n",
    "    return 0\n",
    "end\n",
    "\n",
    "\n",
    "\"\"\"\n",
    "   traverseLoop(v0,flipit,b,xv)\n",
    "Traverses a vertex list and marks\n",
    "visited vertices, flips bonds conditionally.\n",
    "\"\"\"\n",
    "function traverseLoop(v0,flipit,opstring,xv)\n",
    "    v = v0\n",
    "    while true\n",
    "\n",
    "        # Flip bit\n",
    "        if flipit\n",
    "            p=((v-1)÷4) + 1\n",
    "#            print(\"\\t---> \",p,\" \")\n",
    "            opstring[p] = flipbit(opstring[p],1)\n",
    "            xv[v]=-2            \n",
    "        else\n",
    "            xv[v]=-1\n",
    "        end\n",
    "        \n",
    "        # Get next bit\n",
    "        vp = flipbit(v-1,1)+1\n",
    "#        print(v,\" \",vp,\"\\n\")\n",
    "        v = xv[vp]\n",
    "        # Flip bit\n",
    "        if flipit\n",
    "            xv[vp]=-2            \n",
    "        else\n",
    "            xv[vp]=-1\n",
    "        end\n",
    "        \n",
    "        # Check for loop closure\n",
    "        if v == v0\n",
    "            break\n",
    "        end\n",
    "    end\n",
    "end"
   ]
  },
  {
   "cell_type": "code",
   "execution_count": null,
   "metadata": {},
   "outputs": [],
   "source": []
  }
 ],
 "metadata": {
  "kernelspec": {
   "display_name": "Julia 1.3.0",
   "language": "julia",
   "name": "julia-1.3"
  },
  "language_info": {
   "file_extension": ".jl",
   "mimetype": "application/julia",
   "name": "julia",
   "version": "1.3.0"
  }
 },
 "nbformat": 4,
 "nbformat_minor": 4
}
