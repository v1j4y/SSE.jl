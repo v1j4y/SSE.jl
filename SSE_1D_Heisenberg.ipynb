{
 "cells": [
  {
   "cell_type": "markdown",
   "metadata": {},
   "source": [
    "# SSE 1D Heisenberg"
   ]
  },
  {
   "cell_type": "markdown",
   "metadata": {},
   "source": [
    "## I. Theory"
   ]
  },
  {
   "cell_type": "markdown",
   "metadata": {},
   "source": [
    "The objective of the method is to calculate the expectation value of an observable $\\hat{A}$ as follows:\n",
    "\n",
    "$$\n",
    "<\\hat{A}> = \\frac{1}{Z}Tr\\left\\{ \\hat{A}e^{-\\beta\\hat{H}}\\right\\}\n",
    "$$\n",
    "\n",
    "with $Z = Tr\\left\\{ e^{-\\beta\\hat{H}}\\right\\}$.\n",
    "\n",
    "The Hamiltonian is made up of a sum of non-commuting terms $\\hat{H} = \\sum^M_i \\hat{H}_i , [\\hat{H}_i,\\hat{H}_j] \\ne 0$ for any i, j"
   ]
  },
  {
   "cell_type": "markdown",
   "metadata": {},
   "source": [
    "This trace can be rewritten in terms of a summation over the expectation values of product of Hamiltonian terms of a given order $n$ such as:\n",
    "\n",
    "$$\n",
    "Z = \\sum^{\\infty}_n \\sum_{\\{C_n\\}} \\frac{(-\\beta)^n}{n!} Tr\\left\\{\\prod^n_{j=1} \\hat{H}_{l_j} \\right\\}\n",
    "$$"
   ]
  },
  {
   "cell_type": "markdown",
   "metadata": {},
   "source": [
    "Where $C_n$ gives all the possible combinations of product terms of bonds indices $(l_1,l_2,\\dots,l_n)$ of order $n$ with $1\\le l_i \\le M$ where $M$ is the number of operators in the summation of the Hamiltonian terms $\\hat{H}_i$.\n",
    "\n",
    "With this reordering, the expectation value of an operator $<\\hat{A}>$ can be written as:\n",
    "\n",
    "$$\n",
    "<\\hat{A}> = \\sum^{\\infty}_n\\sum_{\\{C_n\\}} A(C_n)W(C_n)\n",
    "$$"
   ]
  },
  {
   "cell_type": "markdown",
   "metadata": {},
   "source": [
    "where $A(C_n)$ and $W(C_n)$ are given by:\n",
    "\n",
    "$$\n",
    "A(C_n) =  Tr\\left\\{\\hat{A}\\prod^n_{j=1}\\hat{H}_{l_j} \\right\\}\\bigg/Tr\\left\\{\\prod^n_{j=1}\\hat{H}_{l_j} \\right\\} \\ \\text{if}\\ W(C_n) \\ne 0\\\\ 0,W(C_n) = 0\n",
    "$$\n",
    "\n",
    "$$\n",
    "W(C_n) = \\frac{1}{Z}\\frac{(-\\beta)^n}{n!}Tr\\left\\{\\prod^n_{j=1}\\hat{H}_{l_j} \\right\\}\n",
    "$$"
   ]
  },
  {
   "cell_type": "markdown",
   "metadata": {},
   "source": [
    "If the weights $W(C_n)$ are all positive, $<\\hat{A}>$ can be sampled in a MC simulation and the value can be extracted.\n",
    "\n",
    "$$\n",
    "<\\hat{A}> = <A(C_n)>_W\n",
    "$$"
   ]
  },
  {
   "cell_type": "markdown",
   "metadata": {},
   "source": [
    "The expectation value can be calculated by expanding the trace in terms of a basis representation which is chosen as a list of string with the $\\hat{S}_{z_j}$ component of each site $\\alpha=[S_1,S_2,\\dots,S_N]$.\n",
    "\n",
    "$$\n",
    "<\\hat{A}> = \\frac{1}{Z}\\sum_{\\alpha}\\sum^{L}_n \\sum_{\\{C_n\\}} \\frac{(-\\beta)^n}{n!}<\\alpha|\\hat{A}\\prod^{n}_{j=1}\\hat{H}_{l_j}|\\alpha>\n",
    "$$"
   ]
  },
  {
   "cell_type": "markdown",
   "metadata": {},
   "source": [
    "## II. Algorithm"
   ]
  },
  {
   "cell_type": "markdown",
   "metadata": {},
   "source": [
    "The states are represented as a list of the per site $S^z_i$ values as follows:\n",
    "\n",
    "$$\n",
    "|\\alpha> = |S^z_1,S^z_2,\\dots,S^z_N>\n",
    "$$\n",
    "\n",
    "The Heisenberg Hamiltonian given below is simplified as follows\n",
    "\n",
    "$$\n",
    "\\hat{H} = \\sum^{B}_{b=1} \\left[ \\hat{S}^z_{i(b)}\\cdot\\hat{S}^z_{j(b)} + \\frac{1}{2} \\left( S^+_{i(b)}\\cdot S^-_{j(b)} + S^-_{i(b)}\\cdot S^+_{j(b)} \\right) \\right]\n",
    "$$"
   ]
  },
  {
   "cell_type": "markdown",
   "metadata": {},
   "source": [
    "The two parts of the Hamiltonian are broken down and shifted in order to make all the expectation values non-negative.\n",
    "\n",
    "$$\n",
    "\\hat{H}_{1,b} = \\frac{1}{4} - \\hat{S}^z_{i(b)}\\cdot\\hat{S}^z_{j(b)} \\\\ \\hat{H}_{2,b} = \\frac{1}{2} \\left( S^+_{i(b)}\\cdot S^-_{j(b)} + S^-_{i(b)}\\cdot S^+_{j(b)} \\right) \n",
    "$$\n",
    "\n",
    "Therefore, the Hamiltonian is written as:\n",
    "\n",
    "$$\n",
    "\\hat{H} = -\\sum^B_{b=1}\\sum^2_a \\left[ \\hat{H}_{a,b} \\right]\n",
    "$$\n",
    "\n",
    "with a phase convention for the off-diagonal operators."
   ]
  },
  {
   "cell_type": "markdown",
   "metadata": {},
   "source": [
    "The SSE operator products in the partition function are given by\n",
    "$$\n",
    "\\prod^M_p \\hat{H}_{a(p),b(p)}\n",
    "$$"
   ]
  },
  {
   "cell_type": "markdown",
   "metadata": {},
   "source": [
    "The lists $a(p)$ and $b(p)$ are stored in a vector which give the operators acting at each time step $p$\n",
    "\n",
    "and the operator string is given by $opstring(p) = 2 b(p) + a(p) - 1$ with the identity represented by $0$."
   ]
  },
  {
   "cell_type": "code",
   "execution_count": 357,
   "metadata": {},
   "outputs": [
    {
     "name": "stdout",
     "output_type": "stream",
     "text": [
      "i  \t a \t b \topstring\n",
      "\n",
      "1>\t1.0\t2.0\t4.0\n",
      "2>\t0.0\t0.0\t0.0\n",
      "3>\t2.0\t4.0\t9.0\n",
      "4>\t2.0\t6.0\t13.0\n",
      "5>\t1.0\t3.0\t6.0\n",
      "6>\t0.0\t0.0\t0.0\n",
      "7>\t0.0\t0.0\t0.0\n",
      "8>\t1.0\t2.0\t4.0\n",
      "9>\t2.0\t6.0\t13.0\n",
      "10>\t0.0\t0.0\t0.0\n",
      "11>\t2.0\t4.0\t9.0\n",
      "12>\t1.0\t7.0\t14.0\n"
     ]
    }
   ],
   "source": [
    "MaxM = 12\n",
    "\n",
    "a = zeros(MaxM)\n",
    "a[1]=1\n",
    "a[3]=2\n",
    "a[4]=2\n",
    "a[5]=1\n",
    "a[8]=1\n",
    "a[9]=2\n",
    "a[11]=2\n",
    "a[12]=1\n",
    "b = zeros(MaxM)\n",
    "b[1]=2\n",
    "b[3]=4\n",
    "b[4]=6\n",
    "b[5]=3\n",
    "b[8]=2\n",
    "b[9]=6\n",
    "b[11]=4\n",
    "b[12]=7\n",
    "opstring = zeros(MaxM)\n",
    "bsites = makeBsites(Nsites)\n",
    "buildOpstring!(opstring,a,b)\n",
    "print(\"i  \\t a \\t b \\topstring\\n\\n\")\n",
    "for i in 1:MaxM\n",
    "    print(i,\">\",\"\\t\",a[i],\"\\t\",b[i],\"\\t\",opstring[i],\"\\n\")\n",
    "end"
   ]
  },
  {
   "cell_type": "markdown",
   "metadata": {},
   "source": [
    "The configuration is stored in the spin variable which contains $spin[i] = 2S^z_i$"
   ]
  },
  {
   "cell_type": "code",
   "execution_count": 358,
   "metadata": {},
   "outputs": [
    {
     "name": "stdout",
     "output_type": "stream",
     "text": [
      "Spin = 1.0 1.0 -1.0 -1.0 1.0 -1.0 1.0 -1.0 \n"
     ]
    }
   ],
   "source": [
    "spin = 1.0*[1; 1; -1; -1; 1; -1; 1; -1]\n",
    "print(\"Spin = \")\n",
    "for i in 1:8\n",
    "    print(spin[i],\" \")\n",
    "end\n",
    "print(\"\\n\")"
   ]
  },
  {
   "cell_type": "markdown",
   "metadata": {},
   "source": [
    "The connection of pair of spins to a bond is stored in $bsites$ which is a $MaxM x 2$ matrix with $bsites[b,1]$ giving the ms of the 1st site and $bsites[b,2]$ giving the ms of the second site.\n"
   ]
  },
  {
   "cell_type": "code",
   "execution_count": 144,
   "metadata": {
    "jupyter": {
     "source_hidden": true
    }
   },
   "outputs": [
    {
     "data": {
      "text/plain": [
       "7×2 Array{Float64,2}:\n",
       " 1.0  2.0\n",
       " 2.0  3.0\n",
       " 3.0  4.0\n",
       " 4.0  5.0\n",
       " 5.0  6.0\n",
       " 6.0  7.0\n",
       " 7.0  8.0"
      ]
     },
     "execution_count": 144,
     "metadata": {},
     "output_type": "execute_result"
    }
   ],
   "source": [
    "Nsites = 8\n",
    "makeBsites(Nsites)"
   ]
  },
  {
   "cell_type": "markdown",
   "metadata": {},
   "source": [
    "### a.) Visualize SSE config"
   ]
  },
  {
   "cell_type": "markdown",
   "metadata": {},
   "source": [
    "An example of an SSE configuration and propagated states for $M=12$ and $8$ sites is shown below."
   ]
  },
  {
   "cell_type": "code",
   "execution_count": 367,
   "metadata": {},
   "outputs": [
    {
     "data": {
      "image/png": "[encoded data removed]",
      "text/plain": [
       "Figure(PyObject <Figure size 640x480 with 1 Axes>)"
      ]
     },
     "metadata": {},
     "output_type": "display_data"
    },
    {
     "name": "stdout",
     "output_type": "stream",
     "text": [
      "    1.0       1.0       -1.0       -1.0       1.0       -1.0       1.0       -1.0       "
     ]
    },
    {
     "data": {
      "text/plain": [
       "PyObject <matplotlib.collections.LineCollection object at 0x160d989e8>"
      ]
     },
     "execution_count": 367,
     "metadata": {},
     "output_type": "execute_result"
    }
   ],
   "source": [
    "drawSSEConfig(Nsites,MaxM,a,b,spin)"
   ]
  },
  {
   "cell_type": "markdown",
   "metadata": {},
   "source": [
    "### b.) Make vertex list"
   ]
  },
  {
   "cell_type": "markdown",
   "metadata": {},
   "source": [
    "The most important function to build then is the loop calculation algorithm which gives the list of all the closed loops for a given SSE configuration."
   ]
  },
  {
   "cell_type": "code",
   "execution_count": 368,
   "metadata": {},
   "outputs": [
    {
     "name": "stdout",
     "output_type": "stream",
     "text": [
      "\n",
      "\n",
      "l = \t  1\t\t\t  2\t\t\t  3\t\t\t  4\t\t\t  \n",
      "\n",
      "\t [1]\t39.0\t\t [2]\t40.0\t\t [3]\t37.0\t\t [4]\t38.0\t\n",
      "\t [5]\t0.0\t\t [6]\t0.0\t\t [7]\t0.0\t\t [8]\t0.0\t\n",
      "\t [9]\t43.0\t\t [10]\t44.0\t\t [11]\t41.0\t\t [12]\t21.0\t\n",
      "\t [13]\t24.0\t\t [14]\t20.0\t\t [15]\t17.0\t\t [16]\t18.0\t\n",
      "\t [17]\t15.0\t\t [18]\t16.0\t\t [19]\t22.0\t\t [20]\t26.0\t\n",
      "\t [21]\t12.0\t\t [22]\t19.0\t\t [23]\t42.0\t\t [24]\t25.0\t\n",
      "\t [25]\t24.0\t\t [26]\t20.0\t\t [27]\t33.0\t\t [28]\t34.0\t\n",
      "\t [29]\t0.0\t\t [30]\t0.0\t\t [31]\t0.0\t\t [32]\t0.0\t\n",
      "\t [33]\t27.0\t\t [34]\t28.0\t\t [35]\t22.0\t\t [36]\t26.0\t\n",
      "\t [37]\t3.0\t\t [38]\t4.0\t\t [39]\t45.0\t\t [40]\t46.0\t\n",
      "\t [41]\t11.0\t\t [42]\t23.0\t\t [43]\t9.0\t\t [44]\t10.0\t\n",
      "\t [45]\t39.0\t\t [46]\t40.0\t\t [47]\t37.0\t\t [48]\t38.0\t\n"
     ]
    }
   ],
   "source": [
    "vlist = makeVertexList(a,b)\n",
    "printVertexList(vlist)"
   ]
  },
  {
   "cell_type": "markdown",
   "metadata": {},
   "source": [
    "### c.) Make loop list"
   ]
  },
  {
   "cell_type": "markdown",
   "metadata": {},
   "source": [
    "Finally, all the closed loops need to be calculated for a given $opstring$ and set of bonds $b$ acting on a configuration $spin$\n",
    "\n",
    "For the above SSE configuration, the only big closed loop is:"
   ]
  },
  {
   "cell_type": "code",
   "execution_count": 369,
   "metadata": {},
   "outputs": [
    {
     "data": {
      "text/plain": [
       "7-element Array{Any,1}:\n",
       "  3\n",
       "  6\n",
       "  5\n",
       "  7\n",
       "  6\n",
       " 11\n",
       "  3"
      ]
     },
     "execution_count": 369,
     "metadata": {},
     "output_type": "execute_result"
    }
   ],
   "source": [
    "findLoops(vlist,3,4)"
   ]
  },
  {
   "cell_type": "code",
   "execution_count": 366,
   "metadata": {},
   "outputs": [
    {
     "name": "stdout",
     "output_type": "stream",
     "text": [
      "0\n",
      "12-element Array{Float64,1}:\n",
      " 1.0\n",
      " 0.0\n",
      " 2.0\n",
      " 2.0\n",
      " 1.0\n",
      " 1.0\n",
      " 1.0\n",
      " 0.0\n",
      " 2.0\n",
      " 1.0\n",
      " 2.0\n",
      " 1.0\n",
      "12-element Array{Float64,1}:\n",
      " 2.0\n",
      " 0.0\n",
      " 4.0\n",
      " 6.0\n",
      " 6.0\n",
      " 5.0\n",
      " 6.0\n",
      " 0.0\n",
      " 6.0\n",
      " 2.0\n",
      " 4.0\n",
      " 2.0\n",
      "12-element Array{Float64,1}:\n",
      "  4.0\n",
      "  0.0\n",
      "  9.0\n",
      " 13.0\n",
      " 12.0\n",
      " 10.0\n",
      " 12.0\n",
      "  0.0\n",
      " 13.0\n",
      "  4.0\n",
      "  9.0\n",
      "  4.0\n",
      "6"
     ]
    }
   ],
   "source": [
    "n=size(a[findall(x->x==1,a)])[1]\n",
    "print(n)\n",
    "β = 1.001\n",
    "n = diagUpdate!(a,b,opstring,spin,bsites,n,MaxM,Nsites,β)\n",
    "printmat(a)\n",
    "printmat(b)\n",
    "printmat(opstring)\n",
    "print(\"\\n\",n)"
   ]
  },
  {
   "cell_type": "markdown",
   "metadata": {},
   "source": [
    "## III. Updates"
   ]
  },
  {
   "cell_type": "markdown",
   "metadata": {},
   "source": [
    "The first type of update is the diagonal update where a $\\hat{S}^z_b(p)$ operator is put for a randomly chosen bond $b$ and this is carried out for each time dimension $p$. \n",
    "\n",
    "The condition for adding a diagonal operator $\\hat{S}^z_b(p)$ is that the two spins making up the bond $b$ i.e. $S_{i(b)}$ and $S_{j(b)}$ should be unequal i.e. the spins should be anti-parallel."
   ]
  },
  {
   "cell_type": "code",
   "execution_count": 327,
   "metadata": {},
   "outputs": [
    {
     "name": "stdout",
     "output_type": "stream",
     "text": [
      "spin = [1.0, 1.0, 1.0, -1.0, 1.0, 1.0, -1.0, -1.0]\n",
      "\n",
      "7×2 Array{Float64,2}:\n",
      " 1.0  2.0\n",
      " 2.0  3.0\n",
      " 3.0  4.0\n",
      " 4.0  5.0\n",
      " 5.0  6.0\n",
      " 6.0  7.0\n",
      " 7.0  8.0\n",
      "12-element Array{Float64,1}:\n",
      " 1.0\n",
      " 0.0\n",
      " 0.0\n",
      " 1.0\n",
      " 0.0\n",
      " 1.0\n",
      " 0.0\n",
      " 0.0\n",
      " 0.0\n",
      " 1.0\n",
      " 1.0\n",
      " 0.0\n",
      "12-element Array{Float64,1}:\n",
      " 6.0\n",
      " 0.0\n",
      " 0.0\n",
      " 3.0\n",
      " 0.0\n",
      " 3.0\n",
      " 0.0\n",
      " 0.0\n",
      " 0.0\n",
      " 6.0\n",
      " 3.0\n",
      " 0.0\n",
      "12-element Array{Float64,1}:\n",
      " 12.0\n",
      "  0.0\n",
      "  0.0\n",
      "  6.0\n",
      "  0.0\n",
      "  6.0\n",
      "  0.0\n",
      "  0.0\n",
      "  0.0\n",
      " 12.0\n",
      "  6.0\n",
      "  0.0"
     ]
    }
   ],
   "source": [
    "MaxM = 12\n",
    "a = zeros(MaxM)\n",
    "b = zeros(MaxM)\n",
    "opstring = zeros(MaxM)\n",
    "β = 0.1\n",
    "n = 0\n",
    "M = 12\n",
    "Nsites = 8\n",
    "spin = [(i-0.5)/abs(i-0.5) for i in rand(Nsites)]\n",
    "bsites = makeBsites(Nsites)\n",
    "print(\"spin = \",spin,\"\\n\")\n",
    "printmat(bsites)\n",
    "diagUpdate!(a,b,opstring,spin,bsites,n,MaxM,Nsites,β)\n",
    "printmat(a)\n",
    "printmat(b)\n",
    "printmat(opstring)"
   ]
  },
  {
   "cell_type": "markdown",
   "metadata": {},
   "source": []
  },
  {
   "cell_type": "markdown",
   "metadata": {},
   "source": []
  },
  {
   "cell_type": "markdown",
   "metadata": {},
   "source": [
    "----------"
   ]
  },
  {
   "cell_type": "markdown",
   "metadata": {},
   "source": [
    "# Function definitions"
   ]
  },
  {
   "cell_type": "markdown",
   "metadata": {},
   "source": [
    "## 1.) buildOpstring"
   ]
  },
  {
   "cell_type": "code",
   "execution_count": 2,
   "metadata": {
    "jupyter": {
     "source_hidden": true
    }
   },
   "outputs": [
    {
     "data": {
      "text/plain": [
       "buildOpstring!"
      ]
     },
     "execution_count": 2,
     "metadata": {},
     "output_type": "execute_result"
    }
   ],
   "source": [
    "\"\"\"\n",
    "Build opstring given the operator list a and b\n",
    "\"\"\"\n",
    "function buildOpstring!(opstring,a,b)\n",
    "    dim = length(a);\n",
    "    eye = ones(dim);\n",
    "    idxa = a .== 0;\n",
    "    idxb = b .== 0;\n",
    "    eye[idxa] .= 0;\n",
    "    opstring .= 2 * b + a - eye;\n",
    "end"
   ]
  },
  {
   "cell_type": "markdown",
   "metadata": {},
   "source": [
    "## 2.) Printmatrix"
   ]
  },
  {
   "cell_type": "code",
   "execution_count": 4,
   "metadata": {
    "jupyter": {
     "source_hidden": true
    }
   },
   "outputs": [
    {
     "data": {
      "text/plain": [
       "printmat (generic function with 1 method)"
      ]
     },
     "execution_count": 4,
     "metadata": {},
     "output_type": "execute_result"
    }
   ],
   "source": [
    "function printmat(mat)\n",
    "    print(\"\\n\")\n",
    "    show(Base.stdout, MIME\"text/plain\"(),mat)\n",
    "end"
   ]
  },
  {
   "cell_type": "markdown",
   "metadata": {},
   "source": [
    "## 3.) Bsites"
   ]
  },
  {
   "cell_type": "code",
   "execution_count": 106,
   "metadata": {
    "jupyter": {
     "source_hidden": true
    }
   },
   "outputs": [
    {
     "data": {
      "text/plain": [
       "makeBsites"
      ]
     },
     "execution_count": 106,
     "metadata": {},
     "output_type": "execute_result"
    }
   ],
   "source": [
    "\"\"\"\n",
    "Make Bsites for 1D Heisenberg\\n\n",
    "Nsites - the number of sites\n",
    "\"\"\"\n",
    "function makeBsites(Nsites)\n",
    "    bsites = zeros(Nsites-1,2)\n",
    "    bsites[:,1] = 1:Nsites-1\n",
    "    bsites[:,2] = 2:Nsites\n",
    "    return bsites\n",
    "end\n"
   ]
  },
  {
   "cell_type": "markdown",
   "metadata": {},
   "source": [
    "## 4.) Make graph with a given a and b"
   ]
  },
  {
   "cell_type": "code",
   "execution_count": 49,
   "metadata": {
    "jupyter": {
     "source_hidden": true
    }
   },
   "outputs": [
    {
     "data": {
      "text/plain": [
       "drawSSEConfig"
      ]
     },
     "execution_count": 49,
     "metadata": {},
     "output_type": "execute_result"
    }
   ],
   "source": [
    "using ImageView, Images, TestImages\n",
    "using PyPlot\n",
    "using PyCall\n",
    "\n",
    "\"\"\"\n",
    "Draw SSE configuration with given\n",
    "a(p) and b(p) operators.\n",
    "Nsites - number of sites\n",
    "MaxM - number of time steps\n",
    "a - the op type\n",
    "b - the bond id for each op\n",
    "spin - the configuration list\n",
    "\"\"\"\n",
    "function drawSSEConfig(Nsites,MaxM,a,b,spin)\n",
    "    # draw the given opstring\n",
    "\n",
    "\n",
    "    nx = pyimport(\"networkx\")\n",
    "\n",
    "    m=2MaxM + 1\n",
    "    n=Nsites\n",
    "\n",
    "    G = nx.grid_2d_graph(n,m); # n, m grid \n",
    "    pos = Dict( (n, n) for n in G.nodes() );\n",
    "\n",
    "    color_map=[]\n",
    "    countcolor=1\n",
    "    for i in 0:n-1\n",
    "        for j in 0:m-1\n",
    "            if countcolor%2 == 0\n",
    "                push!(color_map,\"white\")\n",
    "            else\n",
    "                push!(color_map,\"blue\")\n",
    "            end\n",
    "            countcolor+=1\n",
    "        end\n",
    "        countcolor+=1\n",
    "    end\n",
    "\n",
    "    for j in 0:m-2\n",
    "        for i in 0:n-2\n",
    "            G.remove_edge((i,j),(i+1,j))\n",
    "            G.remove_edge((i,j),(i,j+1))\n",
    "        end\n",
    "        G.remove_edge((n-1,j),(n-1,j+1))\n",
    "    end\n",
    "    for i in 0:n-2\n",
    "        G.remove_edge((i,m-1),(i+1,m-1))\n",
    "    end\n",
    "\n",
    "    # make the ops by looping over the imaginary time axis\n",
    "    # use a for the time direction and b for the space dimension\n",
    "    #G.add_edge((0,m-2),(1,m-2))\n",
    "    width=[]\n",
    "    edge_color=[]\n",
    "    for i in 1:MaxM\n",
    "        if a[i] != 0 && b[i] < Nsites\n",
    "            J = m-2*i\n",
    "            I = trunc(Int,b[i]-1)\n",
    " #           print(I,\"\\t\",J,\"\\n\")\n",
    "            if a[i]==1\n",
    "                G.add_edge((I,J),(I+1,J))\n",
    "                push!(width,1.0)\n",
    "                push!(edge_color,\"brown\")\n",
    "            else\n",
    "                G.add_edge((I,J),(I+1,J))\n",
    "                push!(width,5.0)\n",
    "                push!(edge_color,\"black\")\n",
    "            end\n",
    "        end\n",
    "    end\n",
    "\n",
    "\n",
    "    edges=[]\n",
    "    edge_color=[]\n",
    "    width=[]\n",
    "    for (i,edge) in enumerate(G.edges)\n",
    "    #    edges[edge]=i\n",
    "        push!(edges,edge)\n",
    "        J = edge[2][1]\n",
    "        I = trunc(Int,MaxM-(edge[2][2]-1)/2)\n",
    "        if a[I]==2\n",
    "            push!(width,5.0)\n",
    "            push!(edge_color,\"black\")\n",
    "        else\n",
    "            push!(width,1.0)\n",
    "            push!(edge_color,\"brown\")\n",
    "        end\n",
    "    end\n",
    "\n",
    "    for j in 1:MaxM    \n",
    "        J = m-2*(j-1)        \n",
    "        for i in 0:n-1\n",
    "            I=i\n",
    "    #        print(J,\" \",I,\"\\t\",J*(m-1)+I,\"\\n\")\n",
    "            if spin[i+1] == 1\n",
    "                color_map[I*(m) + J] = \"red\"\n",
    "            else\n",
    "                color_map[i*(m) + J] = \"blue\"\n",
    "            end\n",
    "        end\n",
    "        if a[j]==2\n",
    "            for i in 0:n-1\n",
    "                if b[j]==i+1\n",
    "                    spin[i+1]*=-1\n",
    "                    spin[i+2]*=-1\n",
    "                end\n",
    "            end \n",
    "        end\n",
    "    end\n",
    "    for i in 0:n-1\n",
    "            J=m-2*(MaxM)\n",
    "            I=i\n",
    "            if spin[i+1] == 1\n",
    "                color_map[I*(m) + J] = \"red\"\n",
    "            else\n",
    "                color_map[i*(m) + J] = \"blue\"\n",
    "            end\n",
    "     end\n",
    "\n",
    "    print(\"    \")\n",
    "    for i in 1:Nsites\n",
    "        print(spin[i],\"       \")\n",
    "    end\n",
    "\n",
    "    nx.draw(G,pos,node_color=color_map, font_color=\"white\",node_size=25);\n",
    "    nx.draw_networkx_edges(G,pos,edgelist=edges,width=width,edge_color=edge_color);\n",
    "end"
   ]
  },
  {
   "cell_type": "markdown",
   "metadata": {},
   "source": [
    "## 5.) Make vertex list"
   ]
  },
  {
   "cell_type": "code",
   "execution_count": 287,
   "metadata": {},
   "outputs": [
    {
     "data": {
      "text/plain": [
       "makeVertexList"
      ]
     },
     "execution_count": 287,
     "metadata": {},
     "output_type": "execute_result"
    }
   ],
   "source": [
    "\"\"\"\n",
    "Function to build the vertex list\n",
    "a - the op types \n",
    "b - the bonds for each op\n",
    "\"\"\"\n",
    "function makeVertexList(a,b)\n",
    "    # find the number of operators\n",
    "    # and their locations\n",
    "    op_ids = findall(x->x > 0,a)\n",
    "#    print(\"Ids     =\",\"\\t\",op_ids,\"\\n\")\n",
    "    num_op = size(op_ids)[1]\n",
    "\n",
    "    # get bond corresponding to each operator\n",
    "    bond_op = b[op_ids]\n",
    "#    print(\"bond Id =\",\"\\t\",bond_op,\"\\n\")\n",
    "\n",
    "    # get bond type\n",
    "    bond_type = a[op_ids]\n",
    "#    print(\"bond Type=\",\"\\t\",bond_type,\"\\n\")\n",
    "\n",
    "    # make bond list which holds the ids of the ops\n",
    "    # which act on the same bond before and after the\n",
    "    # current op id\n",
    "    same_bond_list = zeros(num_op,4)\n",
    "    for i in 1:num_op\n",
    "        bid = bond_op[i]\n",
    "        idlist_same_bids = findall(x->x==bid,bond_op)\n",
    "        num_same_bid = size(idlist_same_bids)[1]\n",
    "        idcurrent = findall(x->x==i,idlist_same_bids)[1]\n",
    "    #    print(i,\"\\t\",idlist_same_bids,\"\\t\",idcurrent)\n",
    "        if num_same_bid > 1\n",
    "            if idcurrent > 1 && idcurrent < num_same_bid\n",
    "    #            print(\"\\t,\",\"prev=\",idlist_same_bids[idcurrent-1],\"\\t next=\",idlist_same_bids[idcurrent+1],\"\\n\")\n",
    "                same_bond_list[i,2] = idlist_same_bids[idcurrent-1]\n",
    "                same_bond_list[i,1] = i\n",
    "                same_bond_list[i,3] = idlist_same_bids[idcurrent+1]\n",
    "                same_bond_list[i,4] = 2\n",
    "            elseif idcurrent == 1\n",
    "    #            print(\"\\t\",\"next=\",idlist_same_bids[idcurrent+1],\"\\n\")\n",
    "                same_bond_list[i,1] = 3\n",
    "                same_bond_list[i,3] = idlist_same_bids[idcurrent+1]\n",
    "                same_bond_list[i,4] = 1\n",
    "            elseif idcurrent == num_same_bid\n",
    "    #            print(\"\\t\",\"prev=\",idlist_same_bids[idcurrent-1],\"\\n\")\n",
    "                same_bond_list[i,2] = idlist_same_bids[idcurrent-1]\n",
    "                same_bond_list[i,1] = 2\n",
    "                same_bond_list[i,4] = 1\n",
    "            end\n",
    "        else\n",
    "    #        print(\"\\n\")\n",
    "        end\n",
    "    end\n",
    "    #printmat(same_bond_list)\n",
    "\n",
    "    # make the list of op ids which act on bond ids\n",
    "    # one before and one after the current bond id\n",
    "    # e.g.\n",
    "    # -a-\n",
    "    #   |\n",
    "    #   |    -b-\n",
    "    #   |    |\n",
    "    #   1    2\n",
    "    #    ----\n",
    "    #   3    4\n",
    "    #   |    |\n",
    "    # -c-    |\n",
    "    #         -d-\n",
    "    #\n",
    "    # the stored indices will be [1,2,4,5] each for the\n",
    "    # four legs\n",
    "    print(\"\\n\")\n",
    "    diff_bond_list = zeros(num_op,4)\n",
    "    for i in 1:num_op\n",
    "        bid = bond_op[i]\n",
    "        if bid > 1 && bid < num_op\n",
    "            # first do the prev bond\n",
    "            idlist_prev_bid = findall(x->x==(bid-1),bond_op)\n",
    "            num_prev_bid = size(idlist_prev_bid)[1]\n",
    "            \n",
    "#            print(i,\" prev=\",idlist_prev_bid,\"\\t\")\n",
    "\n",
    "            if num_prev_bid > 0\n",
    "                # get the ids which are adjascent to the\n",
    "                # current id\n",
    "                ids_adjascent_prev = [searchsortedlast(idlist_prev_bid,i),searchsortedfirst(idlist_prev_bid,i)]\n",
    "#                print(\"Lsearch Ids=\",ids_adjascent_prev,\"\\t\")\n",
    "                diag_up = trunc(Int,same_bond_list[i,2])\n",
    "                diag_dn = trunc(Int,same_bond_list[i,3])\n",
    "                if ids_adjascent_prev[1] > 0 && ids_adjascent_prev[2] < num_prev_bid + 1               \n",
    "                    ids_adjascent_prev = ids_adjascent_prev[findall(x->x>0,ids_adjascent_prev)]\n",
    "                    ids_adjascent_prev = ids_adjascent_prev[findall(x->x<num_prev_bid+1,ids_adjascent_prev)]\n",
    "                    num_prev_bid = size(ids_adjascent_prev)[1]\n",
    "                    if diag_dn < idlist_prev_bid[ids_adjascent_prev[2]] && diag_dn > 0\n",
    "                        if diag_up > idlist_prev_bid[ids_adjascent_prev[1]]\n",
    "                            ids_adjascent_prev = []\n",
    "                            num_prev_bid = 0\n",
    "                        else\n",
    "                            ids_adjascent_prev = [ids_adjascent_prev[1]]\n",
    "                            num_prev_bid = 1\n",
    "                        end\n",
    "                    elseif diag_up > idlist_prev_bid[ids_adjascent_prev[1]]\n",
    "                        ids_adjascent_prev = [ids_adjascent_prev[2]]\n",
    "                        num_prev_bid = 1                      \n",
    "                    end\n",
    "                    winded_bond = false\n",
    "                elseif ids_adjascent_prev[1] == 0\n",
    "                    if diag_dn > idlist_prev_bid[1] || diag_dn == 0\n",
    "                        ids_adjascent_prev = ids_adjascent_prev[findall(x->x>0,ids_adjascent_prev)]\n",
    "                        ids_adjascent_prev = ids_adjascent_prev[findall(x->x<num_prev_bid+1,ids_adjascent_prev)]\n",
    "                        num_prev_bid = size(ids_adjascent_prev)[1]\n",
    "                        winded_bond = false                    \n",
    "                    else\n",
    "                        # if there are no diagonal terms above this then we take the \n",
    "                        # last one on the next list\n",
    "                        if same_bond_list[i,2] == 0.0\n",
    "                            ids_adjascent_prev = [size(idlist_prev_bid)[1]]\n",
    "                            num_prev_bid = 1\n",
    "                            winded_bond = true\n",
    "                        else\n",
    "                            ids_adjascent_prev = []\n",
    "                            num_next_bid = 0\n",
    "                        end                    \n",
    "                    end\n",
    "                elseif ids_adjascent_prev[2] == num_prev_bid + 1\n",
    "                    if diag_up < idlist_prev_bid[end]\n",
    "#                        print(\"L cond 3 \",i,\"\\t\")\n",
    "                        ids_adjascent_prev = ids_adjascent_prev[findall(x->x>0,ids_adjascent_prev)]\n",
    "                        ids_adjascent_prev = ids_adjascent_prev[findall(x->x<num_prev_bid+1,ids_adjascent_prev)]\n",
    "                        num_prev_bid = size(ids_adjascent_prev)[1]\n",
    "#                        print(ids_adjascent_prev,\"\\t\")\n",
    "                        winded_bond = false \n",
    "                        if diag_dn == 0 && diag_up > idlist_prev_bid[1]\n",
    "                            p_dn = op_ids[idlist_prev_bid[1]]\n",
    "                            diff_bond_list[i,3] = 4*(p_dn - 1) + 2\n",
    "                        end\n",
    "                    else\n",
    "                        # if there are no diagonal terms below then \n",
    "                        # the winded leg attaches to the first of the next bid\n",
    "                        if same_bond_list[i,3] == 0.0\n",
    "                            ids_adjascent_prev = [1]\n",
    "                            num_next_bid = 1\n",
    "                            winded_bond = true\n",
    "                        else\n",
    "                            ids_adjascent_prev = []\n",
    "                            num_next_bid = 0\n",
    "                        end                    \n",
    "                    end\n",
    "                end\n",
    "            end\n",
    "\n",
    "            # next do the next bond\n",
    "            idlist_next_bid = findall(x->x==(bid+1),bond_op)\n",
    "            num_next_bid = size(idlist_next_bid)[1]\n",
    "\n",
    "#            print(i,\" next=\",idlist_next_bid,\"\\t\")\n",
    "\n",
    "            if num_next_bid > 0\n",
    "                ids_adjascent_next = [searchsortedlast(idlist_next_bid,i),searchsortedfirst(idlist_next_bid,i)]\n",
    "#                print(\"Rsearch Ids=\",ids_adjascent_next,\"\\t\")\n",
    "                diag_up = trunc(Int,same_bond_list[i,2])\n",
    "                diag_dn = trunc(Int,same_bond_list[i,3])\n",
    "    #            print(\"up dn \",diag_up,\" \",diag_dn,\"\\t\")\n",
    "                if ids_adjascent_next[1] > 0 && ids_adjascent_next[2] < num_next_bid + 1 \n",
    "                    # found two \n",
    "    #                print(ids_adjascent_next,\"\\t\")\n",
    "                    ids_adjascent_next = ids_adjascent_next[findall(x->x>0,ids_adjascent_next)]\n",
    "                    ids_adjascent_next = ids_adjascent_next[findall(x->x<num_next_bid+1,ids_adjascent_next)]\n",
    "                    num_next_bid = size(ids_adjascent_next)[1]\n",
    "                    if diag_dn < idlist_next_bid[ids_adjascent_next[2]] && diag_dn > 0\n",
    "                        if diag_up > idlist_next_bid[ids_adjascent_next[1]]\n",
    "                            ids_adjascent_next = []\n",
    "                            num_next_bid = 0\n",
    "                        else\n",
    "                            ids_adjascent_next = [ids_adjascent_next[1]]\n",
    "                            num_next_bid = 1\n",
    "                        end\n",
    "                    elseif diag_up > idlist_next_bid[ids_adjascent_next[1]]\n",
    "                        ids_adjascent_next = [ids_adjascent_next[2]]\n",
    "                        num_next_bid = 1                     \n",
    "                    end\n",
    "                    winded_bond = false\n",
    "                elseif ids_adjascent_next[1] == 0\n",
    "                    if diag_dn > idlist_next_bid[1] || diag_dn == 0\n",
    "                        ids_adjascent_next = ids_adjascent_next[findall(x->x>0,ids_adjascent_next)]\n",
    "                        ids_adjascent_next = ids_adjascent_next[findall(x->x<num_next_bid+1,ids_adjascent_next)]\n",
    "                        num_next_bid = size(ids_adjascent_next)[1]\n",
    "                        winded_bond = false                     \n",
    "                    else\n",
    "                        # if there are no diagonal terms above this then we take the \n",
    "                        # last one on the next list\n",
    "                        if same_bond_list[i,2] == 0.0\n",
    "                            ids_adjascent_next = [size(idlist_next_bid)[1]]\n",
    "                            num_next_bid = 1\n",
    "                            winded_bond = true\n",
    "                        else\n",
    "                            ids_adjascent_next = []\n",
    "                            num_next_bid = 0\n",
    "                        end\n",
    "                    end\n",
    "                elseif ids_adjascent_next[2] == num_next_bid + 1\n",
    "                    if diag_up < idlist_next_bid[end]\n",
    "                        ids_adjascent_next = ids_adjascent_next[findall(x->x>0,ids_adjascent_next)]\n",
    "                        ids_adjascent_next = ids_adjascent_next[findall(x->x<num_next_bid+1,ids_adjascent_next)]\n",
    "                        num_next_bid = size(ids_adjascent_next)[1]\n",
    "                        winded_bond = false        \n",
    "                        if diag_up == 0 && diag_dn > idlist_next_bid[1]\n",
    "                            p_dn = op_ids[idlist_next_bid[1]]\n",
    "                            diff_bond_list[i,4] = 4*(p_dn - 1) + 1\n",
    "                        end                     \n",
    "                    else\n",
    "                        # if there are no diagonal terms below then \n",
    "                        # the winded leg attaches to the first of the next bid\n",
    "                        if same_bond_list[i,3] == 0.0\n",
    "                            ids_adjascent_next = [1]\n",
    "                            num_next_bid = 1\n",
    "                            winded_bond = true\n",
    "                        else\n",
    "                            ids_adjascent_next = []\n",
    "                            num_next_bid = 0\n",
    "                        end\n",
    "                    end\n",
    "                end\n",
    "            end   \n",
    "\n",
    "    #        print(i,\"\\t\",idlist_next_bid,\"\\t\",num_prev_bid,\" \",num_next_bid,\"\\n\")\n",
    "\n",
    "            if num_prev_bid == 1\n",
    "\n",
    "\n",
    "                # now save the bond ids for the prev\n",
    "                if winded_bond\n",
    "                    if idlist_prev_bid[ids_adjascent_prev[1]] > i\n",
    "                        p_up = op_ids[idlist_prev_bid[ids_adjascent_prev[1]]]\n",
    "                        diff_bond_list[i,1] = 4*(p_up - 1) + 4\n",
    "                    else\n",
    "                        p_dn = op_ids[idlist_prev_bid[ids_adjascent_prev[1]]]\n",
    "                        diff_bond_list[i,3] = 4*(p_dn - 1) + 2\n",
    "                    end                \n",
    "                else                \n",
    "                    if idlist_prev_bid[ids_adjascent_prev[1]] > i\n",
    "                        p_dn = op_ids[idlist_prev_bid[ids_adjascent_prev[1]]]\n",
    "                        diff_bond_list[i,3] = 4*(p_dn - 1) + 2\n",
    "                    else\n",
    "                        p_up = op_ids[idlist_prev_bid[ids_adjascent_prev[1]]]\n",
    "                        diff_bond_list[i,1] = 4*(p_up - 1) + 4\n",
    "                    end\n",
    "                end\n",
    "\n",
    "\n",
    "            elseif num_prev_bid == 2\n",
    "\n",
    "                # now save the bond ids for the next            \n",
    "                p_up = op_ids[idlist_prev_bid[ids_adjascent_prev[1]]]\n",
    "                diff_bond_list[i,1] = 4*(p_up - 1) + 4\n",
    "                p_dn = op_ids[idlist_prev_bid[ids_adjascent_prev[2]]]\n",
    "                diff_bond_list[i,3] = 4*(p_dn - 1) + 2\n",
    "\n",
    "            end\n",
    "\n",
    "            if num_next_bid == 1\n",
    "\n",
    "                # now save the bond ids for the next\n",
    "                if winded_bond\n",
    "                    if idlist_next_bid[ids_adjascent_next[1]] > i\n",
    "                        p_up = op_ids[idlist_next_bid[ids_adjascent_next[1]]]\n",
    "                        diff_bond_list[i,2] = 4*(p_up - 1) + 3\n",
    "                    else\n",
    "                        p_dn = op_ids[idlist_next_bid[ids_adjascent_next[1]]]\n",
    "                        diff_bond_list[i,4] = 4*(p_dn - 1) + 1\n",
    "                    end\n",
    "                else\n",
    "                    if idlist_next_bid[ids_adjascent_next[1]] > i\n",
    "                        p_dn = op_ids[idlist_next_bid[ids_adjascent_next[1]]]\n",
    "                        diff_bond_list[i,4] = 4*(p_dn - 1) + 1\n",
    "                    else\n",
    "                        p_up = op_ids[idlist_next_bid[ids_adjascent_next[1]]]\n",
    "                        diff_bond_list[i,2] = 4*(p_up - 1) + 3\n",
    "                    end\n",
    "                end\n",
    "\n",
    "\n",
    "            elseif num_next_bid == 2\n",
    "\n",
    "                # now save the bond ids for the next\n",
    "                p_up = op_ids[idlist_next_bid[ids_adjascent_next[1]]]\n",
    "                diff_bond_list[i,2] = 4*(p_up - 1) + 3\n",
    "                p_dn = op_ids[idlist_next_bid[ids_adjascent_next[2]]]\n",
    "                diff_bond_list[i,4] = 4*(p_dn - 1) + 1\n",
    "\n",
    "            end\n",
    "\n",
    "        elseif bid == 1\n",
    "\n",
    "        elseif bid == num_op\n",
    "        end\n",
    "    end\n",
    "    #printmat(diff_bond_list)\n",
    "\n",
    "    # Now append the list with the diagonal terms\n",
    "    # fill up the missing index connections\n",
    "    print(\"\\n\")\n",
    "    for i in 1:num_op\n",
    "        id_zeros = findall(x->x==0,diff_bond_list[i,1:end])\n",
    "        id_op_ids = findall(x->x>0,diff_bond_list[i,1:end])\n",
    "        num_zeros = size(id_zeros)[1]\n",
    "        num_ops = size(id_op_ids)[1]\n",
    "    #    print(\"\\n\",i,\"\\t\",num_zeros,\"\\t\")\n",
    "        if num_zeros > 0\n",
    "            ndiag = trunc(Int,same_bond_list[i,4])\n",
    "            pos = trunc(Int,same_bond_list[i,1])\n",
    "    #        print(ndiag,\"\\t pos=\",pos,\"\\t\")\n",
    "            if ndiag==0\n",
    "                # case of no diag ops\n",
    "                opid = i\n",
    "\n",
    "                # 1 diag op below => pos == 2\n",
    "                # 1 diag op above => pos == 3\n",
    "                if diff_bond_list[i,1] == 0\n",
    "                    p_up = op_ids[opid]\n",
    "                    diff_bond_list[i,1] = 4*(p_up - 1) + 3\n",
    "                end\n",
    "                if diff_bond_list[i,2] == 0\n",
    "                    p_up = op_ids[opid]\n",
    "                    diff_bond_list[i,2] = 4*(p_up - 1) + 4\n",
    "                end\n",
    "                if diff_bond_list[i,3] == 0\n",
    "                    p_dn = op_ids[opid]\n",
    "                    diff_bond_list[i,3] = 4*(p_dn - 1) + 1\n",
    "                end\n",
    "                if diff_bond_list[i,4] == 0\n",
    "                    p_dn = op_ids[opid]\n",
    "                    diff_bond_list[i,4] = 4*(p_dn - 1) + 2\n",
    "                end \n",
    "\n",
    "            elseif ndiag==1\n",
    "                # case of 1 diag op\n",
    "                opid = trunc(Int,same_bond_list[i,pos])\n",
    "\n",
    "                # 1 diag op below => pos == 2\n",
    "                # 1 diag op above => pos == 3\n",
    "                if diff_bond_list[i,1] == 0\n",
    "                    p_up = op_ids[opid]\n",
    "                    diff_bond_list[i,1] = 4*(p_up - 1) + 3\n",
    "                end\n",
    "                if diff_bond_list[i,2] == 0\n",
    "                    p_up = op_ids[opid]\n",
    "                    diff_bond_list[i,2] = 4*(p_up - 1) + 4\n",
    "                end\n",
    "                if diff_bond_list[i,3] == 0\n",
    "                    p_dn = op_ids[opid]\n",
    "                    diff_bond_list[i,3] = 4*(p_dn - 1) + 1\n",
    "                end\n",
    "                if diff_bond_list[i,4] == 0\n",
    "                    p_dn = op_ids[opid]\n",
    "                    diff_bond_list[i,4] = 4*(p_dn - 1) + 2\n",
    "                end  \n",
    "\n",
    "            elseif ndiag==2\n",
    "                # case of 2 diag op\n",
    "#                print(\" 2diag \")\n",
    "                opid_dn = trunc(Int,same_bond_list[i,3])\n",
    "                opid_up = trunc(Int,same_bond_list[i,2])\n",
    "#                print(opid_up,\"\\t\",opid_dn,\"\\n\")\n",
    "                if diff_bond_list[i,1] == 0\n",
    "                    p_up = op_ids[opid_up]\n",
    "                    diff_bond_list[i,1] = 4*(p_up - 1) + 3\n",
    "                end\n",
    "                if diff_bond_list[i,2] == 0\n",
    "                    p_up = op_ids[opid_up]\n",
    "                    diff_bond_list[i,2] = 4*(p_up - 1) + 4\n",
    "                end\n",
    "                if diff_bond_list[i,3] == 0\n",
    "                    p_dn = op_ids[opid_dn]\n",
    "                    diff_bond_list[i,3] = 4*(p_dn - 1) + 1\n",
    "                end\n",
    "                if diff_bond_list[i,4] == 0\n",
    "                    p_dn = op_ids[opid_dn]\n",
    "                    diff_bond_list[i,4] = 4*(p_dn - 1) + 2\n",
    "                end\n",
    "            end\n",
    "    end\n",
    "    end\n",
    "    #printmat(diff_bond_list)\n",
    "\n",
    "    # finally make vertexlist\n",
    "    vertexlist = zeros(MaxM,4)\n",
    "    j=0\n",
    "    for i in 1:MaxM\n",
    "        if a[i] > 0\n",
    "            j += 1\n",
    "            vertexlist[i,:] = diff_bond_list[j,:]\n",
    "        end\n",
    "    end\n",
    "    return(vertexlist)\n",
    "end"
   ]
  },
  {
   "cell_type": "markdown",
   "metadata": {},
   "source": [
    "## 6.) Print vertex list\n"
   ]
  },
  {
   "cell_type": "code",
   "execution_count": 74,
   "metadata": {
    "jupyter": {
     "source_hidden": true
    }
   },
   "outputs": [
    {
     "data": {
      "text/plain": [
       "printVertexList"
      ]
     },
     "execution_count": 74,
     "metadata": {},
     "output_type": "execute_result"
    }
   ],
   "source": [
    "\"\"\"\n",
    "Print a given vertex list\n",
    "vlist - the vertex list\n",
    "\"\"\"\n",
    "function printVertexList(vlist)  \n",
    "    print(\"l = \\t  \")\n",
    "    for i in 1:4\n",
    "        print(i,\"\\t\\t\\t  \")\n",
    "    end\n",
    "    print(\"\\n\\n\")\n",
    "    for i in 1:MaxM\n",
    "        for j in 1:4\n",
    "            print(\"\\t [\",4*(i-1) + j,\"]\",\"\\t\",vlist[i,j],\"\\t\")\n",
    "        end\n",
    "        print(\"\\n\")\n",
    "    end\n",
    "end"
   ]
  },
  {
   "cell_type": "markdown",
   "metadata": {},
   "source": [
    "## 7.) Find closed loop"
   ]
  },
  {
   "cell_type": "code",
   "execution_count": 300,
   "metadata": {
    "jupyter": {
     "source_hidden": true
    }
   },
   "outputs": [
    {
     "data": {
      "text/plain": [
       "findLoops"
      ]
     },
     "execution_count": 300,
     "metadata": {},
     "output_type": "execute_result"
    }
   ],
   "source": [
    "\"\"\"\n",
    "Find closed loops in the given SSE configuration\n",
    "specified by vertex list\n",
    "vertexlist - the current vertex list\n",
    "startId - the id of the starting bond\n",
    "legId - the id of the leg (=0,1,2,3) of the starting bond\n",
    "\"\"\"\n",
    "function findLoops(vertexlist,startId,legId)\n",
    "    # construct a loop by traversing the vertexlist.\n",
    "    # The rule is simply to follow the two steps:\n",
    "    #     1. start by picking an element of vertexlist(p)\n",
    "    #     2. go to the index pointed to by p\n",
    "    #     3. if l(p) == 1 move to 2 or if l(p) == 2 move to 1 and similarly for 3,4\n",
    "    #     4. go to vertexlist(p') and continue from step 1\n",
    "\n",
    "    move = Dict()\n",
    "    move[1]=2\n",
    "    move[2]=1\n",
    "    move[3]=4\n",
    "    move[4]=3\n",
    "\n",
    "    lpmove = Dict()\n",
    "    lpmove[0]=4\n",
    "    lpmove[1]=1\n",
    "    lpmove[2]=2\n",
    "    lpmove[3]=3\n",
    "    \n",
    "    pstart = startId\n",
    "    p = startId\n",
    "    lp = legId\n",
    "#    print(\"pstart=\",p,\"\\t\",\"lpstart=\",lp,\"\\n\")\n",
    "    \n",
    "    q = 0\n",
    "    v = 0\n",
    "    loopids = []\n",
    "    push!(loopids,p)\n",
    "    count = 1\n",
    "    while q != pstart # && count < 10\n",
    "        v = vertexlist[p,lp]\n",
    "        lp = lpmove[trunc(Int,v%4)]\n",
    "        p = trunc(Int,1 + (v-lp)/4)\n",
    "#        print(\">\",p,\"\\t\",lp,\"\\t\",v,\"\\n\")\n",
    "        lp = move[lp]\n",
    "        q = p\n",
    "        lq = lp\n",
    "        count += 1\n",
    "#        print(count,\"\\t\",p,\"\\t\",lp,\"\\t v=\",4*(p-1)+lp,\"\\n\")\n",
    "        push!(loopids,p)\n",
    "    end\n",
    "    return(loopids)\n",
    "end"
   ]
  },
  {
   "cell_type": "markdown",
   "metadata": {},
   "source": [
    "## 8.) Diagonal update"
   ]
  },
  {
   "cell_type": "code",
   "execution_count": 344,
   "metadata": {},
   "outputs": [
    {
     "data": {
      "text/plain": [
       "diagUpdate!"
      ]
     },
     "execution_count": 344,
     "metadata": {},
     "output_type": "execute_result"
    }
   ],
   "source": [
    "import Random\n",
    "\n",
    "\"\"\"\n",
    "Get diag update addition probability\n",
    "\"\"\"\n",
    "function diagProbAdd(B,β,M,n)\n",
    "    return (min((B*β/2)/(M-n),1))\n",
    "end\n",
    "\n",
    "\"\"\"\n",
    "Get diag update removal probability\n",
    "\"\"\"\n",
    "function diagProbRemove(B,β,M,n)\n",
    "    return (min((M-n+1)/(B*β/2),1))\n",
    "end\n",
    "\n",
    "#Random.seed!(1234)\n",
    "\"\"\"\n",
    "Return a random number [0,1)\n",
    "\"\"\"\n",
    "function getRand()\n",
    "    return rand()\n",
    "end\n",
    "\n",
    "\"\"\"\n",
    "The function that implements diagonal update\\n\n",
    "a - bond type\n",
    "b - bond id\n",
    "opstring - combind bond type and id\n",
    "spin - the spin configuration\n",
    "bsites - site list for each bond\n",
    "MaxM - the time dimension\n",
    "Nsites - number of sites\n",
    "β - time step\n",
    "\"\"\"\n",
    "function diagUpdate!(a,b,opstring,spin,bsites,n,MaxM,Nsites,β)\n",
    "#    Random.seed!(1001)\n",
    "    B = Nsites-1\n",
    "    for i in 1:MaxM\n",
    "        rnd = getRand()\n",
    "        bnd = trunc(Int,B*rnd)+1\n",
    "#        print(\">\",rnd,\"\\t\",bnd,\"\\t\")\n",
    "        spin1 = spin[trunc(Int,bsites[bnd,1])]\n",
    "        spin2 = spin[trunc(Int,bsites[bnd,2])]\n",
    "#        print(i,\"\\t\",bnd,\"\\t\",spin1,\"\\t\",spin2)\n",
    "#        printmat(spin)\n",
    "#        print(\"\\n\")\n",
    "        if spin1 != spin2 && a[i] == 0\n",
    "            probAc = diagProbAdd(B,β,MaxM,n)\n",
    "            rnd = getRand()\n",
    "            if rnd > probAc\n",
    "                # accept update\n",
    "                b[i] = bnd\n",
    "                a[i] = 1\n",
    "                opstring[i] = 2 * bnd\n",
    "                n += 1\n",
    "            end\n",
    "        elseif a[i] == 1\n",
    "            probRm = diagProbRemove(B,β,MaxM,n)\n",
    "            rnd = getRand()\n",
    "            if rnd > probRm\n",
    "                # remove bond\n",
    "                b[i] = 0.0\n",
    "                a[i] = 0.0\n",
    "                opstring[i] = 0.0\n",
    "                n -= 1\n",
    "            end\n",
    "        end\n",
    "        if a[i] == 2\n",
    "            # propagate the state\n",
    "            spin[trunc(Int,bsites[trunc(Int,b[i]),1])] *=-1\n",
    "            spin[trunc(Int,bsites[trunc(Int,b[i]),2])] *=-1\n",
    "        end\n",
    "    end\n",
    "    return n\n",
    "end"
   ]
  },
  {
   "cell_type": "code",
   "execution_count": null,
   "metadata": {},
   "outputs": [],
   "source": []
  }
 ],
 "metadata": {
  "kernelspec": {
   "display_name": "Julia 1.3.0",
   "language": "julia",
   "name": "julia-1.3"
  },
  "language_info": {
   "file_extension": ".jl",
   "mimetype": "application/julia",
   "name": "julia",
   "version": "1.3.0"
  }
 },
 "nbformat": 4,
 "nbformat_minor": 4
}
