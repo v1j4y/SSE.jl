{
 "cells": [
  {
   "cell_type": "markdown",
   "metadata": {
    "toc-hr-collapsed": false
   },
   "source": [
    "# SSE 1D Heisenberg"
   ]
  },
  {
   "cell_type": "markdown",
   "metadata": {},
   "source": [
    "## I. Theory"
   ]
  },
  {
   "cell_type": "markdown",
   "metadata": {},
   "source": [
    "The objective of the method is to calculate the expectation value of an observable $\\hat{A}$ as follows:\n",
    "\n",
    "$$\n",
    "<\\hat{A}> = \\frac{1}{Z}Tr\\left\\{ \\hat{A}e^{-\\beta\\hat{H}}\\right\\}\n",
    "$$\n",
    "\n",
    "with $Z = Tr\\left\\{ e^{-\\beta\\hat{H}}\\right\\}$.\n",
    "\n",
    "The Hamiltonian is made up of a sum of non-commuting terms $\\hat{H} = \\sum^M_i \\hat{H}_i , [\\hat{H}_i,\\hat{H}_j] \\ne 0$ for any i, j"
   ]
  },
  {
   "cell_type": "markdown",
   "metadata": {},
   "source": [
    "This trace can be rewritten in terms of a summation over the expectation values of product of Hamiltonian terms of a given order $n$ such as:\n",
    "\n",
    "$$\n",
    "Z = \\sum^{\\infty}_n \\sum_{\\{C_n\\}} \\frac{(-\\beta)^n}{n!} Tr\\left\\{\\prod^n_{j=1} \\hat{H}_{l_j} \\right\\}\n",
    "$$"
   ]
  },
  {
   "cell_type": "markdown",
   "metadata": {},
   "source": [
    "Where $C_n$ gives all the possible combinations of product terms of bonds indices $(l_1,l_2,\\dots,l_n)$ of order $n$ with $1\\le l_i \\le M$ where $M$ is the number of operators in the summation of the Hamiltonian terms $\\hat{H}_i$.\n",
    "\n",
    "With this reordering, the expectation value of an operator $<\\hat{A}>$ can be written as:\n",
    "\n",
    "$$\n",
    "<\\hat{A}> = \\sum^{\\infty}_n\\sum_{\\{C_n\\}} A(C_n)W(C_n)\n",
    "$$"
   ]
  },
  {
   "cell_type": "markdown",
   "metadata": {},
   "source": [
    "where $A(C_n)$ and $W(C_n)$ are given by:\n",
    "\n",
    "$$\n",
    "A(C_n) =  Tr\\left\\{\\hat{A}\\prod^n_{j=1}\\hat{H}_{l_j} \\right\\}\\bigg/Tr\\left\\{\\prod^n_{j=1}\\hat{H}_{l_j} \\right\\} \\ \\text{if}\\ W(C_n) \\ne 0\\\\ 0,W(C_n) = 0\n",
    "$$\n",
    "\n",
    "$$\n",
    "W(C_n) = \\frac{1}{Z}\\frac{(-\\beta)^n}{n!}Tr\\left\\{\\prod^n_{j=1}\\hat{H}_{l_j} \\right\\}\n",
    "$$"
   ]
  },
  {
   "cell_type": "markdown",
   "metadata": {},
   "source": [
    "If the weights $W(C_n)$ are all positive, $<\\hat{A}>$ can be sampled in a MC simulation and the value can be extracted.\n",
    "\n",
    "$$\n",
    "<\\hat{A}> = <A(C_n)>_W\n",
    "$$"
   ]
  },
  {
   "cell_type": "markdown",
   "metadata": {},
   "source": [
    "The expectation value can be calculated by expanding the trace in terms of a basis representation which is chosen as a list of string with the $\\hat{S}_{z_j}$ component of each site $\\alpha=[S_1,S_2,\\dots,S_N]$.\n",
    "\n",
    "$$\n",
    "<\\hat{A}> = \\frac{1}{Z}\\sum_{\\alpha}\\sum^{L}_n \\sum_{\\{C_n\\}} \\frac{(-\\beta)^n}{n!}<\\alpha|\\hat{A}\\prod^{n}_{j=1}\\hat{H}_{l_j}|\\alpha>\n",
    "$$"
   ]
  },
  {
   "cell_type": "markdown",
   "metadata": {
    "toc-hr-collapsed": false
   },
   "source": [
    "## II. Algorithm"
   ]
  },
  {
   "cell_type": "markdown",
   "metadata": {},
   "source": [
    "The states are represented as a list of the per site $S^z_i$ values as follows:\n",
    "\n",
    "$$\n",
    "|\\alpha> = |S^z_1,S^z_2,\\dots,S^z_N>\n",
    "$$\n",
    "\n",
    "The Heisenberg Hamiltonian given below is simplified as follows\n",
    "\n",
    "$$\n",
    "\\hat{H} = \\sum^{B}_{b=1} \\left[ \\hat{S}^z_{i(b)}\\cdot\\hat{S}^z_{j(b)} + \\frac{1}{2} \\left( S^+_{i(b)}\\cdot S^-_{j(b)} + S^-_{i(b)}\\cdot S^+_{j(b)} \\right) \\right]\n",
    "$$"
   ]
  },
  {
   "cell_type": "markdown",
   "metadata": {},
   "source": [
    "The two parts of the Hamiltonian are broken down and shifted in order to make all the expectation values non-negative.\n",
    "\n",
    "$$\n",
    "\\hat{H}_{1,b} = \\frac{1}{4} - \\hat{S}^z_{i(b)}\\cdot\\hat{S}^z_{j(b)} \\\\ \\hat{H}_{2,b} = \\frac{1}{2} \\left( S^+_{i(b)}\\cdot S^-_{j(b)} + S^-_{i(b)}\\cdot S^+_{j(b)} \\right) \n",
    "$$\n",
    "\n",
    "Therefore, the Hamiltonian is written as:\n",
    "\n",
    "$$\n",
    "\\hat{H} = -\\sum^B_{b=1}\\sum^2_a \\left[ \\hat{H}_{a,b} \\right]\n",
    "$$\n",
    "\n",
    "with a phase convention for the off-diagonal operators."
   ]
  },
  {
   "cell_type": "markdown",
   "metadata": {},
   "source": [
    "The SSE operator products in the partition function are given by\n",
    "$$\n",
    "\\prod^M_p \\hat{H}_{a(p),b(p)}\n",
    "$$"
   ]
  },
  {
   "cell_type": "markdown",
   "metadata": {},
   "source": [
    "The lists $a(p)$ and $b(p)$ are stored in a vector which give the operators acting at each time step $p$\n",
    "\n",
    "and the operator string is given by $opstring(p) = 2 b(p) + a(p) - 1$ with the identity represented by $0$."
   ]
  },
  {
   "cell_type": "markdown",
   "metadata": {},
   "source": [
    "The configuration is stored in the spin variable which contains $spin[i] = 2S^z_i$"
   ]
  },
  {
   "cell_type": "markdown",
   "metadata": {},
   "source": [
    "The connection of pair of spins to a bond is stored in $bsites$ which is a $MaxM x 2$ matrix with $bsites[b,1]$ giving the ms of the 1st site and $bsites[b,2]$ giving the ms of the second site.\n"
   ]
  },
  {
   "cell_type": "markdown",
   "metadata": {},
   "source": [
    "### a.) Visualize SSE config"
   ]
  },
  {
   "cell_type": "markdown",
   "metadata": {},
   "source": [
    "An example of an SSE configuration and propagated states for $M=12$ and $8$ sites is shown below."
   ]
  },
  {
   "cell_type": "markdown",
   "metadata": {},
   "source": [
    "### b.) Make vertex list"
   ]
  },
  {
   "cell_type": "markdown",
   "metadata": {},
   "source": [
    "The most important function to build then is the loop calculation algorithm which gives the list of all the closed loops for a given SSE configuration."
   ]
  },
  {
   "cell_type": "code",
   "execution_count": 113,
   "metadata": {},
   "outputs": [
    {
     "name": "stdout",
     "output_type": "stream",
     "text": [
      "l = \t  1\t\t\t  2\t\t\t  3\t\t\t  4\t\t\t  \n",
      "\n",
      "\t [1]\t40\t\t [2]\t20\t\t [3]\t17\t\t [4]\t18\t\n",
      "\t [5]\t36\t\t [6]\t28\t\t [7]\t9\t\t [8]\t10\t\n",
      "\t [9]\t7\t\t [10]\t8\t\t [11]\t21\t\t [12]\t22\t\n",
      "\t [13]\t47\t\t [14]\t48\t\t [15]\t45\t\t [16]\t29\t\n",
      "\t [17]\t3\t\t [18]\t4\t\t [19]\t38\t\t [20]\t2\t\n",
      "\t [21]\t11\t\t [22]\t12\t\t [23]\t25\t\t [24]\t26\t\n",
      "\t [25]\t23\t\t [26]\t24\t\t [27]\t30\t\t [28]\t6\t\n",
      "\t [29]\t16\t\t [30]\t27\t\t [31]\t33\t\t [32]\t34\t\n",
      "\t [33]\t31\t\t [34]\t32\t\t [35]\t46\t\t [36]\t5\t\n",
      "\t [37]\t39\t\t [38]\t19\t\t [39]\t37\t\t [40]\t1\t\n",
      "\t [41]\t0\t\t [42]\t0\t\t [43]\t0\t\t [44]\t0\t\n",
      "\t [45]\t15\t\t [46]\t35\t\t [47]\t13\t\t [48]\t14\t\n",
      "\t [49]\t0\t\t [50]\t0\t\t [51]\t0\t\t [52]\t0\t\n",
      "\t [53]\t0\t\t [54]\t0\t\t [55]\t0\t\t [56]\t0\t\n",
      "\t [57]\t0\t\t [58]\t0\t\t [59]\t0\t\t [60]\t0\t\n"
     ]
    }
   ],
   "source": [
    "vlist = makeVertexListSimple(a,b,Nsites)\n",
    "printVertexList(vlist)"
   ]
  },
  {
   "cell_type": "markdown",
   "metadata": {},
   "source": [
    "### d.) Make loop list"
   ]
  },
  {
   "cell_type": "markdown",
   "metadata": {},
   "source": [
    "Finally, all the closed loops need to be calculated for a given $opstring$ and set of bonds $b$ acting on a configuration $spin\n",
    "\n",
    "For the above SSE configuration, the only big closed loop is:"
   ]
  },
  {
   "cell_type": "markdown",
   "metadata": {},
   "source": [
    "## III. Updates"
   ]
  },
  {
   "cell_type": "markdown",
   "metadata": {},
   "source": [
    "## 1. Diagonal update"
   ]
  },
  {
   "cell_type": "markdown",
   "metadata": {},
   "source": [
    "The first type of update is the diagonal update where a $\\hat{S}^z_b(p)$ operator is put for a randomly chosen bond $b$ and this is carried out for each time dimension $p$. \n",
    "\n",
    "The condition for adding a diagonal operator $\\hat{S}^z_b(p)$ is that the two spins making up the bond $b$ i.e. $S_{i(b)}$ and $S_{j(b)}$ should be unequal i.e. the spins should be anti-parallel."
   ]
  },
  {
   "cell_type": "markdown",
   "metadata": {},
   "source": [
    "## 2.) Off diagonal update"
   ]
  },
  {
   "cell_type": "markdown",
   "metadata": {},
   "source": [
    "The off diagonal update involves updating two off diagonal operators $S^+_{i(b)}\\cdot S^-_{j(b)}$ at once."
   ]
  },
  {
   "cell_type": "markdown",
   "metadata": {},
   "source": [
    "## 3.) Loop update"
   ]
  },
  {
   "cell_type": "markdown",
   "metadata": {},
   "source": [
    "Loop update involves long range changes where a loop is constructed and inverted with probability $\\frac{1}{2}$."
   ]
  },
  {
   "cell_type": "markdown",
   "metadata": {},
   "source": [
    "# Final Algorithm"
   ]
  },
  {
   "cell_type": "markdown",
   "metadata": {},
   "source": [
    "## 1. Put everything together"
   ]
  },
  {
   "cell_type": "markdown",
   "metadata": {},
   "source": [
    "Combining all the elements we write the final algorithm which has the following steps:\n",
    "\n",
    "    1. A cycle of diagonal updates\n",
    "    2. Construct vertexlist\n",
    "    3. Flip all loops with prob 1/2\n",
    "    4. map vertexlist back to opstring and spin\n",
    " "
   ]
  },
  {
   "cell_type": "code",
   "execution_count": 383,
   "metadata": {},
   "outputs": [
    {
     "data": {
      "image/png": "[encoded data removed]",
      "text/plain": [
       "Figure(PyObject <Figure size 640x480 with 1 Axes>)"
      ]
     },
     "metadata": {},
     "output_type": "display_data"
    },
    {
     "name": "stdout",
     "output_type": "stream",
     "text": [
      "spin = [-1.0, 1.0, -1.0, 1.0, -1.0, 1.0, -1.0, -1.0]\n",
      "\u001b[0m\u001b[1m ─────────────────────────────────────────────────\u001b[22m\n",
      "\u001b[0m\u001b[1m                            \u001b[22m        Time          \n",
      "                            ──────────────────────\n",
      "      Tot / % measured:          12.8s / 99.3%    \n",
      "\n",
      " Section            ncalls     time   %tot     avg\n",
      " ─────────────────────────────────────────────────\n",
      " make vertex list    1.00k    6.52s  51.3%  6.52ms\n",
      " construct loop      1.00k    4.03s  31.7%  4.03ms\n",
      " loop update         1.00k    2.12s  16.7%  2.12ms\n",
      " diag update         1.00k   34.1ms  0.27%  34.1μs\n",
      "\u001b[0m\u001b[1m ─────────────────────────────────────────────────\u001b[22m"
     ]
    },
    {
     "data": {
      "text/plain": [
       "1-element Array{PyObject,1}:\n",
       " PyObject <matplotlib.lines.Line2D object at 0x1b5652438>"
      ]
     },
     "execution_count": 383,
     "metadata": {},
     "output_type": "execute_result"
    }
   ],
   "source": [
    "using TimerOutputs\n",
    "\n",
    "# Initialize parameters\n",
    "\n",
    "# temperature\n",
    "β = 100\n",
    "\n",
    "# number of sites\n",
    "Nsites = 8\n",
    "\n",
    "# starting number of max op string\n",
    "MaxM = 4000\n",
    "M = 40 #Nsites*2\n",
    "n = 0\n",
    "\n",
    "\n",
    "a = zeros(Int,MaxM)\n",
    "b = zeros(Int,MaxM)\n",
    "opstring = zeros(Int,MaxM)\n",
    "\n",
    "spin = [(i-0.5)/abs(i-0.5) for i in rand(Nsites)]\n",
    "bsites = makeBsites(Nsites)\n",
    "print(\"spin = \",spin,\"\\n\")\n",
    "\n",
    "maxMCsteps = 500\n",
    "# ratio for MaxM vs n\n",
    "α = 3\n",
    "\n",
    "to = TimerOutput()\n",
    "\n",
    "mlist = []\n",
    "counterlist = []\n",
    "countn = []\n",
    "mcsteps = 0\n",
    "while mcsteps < maxMCsteps\n",
    "    \n",
    "          \n",
    "    # 1. do diagonal updates\n",
    "    n = @timeit to \"diag update\"  diagUpdate!(a,b,opstring,spin,bsites,n,M,Nsites,β)\n",
    "    \n",
    "    if n == 0\n",
    "        continue\n",
    "    end\n",
    "        \n",
    "    \n",
    "    if M - n < n/α \n",
    "        prevM = M\n",
    "        M = trunc(Int,n + n/α)\n",
    "    end\n",
    "    \n",
    "    push!(mlist,M)\n",
    "    push!(countn,-n/(Nsites*β))\n",
    "    \n",
    "        \n",
    "    # 2. construct vertexlist\n",
    "    vlist, crossed_bonds = @timeit to \"make vertex list\" makeVertexListSimple(a,b,Nsites,M)\n",
    "  \n",
    "    mcsteps += 1   \n",
    "    push!(counterlist,mcsteps)\n",
    "\n",
    "   \n",
    "    # 3. construct all loops and flip\n",
    "    loops = @timeit to \"construct loop\" constructAllLoops(vlist,M)\n",
    "\n",
    "    \n",
    "    if loops == -1 || size(loops)[1] == 0\n",
    "        continue\n",
    "    end\n",
    "   \n",
    "    # 4. do loop update\n",
    "    @timeit to \"loop update\" loopUpdate!(loops,a,b,opstring,spin,bsites,crossed_bonds)\n",
    "\n",
    "\n",
    "end\n",
    "\n",
    "show(to; allocations = false)\n",
    "\n",
    "#using Statistics, Distributions, StatsPlots\n",
    "#plot(counterlist,mlist);\n",
    "#plot(counterlist[1:M],countn[1:M]);\n",
    "#plot([idxmax,idxmax],[0,M]);\n",
    "#print(\"\\n maxn=\",maxn,\"\\t\",\"idmaxn=\",idxmax,\" varn=\",varn,\"\\n\")\n",
    "#dimcountn = size(countn)[1]\n",
    "plot(counterlist, countn)\n",
    "#meann = mean(countn[200:end]/Nsites)\n",
    "#print(meann)"
   ]
  },
  {
   "cell_type": "markdown",
   "metadata": {},
   "source": [
    "## 2.) Visualize SSE configuration"
   ]
  },
  {
   "cell_type": "code",
   "execution_count": 382,
   "metadata": {},
   "outputs": [
    {
     "data": {
      "image/png": "[encoded data removed]",
      "text/plain": [
       "Figure(PyObject <Figure size 640x480 with 1 Axes>)"
      ]
     },
     "metadata": {},
     "output_type": "display_data"
    },
    {
     "name": "stdout",
     "output_type": "stream",
     "text": [
      "    1.0       -1.0       1.0       1.0       -1.0       1.0       -1.0       -1.0       "
     ]
    },
    {
     "data": {
      "text/plain": [
       "PyObject <matplotlib.collections.LineCollection object at 0x1b54fdda0>"
      ]
     },
     "execution_count": 382,
     "metadata": {},
     "output_type": "execute_result"
    }
   ],
   "source": [
    "drawSSEConfig(Nsites,M,a,b,spin)"
   ]
  },
  {
   "cell_type": "markdown",
   "metadata": {},
   "source": [
    "## 3.) E vs $\\beta$"
   ]
  },
  {
   "cell_type": "code",
   "execution_count": 327,
   "metadata": {},
   "outputs": [
    {
     "name": "stdout",
     "output_type": "stream",
     "text": [
      "1.0\t2.0\t3.0\t4.0\t"
     ]
    },
    {
     "name": "stderr",
     "output_type": "stream",
     "text": [
      "WARNING: Force throwing a SIGINT\n"
     ]
    },
    {
     "ename": "InterruptException",
     "evalue": "InterruptException:",
     "output_type": "error",
     "traceback": [
      "InterruptException:",
      "",
      "Stacktrace:",
      " [1] default_rng at /Users/sabae/buildbot/worker/package_macos64/build/usr/share/julia/stdlib/v1.3/Random/src/RNGs.jl:296 [inlined]",
      " [2] rand at /Users/sabae/buildbot/worker/package_macos64/build/usr/share/julia/stdlib/v1.3/Random/src/Random.jl:256 [inlined]",
      " [3] getRand at ./In[312]:22 [inlined]",
      " [4] diagUpdate!(::Array{Float64,1}, ::Array{Float64,1}, ::Array{Float64,1}, ::Array{Float64,1}, ::Array{Float64,2}, ::Int64, ::Int64, ::Int64, ::Float64) at ./In[312]:41",
      " [5] simulateSSE(::Float64) at ./In[326]:37",
      " [6] top-level scope at ./In[327]:5"
     ]
    }
   ],
   "source": [
    "listmu = []\n",
    "total=0\n",
    "for i in 1:1.0:50\n",
    "    print(i,\"\\t\")\n",
    "    n = simulateSSE(i*1.0)\n",
    "    push!(listmu,n/β)\n",
    "    total+=1\n",
    "end\n",
    "plot(1:total,listmu)"
   ]
  },
  {
   "cell_type": "markdown",
   "metadata": {},
   "source": [
    "## 4.) MC simulate"
   ]
  },
  {
   "cell_type": "code",
   "execution_count": 336,
   "metadata": {},
   "outputs": [
    {
     "data": {
      "text/plain": [
       "simulateSSE"
      ]
     },
     "execution_count": 336,
     "metadata": {},
     "output_type": "execute_result"
    }
   ],
   "source": [
    "using Statistics, Distributions, StatsPlots\n",
    "\n",
    "\"\"\"\n",
    "Do the mc simulation and get \n",
    "\"\"\"\n",
    "function simulateSSE(β)\n",
    "    # Initialize parameters\n",
    "\n",
    "    # number of sites\n",
    "    Nsites = 4\n",
    "\n",
    "    # starting number of max op string\n",
    "    MaxM = 4000\n",
    "    M = 40 # Nsites*2\n",
    "    n = 0\n",
    "\n",
    "\n",
    "    a = zeros(MaxM)\n",
    "    b = zeros(MaxM)\n",
    "    opstring = zeros(MaxM)\n",
    "\n",
    "    spin = [(i-0.5)/abs(i-0.5) for i in rand(Nsites)]\n",
    "    bsites = makeBsites(Nsites)\n",
    "#    print(\"spin = \",spin,\"\\n\")\n",
    "\n",
    "    maxMCsteps = 100\n",
    "    # ratio for MaxM vs n\n",
    "    α = 3\n",
    "\n",
    "\n",
    "#    mlist = []\n",
    "#    counterlist = []\n",
    "    countn = []\n",
    "    # Set up MC loop\n",
    "    mcsteps = 0\n",
    "    while mcsteps < maxMCsteps\n",
    "        # 1. do diagonal updates\n",
    "        n = diagUpdate!(a,b,opstring,spin,bsites,n,M,Nsites,β)\n",
    "        if n == 0\n",
    "            continue\n",
    "        end\n",
    "\n",
    "\n",
    "        if M - n < n/α \n",
    "            prevM = M\n",
    "            M = trunc(Int,n + n/α)\n",
    "#            acopy = copy(a)\n",
    "#            bcopy = copy(b)\n",
    "#            opstringcopy = copy(opstring)\n",
    "#            a = zeros(M)\n",
    "#            a[1:prevM] = acopy\n",
    "#            b = zeros(M)\n",
    "#            b[1:prevM] = bcopy\n",
    "#            opstring = zeros(M)\n",
    "#            opstring[1:prevM] = opstringcopy\n",
    "        end\n",
    "\n",
    "#        push!(mlist,M)\n",
    "        push!(countn,n)\n",
    "\n",
    "        # 2. construct vertexlist\n",
    "        vlist = makeVertexListSimple(a,b,Nsites,M)\n",
    "\n",
    "        mcsteps += 1   \n",
    "#        push!(counterlist,mcsteps)\n",
    "\n",
    "\n",
    "        # 3. construct all loops and flip\n",
    "        loops = constructAllLoops(vlist,M)\n",
    "\n",
    "\n",
    "        if loops == -1 || size(loops)[1] == 0\n",
    "            continue\n",
    "        end\n",
    "\n",
    "        # 4. do loop update\n",
    "        loopUpdate!(loops,a,b,opstring,bsites)\n",
    "\n",
    "\n",
    "\n",
    "    end\n",
    "\n",
    "    # calculate normal distribution params\n",
    "    return(mean(countn))\n",
    "end"
   ]
  },
  {
   "cell_type": "markdown",
   "metadata": {},
   "source": [
    "----------"
   ]
  },
  {
   "cell_type": "markdown",
   "metadata": {},
   "source": [
    "# Function definitions"
   ]
  },
  {
   "cell_type": "markdown",
   "metadata": {},
   "source": [
    "## 1.) buildOpstring"
   ]
  },
  {
   "cell_type": "code",
   "execution_count": 1,
   "metadata": {
    "jupyter": {
     "source_hidden": true
    }
   },
   "outputs": [
    {
     "data": {
      "text/plain": [
       "buildOpstring!"
      ]
     },
     "execution_count": 1,
     "metadata": {},
     "output_type": "execute_result"
    }
   ],
   "source": [
    "\"\"\"\n",
    "Build opstring given the operator list a and b\n",
    "\"\"\"\n",
    "function buildOpstring!(opstring,a,b)\n",
    "    dim = length(a);\n",
    "    eye = ones(dim);\n",
    "    idxa = a .== 0;\n",
    "    idxb = b .== 0;\n",
    "    eye[idxa] .= 0;\n",
    "    opstring .= 2 * b + a - eye;\n",
    "end"
   ]
  },
  {
   "cell_type": "markdown",
   "metadata": {},
   "source": [
    "## 2.) Printmatrix"
   ]
  },
  {
   "cell_type": "code",
   "execution_count": 2,
   "metadata": {
    "jupyter": {
     "source_hidden": true
    }
   },
   "outputs": [
    {
     "data": {
      "text/plain": [
       "printmat (generic function with 1 method)"
      ]
     },
     "execution_count": 2,
     "metadata": {},
     "output_type": "execute_result"
    }
   ],
   "source": [
    "function printmat(mat)\n",
    "    print(\"\\n\")\n",
    "    show(Base.stdout, MIME\"text/plain\"(),mat)\n",
    "    print(\"\\n\")\n",
    "end"
   ]
  },
  {
   "cell_type": "markdown",
   "metadata": {},
   "source": [
    "## 3.) Bsites"
   ]
  },
  {
   "cell_type": "code",
   "execution_count": 369,
   "metadata": {
    "jupyter": {
     "source_hidden": true
    }
   },
   "outputs": [
    {
     "data": {
      "text/plain": [
       "makeBsites"
      ]
     },
     "execution_count": 369,
     "metadata": {},
     "output_type": "execute_result"
    }
   ],
   "source": [
    "\"\"\"\n",
    "Make Bsites for 1D Heisenberg\\n\n",
    "Nsites - the number of sites\n",
    "\"\"\"\n",
    "function makeBsites(Nsites)\n",
    "    bsites = zeros(Int,Nsites-1,2)\n",
    "    bsites[:,1] = 1:Nsites-1\n",
    "    bsites[:,2] = 2:Nsites\n",
    "    return bsites\n",
    "end\n"
   ]
  },
  {
   "cell_type": "markdown",
   "metadata": {},
   "source": [
    "## 4.) Make graph with a given a and b"
   ]
  },
  {
   "cell_type": "code",
   "execution_count": 4,
   "metadata": {
    "jupyter": {
     "source_hidden": true
    }
   },
   "outputs": [
    {
     "name": "stderr",
     "output_type": "stream",
     "text": [
      "┌ Warning: PyPlot is using tkagg backend, which is known to cause crashes on MacOS (#410); use the MPLBACKEND environment variable to request a different backend.\n",
      "└ @ PyPlot /Users/chilkuri/.julia/packages/PyPlot/4wzW1/src/init.jl:192\n"
     ]
    },
    {
     "data": {
      "text/plain": [
       "drawSSEConfig"
      ]
     },
     "execution_count": 4,
     "metadata": {},
     "output_type": "execute_result"
    }
   ],
   "source": [
    "using ImageView, Images, TestImages\n",
    "using PyPlot\n",
    "using PyCall\n",
    "\n",
    "\"\"\"\n",
    "Draw SSE configuration with given\n",
    "a(p) and b(p) operators.\n",
    "Nsites - number of sites\n",
    "MaxM - number of time steps\n",
    "a - the op type\n",
    "b - the bond id for each op\n",
    "spin - the configuration list\n",
    "\"\"\"\n",
    "function drawSSEConfig(Nsites,MaxM,a,b,spin)\n",
    "    # draw the given opstring\n",
    "\n",
    "\n",
    "    nx = pyimport(\"networkx\")\n",
    "\n",
    "    m=2MaxM + 1\n",
    "    n=Nsites\n",
    "\n",
    "    G = nx.grid_2d_graph(n,m); # n, m grid \n",
    "    pos = Dict( (n, n) for n in G.nodes() );\n",
    "\n",
    "    color_map=[]\n",
    "    countcolor=1\n",
    "    for i in 0:n-1\n",
    "        for j in 0:m-1\n",
    "            if countcolor%2 == 0\n",
    "                push!(color_map,\"white\")\n",
    "            else\n",
    "                push!(color_map,\"blue\")\n",
    "            end\n",
    "            countcolor+=1\n",
    "        end\n",
    "        countcolor+=1\n",
    "    end\n",
    "\n",
    "    for j in 0:m-2\n",
    "        for i in 0:n-2\n",
    "            G.remove_edge((i,j),(i+1,j))\n",
    "            G.remove_edge((i,j),(i,j+1))\n",
    "        end\n",
    "        G.remove_edge((n-1,j),(n-1,j+1))\n",
    "    end\n",
    "    for i in 0:n-2\n",
    "        G.remove_edge((i,m-1),(i+1,m-1))\n",
    "    end\n",
    "\n",
    "    # make the ops by looping over the imaginary time axis\n",
    "    # use a for the time direction and b for the space dimension\n",
    "    #G.add_edge((0,m-2),(1,m-2))\n",
    "    width=[]\n",
    "    edge_color=[]\n",
    "    for i in 1:MaxM\n",
    "        if a[i] != 0 && b[i] < Nsites\n",
    "            J = m-2*i\n",
    "            I = trunc(Int,b[i]-1)\n",
    " #           print(I,\"\\t\",J,\"\\n\")\n",
    "            if a[i]==1\n",
    "                G.add_edge((I,J),(I+1,J))\n",
    "                push!(width,1.0)\n",
    "                push!(edge_color,\"brown\")\n",
    "            else\n",
    "                G.add_edge((I,J),(I+1,J))\n",
    "                push!(width,5.0)\n",
    "                push!(edge_color,\"black\")\n",
    "            end\n",
    "        end\n",
    "    end\n",
    "\n",
    "\n",
    "    edges=[]\n",
    "    edge_color=[]\n",
    "    width=[]\n",
    "    for (i,edge) in enumerate(G.edges)\n",
    "    #    edges[edge]=i\n",
    "        push!(edges,edge)\n",
    "        J = edge[2][1]\n",
    "        I = trunc(Int,MaxM-(edge[2][2]-1)/2)\n",
    "        if a[I]==2\n",
    "            push!(width,5.0)\n",
    "            push!(edge_color,\"black\")\n",
    "        else\n",
    "            push!(width,1.0)\n",
    "            push!(edge_color,\"brown\")\n",
    "        end\n",
    "    end\n",
    "\n",
    "    for j in 1:MaxM    \n",
    "        J = m-2*(j-1)        \n",
    "        for i in 0:n-1\n",
    "            I=i\n",
    "    #        print(J,\" \",I,\"\\t\",J*(m-1)+I,\"\\n\")\n",
    "            if spin[i+1] == 1\n",
    "                color_map[I*(m) + J] = \"red\"\n",
    "            else\n",
    "                color_map[i*(m) + J] = \"blue\"\n",
    "            end\n",
    "        end\n",
    "        if a[j]==2\n",
    "            for i in 0:n-1\n",
    "                if b[j]==i+1\n",
    "                    spin[i+1]*=-1\n",
    "                    spin[i+2]*=-1\n",
    "                end\n",
    "            end \n",
    "        end\n",
    "    end\n",
    "    for i in 0:n-1\n",
    "            J=m-2*(MaxM)\n",
    "            I=i\n",
    "            if spin[i+1] == 1\n",
    "                color_map[I*(m) + J] = \"red\"\n",
    "            else\n",
    "                color_map[i*(m) + J] = \"blue\"\n",
    "            end\n",
    "     end\n",
    "\n",
    "    print(\"    \")\n",
    "    for i in 1:Nsites\n",
    "        print(spin[i],\"       \")\n",
    "    end\n",
    "\n",
    "    nx.draw(G,pos,node_color=color_map, font_color=\"white\",node_size=25);\n",
    "    nx.draw_networkx_edges(G,pos,edgelist=edges,width=width,edge_color=edge_color);\n",
    "end"
   ]
  },
  {
   "cell_type": "markdown",
   "metadata": {},
   "source": [
    "## 6.) Print vertex list\n"
   ]
  },
  {
   "cell_type": "code",
   "execution_count": 37,
   "metadata": {
    "jupyter": {
     "source_hidden": true
    }
   },
   "outputs": [
    {
     "data": {
      "text/plain": [
       "printVertexList"
      ]
     },
     "execution_count": 37,
     "metadata": {},
     "output_type": "execute_result"
    }
   ],
   "source": [
    "\"\"\"\n",
    "Print a given vertex list\n",
    "vlist - the vertex list\n",
    "\"\"\"\n",
    "function printVertexList(vlist)  \n",
    "    MaxM = size(vlist)[1]\n",
    "    print(\"l = \\t  \")\n",
    "    for i in 1:4\n",
    "        print(i,\"\\t\\t\\t  \")\n",
    "    end\n",
    "    print(\"\\n\\n\")\n",
    "    for i in 1:MaxM\n",
    "        for j in 1:4\n",
    "            print(\"\\t [\",4*(i-1) + j,\"]\",\"\\t\",vlist[i,j],\"\\t\")\n",
    "        end\n",
    "        print(\"\\n\")\n",
    "    end\n",
    "end"
   ]
  },
  {
   "cell_type": "markdown",
   "metadata": {},
   "source": [
    "## 7.) Find closed loop"
   ]
  },
  {
   "cell_type": "code",
   "execution_count": 85,
   "metadata": {
    "jupyter": {
     "source_hidden": true
    }
   },
   "outputs": [
    {
     "data": {
      "text/plain": [
       "findLoops"
      ]
     },
     "execution_count": 85,
     "metadata": {},
     "output_type": "execute_result"
    }
   ],
   "source": [
    "\"\"\"\n",
    "Find closed loops in the given SSE configuration\n",
    "specified by vertex list\n",
    "vertexlist - the current vertex list\n",
    "startId - the id of the starting bond\n",
    "legId - the id of the leg (=0,1,2,3) of the starting bond\n",
    "\"\"\"\n",
    "function findLoops(vertexlist,startId,legId)\n",
    "    # construct a loop by traversing the vertexlist.\n",
    "    # The rule is simply to follow the two steps:\n",
    "    #     1. start by picking an element of vertexlist(p)\n",
    "    #     2. go to the index pointed to by p\n",
    "    #     3. if l(p) == 1 move to 2 or if l(p) == 2 move to 1 and similarly for 3,4\n",
    "    #     4. go to vertexlist(p') and continue from step 1\n",
    "\n",
    "    move = Dict()\n",
    "    move[1]=2\n",
    "    move[2]=1\n",
    "    move[3]=4\n",
    "    move[4]=3\n",
    "\n",
    "    lpmove = Dict()\n",
    "    lpmove[0]=4\n",
    "    lpmove[1]=1\n",
    "    lpmove[2]=2\n",
    "    lpmove[3]=3\n",
    "    \n",
    "    pstart = startId\n",
    "    p = startId\n",
    "    lp = legId\n",
    "    vstart = 4.0*(p-1) + lp\n",
    "#    print(\"pstart=\",p,\"\\t\",\"lpstart=\",lp,\" vstart=\",vstart,\"\\n\")\n",
    "    \n",
    "    q = 0\n",
    "    v = 0\n",
    "    loopids = []\n",
    "    legids = []\n",
    "    listp = []\n",
    "    listlp = []\n",
    "    push!(loopids,p)\n",
    "    count = 1\n",
    "    while v != vstart  #&& count < 50\n",
    "        v = vertexlist[p,lp]\n",
    "        push!(legids,v)\n",
    "        push!(listp,p)\n",
    "        push!(listlp,lp)\n",
    "        lp = lpmove[trunc(Int,v%4)]\n",
    "        p = trunc(Int,1 + (v-lp)/4)\n",
    "        push!(legids,vertexlist[p,lp])\n",
    "        push!(listp,p)\n",
    "        push!(listlp,lp)\n",
    "#        print(\">\",p,\"\\t\",lp,\"\\t\",v,\"\\n\")\n",
    "        lp = move[lp]\n",
    "        q = p\n",
    "        lq = lp\n",
    "        count += 1\n",
    "#        print(count,\"\\t\",p,\"\\t\",lp,\"\\t v=\",4*(p-1)+lp,\"\\n\")\n",
    "        if v==vstart\n",
    "            break\n",
    "        end        \n",
    "        v = 4.0*(p-1) + lp\n",
    "        push!(loopids,p)\n",
    "    end\n",
    "    push!(legids,vertexlist[p,lp])\n",
    "    push!(listp,p)\n",
    "    push!(listlp,lp)\n",
    "    return(loopids,legids,listp,listlp)\n",
    "end"
   ]
  },
  {
   "cell_type": "markdown",
   "metadata": {},
   "source": [
    "## 8.) Diagonal update"
   ]
  },
  {
   "cell_type": "code",
   "execution_count": 362,
   "metadata": {
    "jupyter": {
     "source_hidden": true
    }
   },
   "outputs": [
    {
     "data": {
      "text/plain": [
       "diagUpdate!"
      ]
     },
     "execution_count": 362,
     "metadata": {},
     "output_type": "execute_result"
    }
   ],
   "source": [
    "import Random\n",
    "\n",
    "\"\"\"\n",
    "Get diag update addition probability\n",
    "\"\"\"\n",
    "function diagProbAdd(B,β,M,n)\n",
    "    return (min((B*β/2)/(M-n),1))\n",
    "end\n",
    "\n",
    "\"\"\"\n",
    "Get diag update removal probability\n",
    "\"\"\"\n",
    "function diagProbRemove(B,β,M,n)\n",
    "    return (min((M-n+1)/(B*β/2),1))\n",
    "end\n",
    "\n",
    "#Random.seed!(1234)\n",
    "\"\"\"\n",
    "Return a random number [0,1)\n",
    "\"\"\"\n",
    "function getRand()\n",
    "    return rand()\n",
    "end\n",
    "\n",
    "\"\"\"\n",
    "The function that implements diagonal update\\n\n",
    "a - bond type\n",
    "b - bond id\n",
    "opstring - combind bond type and id\n",
    "spin - the spin configuration\n",
    "bsites - site list for each bond\n",
    "MaxM - the time dimension\n",
    "Nsites - number of sites\n",
    "β - time step\n",
    "\"\"\"\n",
    "function diagUpdate!(a,b,opstring,spin,bsites,n,MaxM,Nsites,β)\n",
    "    B = Nsites-1\n",
    "    for i in 1:MaxM\n",
    "        rnd = getRand()\n",
    "        bnd = trunc(Int,ceil(B*rnd))\n",
    "        spin1 = spin[trunc(Int,bsites[bnd,1])]\n",
    "        spin2 = spin[trunc(Int,bsites[bnd,2])]\n",
    "        if spin1 != spin2 && a[i] == 0\n",
    "            probAc = diagProbAdd(B,β,MaxM,n)\n",
    "            rnd = getRand()\n",
    "            if rnd < probAc\n",
    "                # accept update\n",
    "                b[i] = bnd\n",
    "                a[i] = 1\n",
    "                opstring[i] = 2 * bnd\n",
    "                n += 1\n",
    "            end\n",
    "        elseif a[i] == 1\n",
    "            probRm = diagProbRemove(B,β,MaxM,n)\n",
    "            rnd = getRand()\n",
    "            if rnd < probRm\n",
    "                # remove bond\n",
    "                b[i] = 0\n",
    "                a[i] = 0\n",
    "                opstring[i] = 0\n",
    "                n -= 1\n",
    "            end\n",
    "        end\n",
    "        if a[i] == 2\n",
    "            # propagate the state\n",
    "            spin[trunc(Int,bsites[trunc(Int,b[i]),1])] *=-1\n",
    "            spin[trunc(Int,bsites[trunc(Int,b[i]),2])] *=-1\n",
    "        end\n",
    "    end\n",
    "    return n\n",
    "end"
   ]
  },
  {
   "cell_type": "markdown",
   "metadata": {},
   "source": [
    "## 9.) Off diagonal pair update"
   ]
  },
  {
   "cell_type": "code",
   "execution_count": 9,
   "metadata": {
    "jupyter": {
     "source_hidden": true
    }
   },
   "outputs": [
    {
     "data": {
      "text/plain": [
       "offdiagonalUpdate!"
      ]
     },
     "execution_count": 9,
     "metadata": {},
     "output_type": "execute_result"
    }
   ],
   "source": [
    "\"\"\"\n",
    "Generate the list of all the pair of operators type 2 for \n",
    "the off-diagonal update\n",
    "looplist - list of loops\n",
    "a - list of bond types\n",
    "b - list of bond ids\n",
    "opstring - opstring\n",
    "bsites - spin ids for each bond\n",
    "\"\"\"\n",
    "function offdiagonalUpdate!(looplist,a,b,opstring,bsites)\n",
    "    \n",
    "    lpmove = Dict()\n",
    "    lpmove[0]=4\n",
    "    lpmove[1]=1\n",
    "    lpmove[2]=2\n",
    "    lpmove[3]=3\n",
    "    \n",
    "    opinvert = Dict()\n",
    "    opinvert[1.0] = 2.0\n",
    "    opinvert[2.0] = 1.0\n",
    "    \n",
    "    nloops = size(looplist)\n",
    "    loopdims = map(x->size(x)[1],looplist)\n",
    "    idxoffdiagloops = findall(x->x==5,loopdims)\n",
    "    numoffdiagloops = size(idxoffdiagloops)[1]\n",
    "    for i in 1:numoffdiagloops\n",
    "        id = idxoffdiagloops[i]\n",
    "        v1  = looplist[id][1]\n",
    "        v2  = looplist[id][2]\n",
    "        lp1 = lpmove[v1%4]\n",
    "        p1  = trunc(Int,1 + (v1-lp1)/4)        \n",
    "        lp2 = lpmove[v2%4]\n",
    "        p2  = trunc(Int,1 + (v2-lp2)/4)        \n",
    "#        print(i,\"\\t\",v1,\"\\t\",v2,\"\\n\")\n",
    "        if v1 > v2\n",
    "            # winded through periodic edges\n",
    "            # need to change spin configuration\n",
    "            a[p1] = opinvert[a[p1]]\n",
    "            a[p2] = opinvert[a[p2]]            \n",
    "            opstring[p1] = 2*b[p1] + a[p1] - 1\n",
    "            opstring[p2] = 2*b[p2] + a[p2] - 1\n",
    "            b1 = trunc(Int,b[p1])\n",
    "            b2 = trunc(Int,b[p2])\n",
    "            if b1 != b2\n",
    "                print(\"Something is wrong in off diag up b1 != b2\\n\")\n",
    "            end\n",
    "            s1 = trunc(Int,bsites[b1,1])\n",
    "            s2 = trunc(Int,bsites[b1,2])\n",
    "            spin[s1] *= -1\n",
    "            spin[s2] *= -1\n",
    "        else\n",
    "            # direct loop \n",
    "            # no need to change spin configurations\n",
    "            a[p1] = opinvert[a[p1]]\n",
    "            a[p2] = opinvert[a[p2]]\n",
    "            opstring[p1] = 2*b[p1] + a[p1] - 1\n",
    "            opstring[p2] = 2*b[p2] + a[p2] - 1\n",
    "        end       \n",
    "    end\n",
    "end"
   ]
  },
  {
   "cell_type": "markdown",
   "metadata": {},
   "source": [
    "## 10.) Loop update"
   ]
  },
  {
   "cell_type": "code",
   "execution_count": 365,
   "metadata": {},
   "outputs": [
    {
     "data": {
      "text/plain": [
       "loopUpdate!"
      ]
     },
     "execution_count": 365,
     "metadata": {},
     "output_type": "execute_result"
    }
   ],
   "source": [
    "\"\"\"\n",
    "Generate the list of all the pair of operators with loop dim  > 5 for \n",
    "the loop update\n",
    "looplist - list of loops\n",
    "a - list of bond types\n",
    "b - list of bond ids\n",
    "opstring - opstring\n",
    "bsites - spin ids for each bond\n",
    "\"\"\"\n",
    "function loopUpdate!(looplist,a,b,opstring,spin,bsites,crossed_bonds)\n",
    "    \n",
    "    lpmove = Dict()\n",
    "    lpmove[0]=4\n",
    "    lpmove[1]=1\n",
    "    lpmove[2]=2\n",
    "    lpmove[3]=3\n",
    "    \n",
    "    opinvert = Dict()\n",
    "    opinvert[1] = 2\n",
    "    opinvert[2] = 1\n",
    "    \n",
    "    donea = zeros(Int,size(a))\n",
    "            \n",
    "    nloops = size(looplist)\n",
    "    loopdims = map(x->size(x)[1],looplist)\n",
    "    idxloops = findall(x->x>0,loopdims)\n",
    "    numloops = size(idxloops)[1]\n",
    "    for i in 1:numloops\n",
    "        id = idxloops[i]\n",
    "        rnd = rand()\n",
    "        if rnd >= 0.5\n",
    "            for j in 1:loopdims[id]-1\n",
    "                v1  = looplist[id][j]\n",
    "                lp1 = lpmove[v1%4]\n",
    "                p1  = trunc(Int,1 + (v1-lp1)/4)        \n",
    "                donea[p1] += 1\n",
    "                # direct loop \n",
    "                # no need to change spin configurations \n",
    "                a[p1] = opinvert[a[p1]]\n",
    "                opstring[p1] = 2*b[p1] + a[p1] - 1\n",
    "                bnd = b[p1]\n",
    "                if crossed_bonds[bnd] > 0\n",
    "                    spin[bsites[bnd,1]] *= -1\n",
    "                    spin[bsites[bnd,2]] *= -1\n",
    "                end\n",
    "            end \n",
    "            donea = zeros(Int,size(a))\n",
    "        end\n",
    "    end\n",
    "end"
   ]
  },
  {
   "cell_type": "markdown",
   "metadata": {},
   "source": [
    "## 11.) Construct all loops"
   ]
  },
  {
   "cell_type": "code",
   "execution_count": 353,
   "metadata": {
    "jupyter": {
     "source_hidden": true
    }
   },
   "outputs": [
    {
     "data": {
      "text/plain": [
       "constructAllLoops"
      ]
     },
     "execution_count": 353,
     "metadata": {},
     "output_type": "execute_result"
    }
   ],
   "source": [
    "\"\"\"\n",
    "Construct all loops given vlist\n",
    "vlist - the vertexlist\n",
    "\"\"\"\n",
    "function constructAllLoops(vlist,MaxM)\n",
    "    \n",
    "    traversedvertices = ones(Int,MaxM, 4)\n",
    "    zerosid = findall(x->x == 0,vlist)\n",
    "    traversedvertices[zerosid] .= 0\n",
    "    loops = []\n",
    "    nones = MaxM*4\n",
    "    nonzerosid = findall(x->x != 0,vlist)\n",
    "    if size(nonzerosid)[1] > 0\n",
    "        \n",
    "        v1 = vlist[nonzerosid[1]]\n",
    "        \n",
    "        lpmove = Dict()\n",
    "        lpmove[0]=4\n",
    "        lpmove[1]=1\n",
    "        lpmove[2]=2\n",
    "        lpmove[3]=3\n",
    "\n",
    "        lp = lpmove[v1%4]\n",
    "        p  = trunc(Int,1 + (v1-lp)/4)\n",
    "        while nones > 0\n",
    "            bids, legids, listp, listlp = findLoops(vlist,p,lp);\n",
    "            push!(loops,legids)\n",
    "            for (a,b) in zip(listp[1:end-1],listlp[1:end-1])\n",
    "                @inbounds traversedvertices[a,b] *= -1\n",
    "            end\n",
    "            idones = findall(x->x==1,traversedvertices)\n",
    "            nones = size(idones)[1]\n",
    "            if nones > 0\n",
    "                p = idones[1][1]\n",
    "                lp = idones[1][2]\n",
    "            end\n",
    "        end\n",
    "        return(loops)\n",
    "    else\n",
    "        return(-1)\n",
    "    end\n",
    "end"
   ]
  },
  {
   "cell_type": "markdown",
   "metadata": {},
   "source": [
    "## 12.) Make vertex list improved"
   ]
  },
  {
   "cell_type": "code",
   "execution_count": 360,
   "metadata": {
    "jupyter": {
     "source_hidden": true
    }
   },
   "outputs": [
    {
     "data": {
      "text/plain": [
       "makeVertexListSimple"
      ]
     },
     "execution_count": 360,
     "metadata": {},
     "output_type": "execute_result"
    }
   ],
   "source": [
    "\"\"\"\n",
    "A function that combines two lists and returns a sorted list.\n",
    "\"\"\"\n",
    "function mergesorted(a,b) \n",
    "    return(sort!(vcat(a,b)))\n",
    "end\n",
    "\n",
    "\n",
    "\"\"\"\n",
    "A simple version to make the vertex list\n",
    "we simply combine the off-diagonal and diagonal terms.\n",
    "a - the bond types\n",
    "b - the bond ids of each bond\n",
    "\"\"\"\n",
    "function makeVertexListSimple(a,b,Nsites,M)\n",
    "    # Get the dimension\n",
    "    MaxM = M\n",
    "#    print(\"MaxM=\",MaxM,\"\\n\")\n",
    "    \n",
    "    # find the number of operators\n",
    "    # and their locations\n",
    "    op_ids = findall(x->x > 0,a)\n",
    "    num_op = size(op_ids)[1]\n",
    "\n",
    "    # get bond corresponding to each operator\n",
    "    bond_op = b[op_ids]\n",
    "\n",
    "    # get bond type\n",
    "    bond_type = a[op_ids] \n",
    "    \n",
    "    cyclic_ids = Dict()\n",
    "    for i in 1:Nsites-1\n",
    "        cyclic_ids[i] = i\n",
    "    end\n",
    "    cyclic_ids[Nsites] = -1\n",
    "    cyclic_ids[0] = -1\n",
    "    \n",
    "    vlist = zeros(Int,MaxM,4)\n",
    "    \n",
    "    boolToId_prev = Dict()\n",
    "    boolToId_prev[true]  = 3\n",
    "    boolToId_prev[false] = 4\n",
    "    \n",
    "    boolToId_next = Dict()\n",
    "    boolToId_next[true]  = 4\n",
    "    boolToId_next[false] = 3\n",
    "    \n",
    "    lpNext = Dict()\n",
    "    lpNext[3] = 1\n",
    "    lpNext[4] = 2\n",
    "    \n",
    "    done_prev = false\n",
    "    done_next = false\n",
    "\n",
    "    \n",
    "    # list of bonds that are crossed \n",
    "    # due to the periodic loops\n",
    "    crossed_bonds = zeros(Int,Nsites-1)\n",
    "    \n",
    "    idxcrossbond_prev = Dict()\n",
    "    idxcrossbond_prev[true] = 0\n",
    "    idxcrossbond_prev[false] = -1\n",
    "    \n",
    "    idxcrossbond_next = Dict()\n",
    "    idxcrossbond_next[true] = 0\n",
    "    idxcrossbond_next[false] = 1\n",
    "    \n",
    "    checkIds = Dict()\n",
    "    for i in 1:Nsites-1\n",
    "        checkIds[i] = i\n",
    "    end    \n",
    "    checkIds[0] = 1\n",
    "    checkIds[Nsites] = Nsites-1    \n",
    "    \n",
    "    \n",
    "    # make the list of op ids which act on bond ids\n",
    "    # one before and one after the current bond id\n",
    "    # e.g.\n",
    "    # -a-|\n",
    "    #    |\n",
    "    #    |    |-b-\n",
    "    #    |-e--|\n",
    "    #    |    |\n",
    "    #    1    2\n",
    "    #     ----\n",
    "    #    3    4\n",
    "    #    |    |\n",
    "    # -c-|    |\n",
    "    #    |    |-d-\n",
    "    #    |-f--|\n",
    "    #\n",
    "    # the stored indices will be [1,2,4,5] each for the\n",
    "    # four legs\n",
    "#    diff_bond_list = zeros(num_op,4)\n",
    "    for i in 1:num_op\n",
    "        p = op_ids[i]   \n",
    "        \n",
    "        done_prev = false\n",
    "        done_next = false\n",
    "        \n",
    "        bid_i = trunc(Int,bond_op[i])\n",
    "        bid_im1 = cyclic_ids[bid_i - 1]\n",
    "        bid_ip1 = cyclic_ids[bid_i + 1]\n",
    "        \n",
    "        diag_idlist = filter!(x->x != i,findall(x->x == bid_i, bond_op))\n",
    "        prev_idlist = findall(x->x == bid_im1, bond_op)\n",
    "        next_idlist = findall(x->x == bid_ip1, bond_op)\n",
    "        \n",
    "        blist_prev = mergesorted(prev_idlist,diag_idlist)\n",
    "        nbids_prev = size(blist_prev)[1]\n",
    "        blist_next = mergesorted(diag_idlist,next_idlist)\n",
    "        nbids_next = size(blist_next)[1]\n",
    "        \n",
    "        if nbids_prev == 0\n",
    "            blist_prev = [i]\n",
    "            ids_adjascent_prev = [1]\n",
    "            nbids_prev = 1\n",
    "            done_prev = true\n",
    "            # set the crossed bonds index\n",
    "            crossed_bonds[checkIds[b[p]]] += 1              \n",
    "        end\n",
    "        if nbids_next == 0\n",
    "            blist_next = [i]\n",
    "            ids_adjascent_next = [1]\n",
    "            nbids_next = 1\n",
    "            done_next = true\n",
    "            # set the crossed bonds index\n",
    "            crossed_bonds[checkIds[b[p]]] += 1\n",
    "        end\n",
    "\n",
    "        if !done_prev\n",
    "            ids_adjascent_prev = [searchsortedlast(blist_prev,i),searchsortedfirst(blist_prev,i)]\n",
    "        \n",
    "            # adjust for the case where i is at 0 or end\n",
    "            if ids_adjascent_prev[1] == 0 || ids_adjascent_prev[2] == nbids_prev + 1\n",
    "                if nbids_prev == 1\n",
    "                    ids_adjascent_prev = [1]\n",
    "                    nbids_prev = 1\n",
    "                else\n",
    "                    ids_adjascent_prev = [nbids_prev,1]\n",
    "                    nbids_prev = 2\n",
    "                end\n",
    "                \n",
    "                # set the crossed bonds index\n",
    "                if i > blist_prev[1]\n",
    "                    crossbid = idxcrossbond_prev[isinvec(diag_idlist, blist_prev[1])]\n",
    "                    crossed_bonds[checkIds[b[p] + crossbid]] += 1\n",
    "                else\n",
    "                    crossbid = idxcrossbond_prev[isinvec(diag_idlist, blist_prev[end])]\n",
    "                    crossed_bonds[checkIds[b[p] + crossbid]] += 1                    \n",
    "                end\n",
    "            end\n",
    "        end\n",
    "        if !done_next\n",
    "            ids_adjascent_next = [searchsortedlast(blist_next,i),searchsortedfirst(blist_next,i)]\n",
    "        \n",
    "            # adjust for the case where i is at 0 or end\n",
    "            if ids_adjascent_next[1] == 0 || ids_adjascent_next[2] == nbids_next + 1\n",
    "                if nbids_next == 1\n",
    "                    ids_adjascent_next = [1]\n",
    "                    nbids_next = 1\n",
    "                else\n",
    "                    ids_adjascent_next = [nbids_next,1]\n",
    "                    nbids_next = 2\n",
    "                end\n",
    "                # set the crossed bonds index\n",
    "                if i > blist_next[1]\n",
    "                    crossbid = idxcrossbond_next[isinvec(diag_idlist, blist_next[1])]\n",
    "                    crossed_bonds[checkIds[b[p] + crossbid]] += 1\n",
    "                else\n",
    "                    crossbid = idxcrossbond_next[isinvec(diag_idlist, blist_next[end])]\n",
    "                    crossed_bonds[checkIds[b[p] + crossbid]] += 1                    \n",
    "                end                \n",
    "            end\n",
    "        end\n",
    "\n",
    "        \n",
    "#        print(i,\"\\t\",bid_im1,\"\\t\",bid_i,\"\\t\",bid_ip1,\"\\t\",blist_prev,\"\\t\",blist_next,\"\\n\")\n",
    "#        print(\"\\t>\",ids_adjascent_prev,\"\\t\",nbids_prev,\"\\n\")\n",
    "#        print(\"\\t>\",ids_adjascent_next,\"\\t\",nbids_next,\"\\n\")\n",
    "        \n",
    "        \n",
    "        # assign left ids to vertexlist\n",
    "        if nbids_prev == 1\n",
    "            pid_prev = blist_prev[ids_adjascent_prev[1]]\n",
    "            p_id = op_ids[pid_prev]\n",
    "            if isinvec(diag_idlist,pid_prev) || pid_prev == i\n",
    "                vlist[p,1] = 4*(p_id - 1) + 3\n",
    "                vlist[p,3] = 4*(p_id - 1) + 1\n",
    "            else\n",
    "                vlist[p,1] = 4*(p_id - 1) + 4\n",
    "                vlist[p,3] = 4*(p_id - 1) + 2              \n",
    "            end\n",
    "        else\n",
    "            pid_left_up = blist_prev[ids_adjascent_prev[1]]\n",
    "            p_id_up = op_ids[pid_left_up]\n",
    "            pid_left_dn = blist_prev[ids_adjascent_prev[2]]\n",
    "            p_id_dn = op_ids[pid_left_dn] \n",
    "            \n",
    "            # get lp\n",
    "            lp_up = boolToId_prev[isinvec(diag_idlist,pid_left_up)]\n",
    "            lp_dn = lpNext[boolToId_prev[isinvec(diag_idlist,pid_left_dn)]]\n",
    "            \n",
    "            # set vlist\n",
    "            vlist[p,1] = 4*(p_id_up - 1) + lp_up\n",
    "            vlist[p,3] = 4*(p_id_dn - 1) + lp_dn\n",
    "        end\n",
    "        \n",
    "        # assign right ids to vertexlist\n",
    "        if nbids_next == 1\n",
    "            pid_next = blist_next[ids_adjascent_next[1]]\n",
    "            p_id = op_ids[pid_next]\n",
    "            if isinvec(diag_idlist,pid_next) || pid_next == i\n",
    "                vlist[p,2] = 4*(p_id - 1) + 4\n",
    "                vlist[p,4] = 4*(p_id - 1) + 2\n",
    "            else\n",
    "                vlist[p,2] = 4*(p_id - 1) + 3\n",
    "                vlist[p,4] = 4*(p_id - 1) + 1              \n",
    "            end\n",
    "        else\n",
    "            pid_right_up = blist_next[ids_adjascent_next[1]]\n",
    "            p_id_up = op_ids[pid_right_up]\n",
    "            pid_right_dn = blist_next[ids_adjascent_next[2]]\n",
    "            p_id_dn = op_ids[pid_right_dn] \n",
    "            \n",
    "            # get lp\n",
    "            lp_up = boolToId_next[isinvec(diag_idlist,pid_right_up)]\n",
    "            lp_dn = lpNext[boolToId_next[isinvec(diag_idlist,pid_right_dn)]]\n",
    "            \n",
    "            # set vlist\n",
    "            vlist[p,2] = 4*(p_id_up - 1) + lp_up\n",
    "            vlist[p,4] = 4*(p_id_dn - 1) + lp_dn\n",
    "        end\n",
    "\n",
    "    end\n",
    "    return (vlist, crossed_bonds)\n",
    "end"
   ]
  },
  {
   "cell_type": "markdown",
   "metadata": {},
   "source": [
    "## 13.) Exists in vector function"
   ]
  },
  {
   "cell_type": "code",
   "execution_count": 13,
   "metadata": {
    "jupyter": {
     "source_hidden": true
    }
   },
   "outputs": [
    {
     "data": {
      "text/plain": [
       "isinvec"
      ]
     },
     "execution_count": 13,
     "metadata": {},
     "output_type": "execute_result"
    }
   ],
   "source": [
    "\"\"\"\n",
    "Check if an element exists in vector\n",
    "vec - vector\n",
    "x - element\n",
    "\"\"\"\n",
    "function isinvec(vec,x)\n",
    "    if size(findall(y->y==x,vec))[1] >0\n",
    "        return true\n",
    "    else\n",
    "        return false\n",
    "    end\n",
    "end"
   ]
  },
  {
   "cell_type": "code",
   "execution_count": null,
   "metadata": {},
   "outputs": [],
   "source": []
  }
 ],
 "metadata": {
  "kernelspec": {
   "display_name": "Julia 1.3.0",
   "language": "julia",
   "name": "julia-1.3"
  },
  "language_info": {
   "file_extension": ".jl",
   "mimetype": "application/julia",
   "name": "julia",
   "version": "1.3.0"
  }
 },
 "nbformat": 4,
 "nbformat_minor": 4
}
