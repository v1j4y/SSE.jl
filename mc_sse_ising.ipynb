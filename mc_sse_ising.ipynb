{
 "cells": [
  {
   "cell_type": "markdown",
   "metadata": {},
   "source": [
    "# Stochastic Series Expansion (SSE)"
   ]
  },
  {
   "cell_type": "markdown",
   "metadata": {},
   "source": [
    "## 1. Theory"
   ]
  },
  {
   "cell_type": "markdown",
   "metadata": {},
   "source": [
    "Algorithm based on the introduction by [Sandvik A.](https://physics.bu.edu/~sandvik/programs/ssebasic/ssebasic.html)\n",
    "\n",
    "1. Representation of the 2 + 1 dimensional system (periodic)"
   ]
  },
  {
   "cell_type": "code",
   "execution_count": 52,
   "metadata": {
    "hide_input": true
   },
   "outputs": [
    {
     "data": {
      "text/plain": [
       "4×2 Array{Float64,2}:\n",
       "  1.0   1.0\n",
       " -1.0   1.0\n",
       "  1.0   1.0\n",
       " -1.0  -1.0"
      ]
     },
     "execution_count": 52,
     "metadata": {},
     "output_type": "execute_result"
    }
   ],
   "source": [
    "Lx=4\n",
    "Ly=2\n",
    "Nsites = Lx*Ly\n",
    "configuration = reshape([(i-0.5)/abs(i-0.5) for i in rand(Nsites)],Lx,Ly)\n",
    "configuration"
   ]
  },
  {
   "cell_type": "markdown",
   "metadata": {},
   "source": [
    "### a.) Bipartite lattice"
   ]
  },
  {
   "cell_type": "markdown",
   "metadata": {},
   "source": [
    "The lattice must be representable as a bipartite lattice:\n",
    "\n",
    "$$\n",
    "\\hat{H} = J \\hat{S}_a\\cdot\\hat{S}_b\n",
    "$$\n",
    "\n",
    "Where $\\textbf{a}$ and $\\textbf{b}$ are the two sublattices."
   ]
  },
  {
   "cell_type": "code",
   "execution_count": 53,
   "metadata": {
    "code_folding": [],
    "hide_input": true
   },
   "outputs": [
    {
     "data": {
      "image/png": "[encoded data removed]",
      "text/plain": [
       "Figure(PyObject <Figure size 640x480 with 1 Axes>)"
      ]
     },
     "metadata": {},
     "output_type": "display_data"
    }
   ],
   "source": [
    "using ImageView, Images, TestImages\n",
    "using PyPlot\n",
    "using PyCall\n",
    "using Conda\n",
    "\n",
    "\n",
    "mplt = pyimport(\"matplotlib.pyplot\")\n",
    "\n",
    "nx = pyimport(\"networkx\")\n",
    "\n",
    "np = pyimport(\"numpy\")\n",
    "\n",
    "n=Lx+2\n",
    "m=Ly+2\n",
    "\n",
    "G = nx.grid_2d_graph(n,m)  # Lx, Ly grid\n",
    "\n",
    "pos = Dict( (n, n) for n in G.nodes() );\n",
    "#labels = Dict( ((i, j), i + (Ly-j) * (Lx+1) ) for (i,j) in G.nodes() );\n",
    "#edges=Dict()\n",
    "#for (i,edge) in enumerate(G.edges)\n",
    "#    edges[edge]=i\n",
    "#    print(i,\"\\t\",edge,\"\\n\")\n",
    "#end\n",
    "\n",
    "\n",
    "for j in 0:m-2\n",
    "    G.remove_edge((0,j),(0,j+1))\n",
    "    G.remove_edge((n-1,j),(n-1,j+1))\n",
    "end\n",
    "for i in 0:n-2\n",
    "    G.remove_edge((i,0),(i+1,0))\n",
    "    G.remove_edge((i,m-1),(i+1,m-1))\n",
    "end\n",
    "\n",
    "\n",
    "edgescenter = Dict()\n",
    "countedge = 1\n",
    "for j in 1:m-2\n",
    "    for i in 1:n-2\n",
    "        edgescenter[((i,j),(i+1,j))] = countedge\n",
    "        countedge += 1\n",
    "    end\n",
    "end\n",
    "for j in 1:m-2\n",
    "    for i in 1:n-2\n",
    "        edgescenter[((i,j),(i,j+1))] = countedge\n",
    "        countedge += 1\n",
    "    end\n",
    "end\n",
    "\n",
    "labelscenter = Dict()\n",
    "countlabels = 1\n",
    "for j in 1:m-2\n",
    "    for i in 1:n-2\n",
    "        labelscenter[(i,j)]=countlabels\n",
    "        countlabels+=1\n",
    "    end\n",
    "end\n",
    "\n",
    "\n",
    "color_map=[]\n",
    "countcolor=0\n",
    "for i in 0:n-1\n",
    "    for j in 0:m-1\n",
    "        if i==0 || j==0 || i==n-1 || j==m-1\n",
    "            push!(color_map,\"white\")\n",
    "        else\n",
    "            if(countcolor%2 == 0)\n",
    "                push!(color_map,\"blue\")\n",
    "            else\n",
    "                push!(color_map,\"red\")\n",
    "            end\n",
    "            countcolor+=1\n",
    "        end\n",
    "    end\n",
    "    countcolor+=1\n",
    "end\n",
    "\n",
    "nx.draw(G, pos=pos, labels=labelscenter, node_color=color_map, font_color=\"white\");\n",
    "nx.draw_networkx_edge_labels(G,pos,edge_labels=edgescenter,font_color=\"black\");\n",
    "\n"
   ]
  },
  {
   "cell_type": "markdown",
   "metadata": {},
   "source": [
    "### b.) spin and opstring"
   ]
  },
  {
   "cell_type": "markdown",
   "metadata": {},
   "source": [
    "spin[i] is the spin at the ith site and is of dim $Lx * Ly$.\n",
    "\n",
    "opstring[i] is the operator string at order i. The dimension of opstring is the total number of operators M.\n"
   ]
  },
  {
   "cell_type": "code",
   "execution_count": 158,
   "metadata": {},
   "outputs": [
    {
     "data": {
      "text/plain": [
       "8-element Array{Float64,1}:\n",
       "  1.0\n",
       "  1.0\n",
       " -1.0\n",
       " -1.0\n",
       "  1.0\n",
       " -1.0\n",
       "  1.0\n",
       " -1.0"
      ]
     },
     "execution_count": 158,
     "metadata": {},
     "output_type": "execute_result"
    }
   ],
   "source": [
    "spin = configuration\n",
    "spin = 1.0*[1; 1; -1; -1; 1; -1; 1; -1]"
   ]
  },
  {
   "cell_type": "markdown",
   "metadata": {},
   "source": [
    "the opstring is a function of the type of operator $a$ and the bond id $b$ which is given by:\n",
    "\n",
    "$$\n",
    "opstring[p] = 2*b[p] + a[p] - 1\n",
    "$$\n",
    "\n",
    "with the condition that when a == b == 0 opstring = 0"
   ]
  },
  {
   "cell_type": "code",
   "execution_count": 154,
   "metadata": {
    "hide_input": true
   },
   "outputs": [
    {
     "data": {
      "text/plain": [
       "12-element Array{Float64,1}:\n",
       "  4.0\n",
       "  0.0\n",
       "  9.0\n",
       " 13.0\n",
       "  6.0\n",
       "  0.0\n",
       "  0.0\n",
       "  4.0\n",
       " 13.0\n",
       "  0.0\n",
       "  9.0\n",
       " 14.0"
      ]
     },
     "execution_count": 154,
     "metadata": {},
     "output_type": "execute_result"
    }
   ],
   "source": [
    "MaxM = 12\n",
    "\n",
    "a = zeros(MaxM)\n",
    "a[1]=1\n",
    "a[3]=2\n",
    "a[4]=2\n",
    "a[5]=1\n",
    "a[8]=1\n",
    "a[9]=2\n",
    "a[11]=2\n",
    "a[12]=1\n",
    "b = zeros(MaxM)\n",
    "b[1]=2\n",
    "b[3]=4\n",
    "b[4]=6\n",
    "b[5]=3\n",
    "b[8]=2\n",
    "b[9]=6\n",
    "b[11]=4\n",
    "b[12]=7\n",
    "opstring = zeros(MaxM)\n",
    "\n",
    "function buildOpstring!(opstring,a,b)\n",
    "    dim = length(a);\n",
    "    eye = ones(dim);\n",
    "    idxa = a .== 0;\n",
    "    idxb = b .== 0;\n",
    "    eye[idxa] .= 0;\n",
    "    opstring .= 2 * b + a - eye;\n",
    "end\n",
    "\n",
    "buildOpstring!(opstring,a,b)\n",
    "opstring"
   ]
  },
  {
   "cell_type": "markdown",
   "metadata": {},
   "source": [
    "### c.) applying opstring"
   ]
  },
  {
   "cell_type": "markdown",
   "metadata": {},
   "source": [
    "Apply opstring and evolve string in the imaginary time axis."
   ]
  },
  {
   "cell_type": "code",
   "execution_count": 223,
   "metadata": {
    "code_folding": [
     22,
     34,
     41,
     50,
     70,
     84,
     95,
     104
    ],
    "hide_input": true
   },
   "outputs": [
    {
     "data": {
      "image/png": "[encoded data removed]",
      "text/plain": [
       "Figure(PyObject <Figure size 640x480 with 1 Axes>)"
      ]
     },
     "metadata": {},
     "output_type": "display_data"
    },
    {
     "name": "stdout",
     "output_type": "stream",
     "text": [
      "    1.0      1.0      -1.0      -1.0      1.0      1.0      -1.0      -1.0      "
     ]
    }
   ],
   "source": [
    "# draw the given opstring\n",
    "\n",
    "using ImageView, Images, TestImages\n",
    "using PyPlot\n",
    "using PyCall\n",
    "using Conda\n",
    "\n",
    "\n",
    "mplt = pyimport(\"matplotlib.pyplot\")\n",
    "\n",
    "nx = pyimport(\"networkx\")\n",
    "\n",
    "np = pyimport(\"numpy\")\n",
    "\n",
    "m=2MaxM + 1\n",
    "n=4*2\n",
    "\n",
    "G = nx.grid_2d_graph(n,m)  # Lx, Ly grid\n",
    "pos = Dict( (n, n) for n in G.nodes() );\n",
    "\n",
    "color_map=[]\n",
    "countcolor=1\n",
    "for i in 0:n-1\n",
    "    for j in 0:m-1\n",
    "        if countcolor%2 == 0\n",
    "            push!(color_map,\"white\")\n",
    "        else\n",
    "            push!(color_map,\"blue\")\n",
    "        end\n",
    "        countcolor+=1\n",
    "    end\n",
    "    countcolor+=1\n",
    "end\n",
    "\n",
    "for j in 0:m-2\n",
    "    for i in 0:n-2\n",
    "        G.remove_edge((i,j),(i+1,j))\n",
    "        G.remove_edge((i,j),(i,j+1))\n",
    "    end\n",
    "    G.remove_edge((n-1,j),(n-1,j+1))\n",
    "end\n",
    "for i in 0:n-2\n",
    "    G.remove_edge((i,m-1),(i+1,m-1))\n",
    "end\n",
    "\n",
    "# make the ops by looping over the imaginary time axis\n",
    "# use a for the time direction and b for the space dimension\n",
    "#G.add_edge((0,m-2),(1,m-2))\n",
    "width=[]\n",
    "edge_color=[]\n",
    "for i in 1:MaxM\n",
    "    if a[i] != 0\n",
    "        J = m-2*i\n",
    "        I = trunc(Int,b[i]-1)\n",
    "        if a[i]==1\n",
    "            G.add_edge((I,J),(I+1,J))\n",
    "            push!(width,1.0)\n",
    "            push!(edge_color,\"brown\")\n",
    "        else\n",
    "            G.add_edge((I,J),(I+1,J))\n",
    "            push!(width,5.0)\n",
    "            push!(edge_color,\"black\")\n",
    "        end\n",
    "    end\n",
    "end\n",
    "\n",
    "\n",
    "edges=[]\n",
    "edge_color=[]\n",
    "width=[]\n",
    "for (i,edge) in enumerate(G.edges)\n",
    "#    edges[edge]=i\n",
    "    push!(edges,edge)\n",
    "    J = edge[2][1]\n",
    "    I = trunc(Int,MaxM-(edge[2][2]-1)/2)\n",
    "    if a[I]==2\n",
    "        push!(width,5.0)\n",
    "        push!(edge_color,\"black\")\n",
    "    else\n",
    "        push!(width,1.0)\n",
    "        push!(edge_color,\"brown\")\n",
    "    end\n",
    "end\n",
    "\n",
    "for j in 1:MaxM    \n",
    "    J = m-2*(j-1)        \n",
    "    for i in 0:n-1\n",
    "        I=i\n",
    "#        print(J,\" \",I,\"\\t\",J*(m-1)+I,\"\\n\")\n",
    "        if spin[i+1] == 1\n",
    "            color_map[I*(m) + J] = \"red\"\n",
    "        else\n",
    "            color_map[i*(m) + J] = \"blue\"\n",
    "        end\n",
    "    end\n",
    "    if a[j]==2\n",
    "        for i in 0:n-1\n",
    "            if b[j]==i+1\n",
    "                spin[i+1]*=-1\n",
    "                spin[i+2]*=-1\n",
    "            end\n",
    "        end \n",
    "    end\n",
    "end\n",
    "for i in 0:n-1\n",
    "        J=m-2*(MaxM)\n",
    "        I=i\n",
    "        if spin[i+1] == 1\n",
    "            color_map[I*(m) + J] = \"red\"\n",
    "        else\n",
    "            color_map[i*(m) + J] = \"blue\"\n",
    "        end\n",
    " end\n",
    "\n",
    "print(\"    \")\n",
    "for i in 1:Lx*Ly\n",
    "    print(spin[i],\"      \")\n",
    "end\n",
    "\n",
    "nx.draw(G,pos,node_color=color_map, font_color=\"white\",node_size=25)\n",
    "nx.draw_networkx_edges(G,pos,edgelist=edges,width=width,edge_color=edge_color);\n"
   ]
  },
  {
   "cell_type": "markdown",
   "metadata": {
    "heading_collapsed": true
   },
   "source": [
    "### d.) Vertex List I"
   ]
  },
  {
   "cell_type": "markdown",
   "metadata": {
    "hidden": true
   },
   "source": [
    "The vertex list is a matrix of dimension (MaxM, 4) and contains the connections of the opstring and the spins.\n",
    "\n",
    "The main algorithm to make the loops is the four index single opstring as shown below:"
   ]
  },
  {
   "cell_type": "code",
   "execution_count": 318,
   "metadata": {
    "code_folding": [],
    "hidden": true,
    "hide_input": true
   },
   "outputs": [
    {
     "data": {
      "image/png": "[encoded data removed]",
      "text/plain": [
       "Figure(PyObject <Figure size 640x480 with 1 Axes>)"
      ]
     },
     "metadata": {},
     "output_type": "display_data"
    }
   ],
   "source": [
    "Gsmall = nx.grid_2d_graph(11,5)\n",
    "pos = Dict( (n, n) for n in Gsmall.nodes() );\n",
    "\n",
    "spinup = [1; -1; 0; -1; 1; 0; 1; -1; 0; -1; 1]\n",
    "spindn = [1; -1; 0; -1; 1; 0; -1; 1; 0; 1; -1]\n",
    "color_map=[]\n",
    "countcolor=0\n",
    "for i in 0:11-1\n",
    "    for j in 0:5-1\n",
    "        if (i+1) % 3 == 0\n",
    "            push!(color_map,\"white\")\n",
    "        else\n",
    "            if (j+1) % 2 == 0\n",
    "                if j == 1\n",
    "                    if spindn[i+1] == -1\n",
    "                        push!(color_map,\"blue\")\n",
    "                    else\n",
    "                        push!(color_map,\"red\")\n",
    "                    end\n",
    "                elseif j == 3\n",
    "                    if spinup[i+1] == -1\n",
    "                        push!(color_map,\"red\")\n",
    "                    else\n",
    "                        push!(color_map,\"blue\")\n",
    "                    end\n",
    "                else\n",
    "                    push!(color_map,\"white\")\n",
    "                end\n",
    "            else\n",
    "                push!(color_map,\"white\")\n",
    "            end\n",
    "        end\n",
    "    end\n",
    "    countcolor+=1\n",
    "end\n",
    "\n",
    "for i in 0:11-2\n",
    "    Gsmall.remove_edge((i,0),(i+1,0))\n",
    "    Gsmall.remove_edge((i,4),(i+1,4))\n",
    "    Gsmall.remove_edge((i,2),(i+1,2))\n",
    "    if (i)%3 == 1\n",
    "        Gsmall.remove_edge((i,1),(i+1,1))\n",
    "        Gsmall.remove_edge((i+1,1),(i+2,1))\n",
    "        Gsmall.remove_edge((i,3),(i+1,3))\n",
    "        Gsmall.remove_edge((i+1,3),(i+2,3))\n",
    "    end\n",
    "end\n",
    "for j in 0:5-2\n",
    "    for i in 0:11-1\n",
    "        if j == 0 || j == 5 - 2\n",
    "            if (i+1) % 3 == 0\n",
    "                Gsmall.remove_edge((i,j),(i,j+1))\n",
    "            end\n",
    "        else\n",
    "            Gsmall.remove_edge((i,j),(i,j+1))\n",
    "        end\n",
    "    end\n",
    "end\n",
    "\n",
    "for i in 0:11-2\n",
    "    if (i+1)%3 == 1\n",
    "        Gsmall.add_edge((i,2),(i+1,2),width=5.0)\n",
    "    end\n",
    "end\n",
    "\n",
    "edges=[]\n",
    "edge_color=[]\n",
    "width=[]\n",
    "for (i,edge) in enumerate(Gsmall.edges)\n",
    "#    edges[edge]=i\n",
    "    push!(edges,edge)\n",
    "    J = edge[2][1]\n",
    "    I = edge[2][2]\n",
    "    if I == 2\n",
    "        if J <= 4\n",
    "            push!(width,5.0)\n",
    "            push!(edge_color,\"brown\")\n",
    "        else\n",
    "            push!(width,5.0)\n",
    "            push!(edge_color,\"black\")\n",
    "        end\n",
    "    else\n",
    "        push!(width,1.0)\n",
    "        push!(edge_color,\"black\")\n",
    "    end\n",
    "end\n",
    "\n",
    "edgelabels = Dict()\n",
    "for j in 0:11-2\n",
    "    if (j+1)%3==1\n",
    "        edgelabels[((j,0),(j,1))] = 3\n",
    "        edgelabels[((j+1,0),(j+1,1))] = 4\n",
    "        edgelabels[((j,3),(j,4))] = 1\n",
    "        edgelabels[((j+1,3),(j+1,4))] = 2\n",
    "    end\n",
    "end\n",
    "\n",
    "\n",
    "nx.draw(Gsmall, pos=pos, node_color=color_map)\n",
    "nx.draw_networkx_edges(Gsmall,pos,edgelist=edges,width=width,edge_color=edge_color);\n",
    "nx.draw_networkx_edge_labels(Gsmall,pos,edge_labels=edgelabels);\n"
   ]
  },
  {
   "cell_type": "markdown",
   "metadata": {},
   "source": [
    "### e.) Vertex List II"
   ]
  },
  {
   "cell_type": "markdown",
   "metadata": {
    "hide_input": false
   },
   "source": [
    "now to actually make the vertex list. Maybe a recursive algorithm can work !?\n",
    "\n",
    "$$\n",
    "vertexlist[v] = 4*(p-1) + l(p)\n",
    "$$\n",
    "\n",
    "where l(p) is the leg ind\n",
    "\n",
    "$$\n",
    "l(p) = 1,2,3,4\n",
    "$$"
   ]
  },
  {
   "cell_type": "code",
   "execution_count": 603,
   "metadata": {
    "code_folding": [
     18,
     66,
     75,
     137,
     195,
     218,
     228,
     250,
     270
    ]
   },
   "outputs": [
    {
     "name": "stdout",
     "output_type": "stream",
     "text": [
      "Ids     =\t[1, 3, 4, 5, 8, 9, 11, 12]\n",
      "bond Id =\t[2.0, 4.0, 6.0, 3.0, 2.0, 6.0, 4.0, 7.0]\n",
      "bond Type=\t[1.0, 2.0, 2.0, 1.0, 1.0, 2.0, 2.0, 1.0]\n",
      "\n",
      "\n",
      "[1]\t31.0\t[2]\t32.0\t[3]\t29.0\t[4]\t17.0\t\n",
      "[5]\t0.0\t[6]\t0.0\t[7]\t0.0\t[8]\t0.0\t\n",
      "[9]\t43.0\t[10]\t44.0\t[11]\t18.0\t[12]\t42.0\t\n",
      "[13]\t35.0\t[14]\t47.0\t[15]\t33.0\t[16]\t34.0\t\n",
      "[17]\t4.0\t[18]\t11.0\t[19]\t30.0\t[20]\t41.0\t\n",
      "[21]\t0.0\t[22]\t0.0\t[23]\t0.0\t[24]\t0.0\t\n",
      "[25]\t0.0\t[26]\t0.0\t[27]\t0.0\t[28]\t0.0\t\n",
      "[29]\t3.0\t[30]\t19.0\t[31]\t1.0\t[32]\t2.0\t\n",
      "[33]\t15.0\t[34]\t16.0\t[35]\t13.0\t[36]\t45.0\t\n",
      "[37]\t0.0\t[38]\t0.0\t[39]\t0.0\t[40]\t0.0\t\n",
      "[41]\t20.0\t[42]\t12.0\t[43]\t9.0\t[44]\t10.0\t\n",
      "[45]\t36.0\t[46]\t48.0\t[47]\t14.0\t[48]\t46.0\t\n"
     ]
    }
   ],
   "source": [
    "# find the number of operators\n",
    "# and their locations\n",
    "op_ids = findall(x->x > 0,a)\n",
    "print(\"Ids     =\",\"\\t\",op_ids,\"\\n\")\n",
    "num_op = size(op_ids)[1]\n",
    "\n",
    "# get bond corresponding to each operator\n",
    "bond_op = b[op_ids]\n",
    "print(\"bond Id =\",\"\\t\",bond_op,\"\\n\")\n",
    "\n",
    "# get bond type\n",
    "bond_type = a[op_ids]\n",
    "print(\"bond Type=\",\"\\t\",bond_type,\"\\n\")\n",
    "\n",
    "# make bond list which holds the ids of the ops\n",
    "# which act on the same bond before and after the\n",
    "# current op id\n",
    "same_bond_list = zeros(num_op,4)\n",
    "for i in 1:num_op\n",
    "    bid = bond_op[i]\n",
    "    idlist_same_bids = findall(x->x==bid,bond_op)\n",
    "    num_same_bid = size(idlist_same_bids)[1]\n",
    "    idcurrent = findall(x->x==i,idlist_same_bids)[1]\n",
    "#    print(i,\"\\t\",idlist_same_bids,\"\\t\",idcurrent)\n",
    "    if num_same_bid > 1\n",
    "        if idcurrent > 1 && idcurrent < num_same_bid\n",
    "#            print(\"\\t,\",\"prev=\",idlist_same_bids[idcurrent-1],\"\\t next=\",idlist_same_bids[idcurrent+1],\"\\n\")\n",
    "            same_bond_list[i,2] = idlist_same_bids[idcurrent-1]\n",
    "            same_bond_list[i,1] = i\n",
    "            same_bond_list[i,3] = idlist_same_bids[idcurrent+1]\n",
    "            same_bond_list[i,4] = 2\n",
    "        elseif idcurrent == 1\n",
    "#            print(\"\\t\",\"next=\",idlist_same_bids[idcurrent+1],\"\\n\")\n",
    "            same_bond_list[i,1] = 3\n",
    "            same_bond_list[i,3] = idlist_same_bids[idcurrent+1]\n",
    "            same_bond_list[i,4] = 1\n",
    "        elseif idcurrent == num_same_bid\n",
    "#            print(\"\\t\",\"prev=\",idlist_same_bids[idcurrent-1],\"\\n\")\n",
    "            same_bond_list[i,2] = idlist_same_bids[idcurrent-1]\n",
    "            same_bond_list[i,1] = 2\n",
    "            same_bond_list[i,4] = 1\n",
    "        end\n",
    "    else\n",
    "#        print(\"\\n\")\n",
    "    end\n",
    "end\n",
    "#printmat(same_bond_list)\n",
    "\n",
    "# make the list of op ids which act on bond ids\n",
    "# one before and one after the current bond id\n",
    "# e.g.\n",
    "# -a-\n",
    "#   |\n",
    "#   |    -b-\n",
    "#   |    |\n",
    "#   1    2\n",
    "#    ----\n",
    "#   3    4\n",
    "#   |    |\n",
    "# -c-    |\n",
    "#         -d-\n",
    "#\n",
    "# the stored indices will be [1,2,4,5] each for the\n",
    "# four legs\n",
    "print(\"\\n\")\n",
    "diff_bond_list = zeros(num_op,4)\n",
    "for i in 1:num_op\n",
    "    bid = bond_op[i]\n",
    "    if bid > 1 && bid < num_op\n",
    "        # first do the prev bond\n",
    "        idlist_prev_bid = findall(x->x==(bid-1),bond_op)\n",
    "        num_prev_bid = size(idlist_prev_bid)[1]\n",
    "        \n",
    "#        print(\"prev=\",idlist_prev_bid,\"\\t\")\n",
    "        \n",
    "        if num_prev_bid > 0\n",
    "            # get the ids which are adjascent to the\n",
    "            # current id\n",
    "            ids_adjascent_prev = [searchsortedlast(idlist_prev_bid,i),searchsortedfirst(idlist_prev_bid,i)]\n",
    "#            print(\"Lsearch Ids=\",ids_adjascent_prev,\"\\t\")\n",
    "            diag_up = trunc(Int,same_bond_list[i,2])\n",
    "            diag_dn = trunc(Int,same_bond_list[i,3])\n",
    "            if ids_adjascent_prev[1] > 0 && ids_adjascent_prev[2] < 2 + 1               \n",
    "                ids_adjascent_prev = ids_adjascent_prev[findall(x->x>0,ids_adjascent_prev)]\n",
    "                ids_adjascent_prev = ids_adjascent_prev[findall(x->x<num_prev_bid+1,ids_adjascent_prev)]\n",
    "                num_prev_bid = size(ids_adjascent_prev)[1]\n",
    "                winded_bond = false\n",
    "            elseif ids_adjascent_prev[1] == 0\n",
    "                if diag_dn > idlist_prev_bid[1] || diag_dn == 0\n",
    "                    ids_adjascent_prev = ids_adjascent_prev[findall(x->x>0,ids_adjascent_prev)]\n",
    "                    ids_adjascent_prev = ids_adjascent_prev[findall(x->x<num_prev_bid+1,ids_adjascent_prev)]\n",
    "                    num_prev_bid = size(ids_adjascent_prev)[1]\n",
    "                    winded_bond = false                    \n",
    "                else\n",
    "                    # if there are no diagonal terms above this then we take the \n",
    "                    # last one on the next list\n",
    "                    if same_bond_list[i,2] == 0.0\n",
    "                        ids_adjascent_prev = [size(idlist_prev_bid)[1]]\n",
    "                        num_prev_bid = 1\n",
    "                        winded_bond = true\n",
    "                    else\n",
    "                        ids_adjascent_prev = []\n",
    "                        num_next_bid = 0\n",
    "                    end                    \n",
    "                end\n",
    "            elseif ids_adjascent_prev[2] == 2 + 1\n",
    "                if diag_up < idlist_prev_bid[end]\n",
    "#                    print(\"L cond 3 \",\"\\t\")\n",
    "                    ids_adjascent_prev = ids_adjascent_prev[findall(x->x>0,ids_adjascent_prev)]\n",
    "                    ids_adjascent_prev = ids_adjascent_prev[findall(x->x<num_prev_bid+1,ids_adjascent_prev)]\n",
    "                    num_prev_bid = size(ids_adjascent_prev)[1]\n",
    "                    winded_bond = false \n",
    "                    if diag_dn == 0 && diag_up == 0\n",
    "                        p_dn = op_ids[idlist_prev_bid[1]]\n",
    "                        diff_bond_list[i,3] = 4*(p_dn - 1) + 2\n",
    "                    end\n",
    "                else\n",
    "                    # if there are no diagonal terms below then \n",
    "                    # the winded leg attaches to the first of the next bid\n",
    "                    if same_bond_list[i,3] == 0.0\n",
    "                        ids_adjascent_prev = [1]\n",
    "                        num_next_bid = 1\n",
    "                        winded_bond = true\n",
    "                    else\n",
    "                        ids_adjascent_prev = []\n",
    "                        num_next_bid = 0\n",
    "                    end                    \n",
    "                end\n",
    "            end\n",
    "        end\n",
    "        \n",
    "        # next do the next bond\n",
    "        idlist_next_bid = findall(x->x==(bid+1),bond_op)\n",
    "        num_next_bid = size(idlist_next_bid)[1]\n",
    "        \n",
    "#        print(\"next=\",idlist_next_bid,\"\\t\")\n",
    "        \n",
    "        if num_next_bid > 0\n",
    "            ids_adjascent_next = [searchsortedlast(idlist_next_bid,i),searchsortedfirst(idlist_next_bid,i)]\n",
    "#            print(\"Rsearch Ids=\",ids_adjascent_next,\"\\t\")\n",
    "            diag_up = trunc(Int,same_bond_list[i,2])\n",
    "            diag_dn = trunc(Int,same_bond_list[i,3])\n",
    "#            print(\"up dn \",diag_up,\" \",diag_dn,\"\\t\")\n",
    "            if ids_adjascent_next[1] > 0 && ids_adjascent_next[2] < 2 + 1 \n",
    "                # found two \n",
    "#                print(ids_adjascent_next,\"\\t\")\n",
    "                ids_adjascent_next = ids_adjascent_next[findall(x->x>0,ids_adjascent_next)]\n",
    "                ids_adjascent_next = ids_adjascent_next[findall(x->x<num_next_bid+1,ids_adjascent_next)]\n",
    "                num_next_bid = size(ids_adjascent_next)[1]\n",
    "                winded_bond = false\n",
    "            elseif ids_adjascent_next[1] == 0\n",
    "                if diag_dn > idlist_next_bid[1] || diag_dn == 0\n",
    "                    ids_adjascent_next = ids_adjascent_next[findall(x->x>0,ids_adjascent_next)]\n",
    "                    ids_adjascent_next = ids_adjascent_next[findall(x->x<num_next_bid+1,ids_adjascent_next)]\n",
    "                    num_next_bid = size(ids_adjascent_next)[1]\n",
    "                    winded_bond = false                     \n",
    "                else\n",
    "                    # if there are no diagonal terms above this then we take the \n",
    "                    # last one on the next list\n",
    "                    if same_bond_list[i,2] == 0.0\n",
    "                        ids_adjascent_next = [size(idlist_next_bid)[1]]\n",
    "                        num_next_bid = 1\n",
    "                        winded_bond = true\n",
    "                    else\n",
    "                        ids_adjascent_next = []\n",
    "                        num_next_bid = 0\n",
    "                    end\n",
    "                end\n",
    "            elseif ids_adjascent_next[2] == 2 + 1\n",
    "                if diag_up < idlist_next_bid[end]\n",
    "                    ids_adjascent_next = ids_adjascent_next[findall(x->x>0,ids_adjascent_next)]\n",
    "                    ids_adjascent_next = ids_adjascent_next[findall(x->x<num_next_bid+1,ids_adjascent_next)]\n",
    "                    num_next_bid = size(ids_adjascent_next)[1]\n",
    "                    winded_bond = false        \n",
    "                    if diag_up == 0 && diag_dn == 0\n",
    "                        p_dn = op_ids[idlist_next_bid[1]]\n",
    "                        diff_bond_list[i,4] = 4*(p_dn - 1) + 1\n",
    "                    end                     \n",
    "                else\n",
    "                    # if there are no diagonal terms below then \n",
    "                    # the winded leg attaches to the first of the next bid\n",
    "                    if same_bond_list[i,3] == 0.0\n",
    "                        ids_adjascent_next = [1]\n",
    "                        num_next_bid = 1\n",
    "                        winded_bond = true\n",
    "                    else\n",
    "                        ids_adjascent_next = []\n",
    "                        num_next_bid = 0\n",
    "                    end\n",
    "                end\n",
    "            end\n",
    "        end   \n",
    "        \n",
    "#        print(i,\"\\t\",idlist_next_bid,\"\\t\",num_prev_bid,\" \",num_next_bid,\"\\n\")\n",
    "\n",
    "        if num_prev_bid == 1\n",
    "\n",
    "        \n",
    "            # now save the bond ids for the prev\n",
    "            if winded_bond\n",
    "                if idlist_prev_bid[ids_adjascent_prev[1]] > i\n",
    "                    p_up = op_ids[idlist_prev_bid[ids_adjascent_prev[1]]]\n",
    "                    diff_bond_list[i,1] = 4*(p_up - 1) + 4\n",
    "                else\n",
    "                    p_dn = op_ids[idlist_prev_bid[ids_adjascent_prev[1]]]\n",
    "                    diff_bond_list[i,3] = 4*(p_dn - 1) + 2\n",
    "                end                \n",
    "            else                \n",
    "                if idlist_prev_bid[ids_adjascent_prev[1]] > i\n",
    "                    p_dn = op_ids[idlist_prev_bid[ids_adjascent_prev[1]]]\n",
    "                    diff_bond_list[i,3] = 4*(p_dn - 1) + 2\n",
    "                else\n",
    "                    p_up = op_ids[idlist_prev_bid[ids_adjascent_prev[1]]]\n",
    "                    diff_bond_list[i,1] = 4*(p_up - 1) + 4\n",
    "                end\n",
    "            end\n",
    "\n",
    "            \n",
    "        elseif num_prev_bid == 2\n",
    "            \n",
    "            # now save the bond ids for the next            \n",
    "            p_up = op_ids[idlist_prev_bid[ids_adjascent_prev[1]]]\n",
    "            diff_bond_list[i,1] = 4*(p_up - 1) + 4\n",
    "            p_dn = op_ids[idlist_prev_bid[ids_adjascent_prev[2]]]\n",
    "            diff_bond_list[i,3] = 4*(p_dn - 1) + 2\n",
    "\n",
    "        end\n",
    "        \n",
    "        if num_next_bid == 1\n",
    "            \n",
    "            # now save the bond ids for the next\n",
    "            if winded_bond\n",
    "                if idlist_next_bid[ids_adjascent_next[1]] > i\n",
    "                    p_up = op_ids[idlist_next_bid[ids_adjascent_next[1]]]\n",
    "                    diff_bond_list[i,2] = 4*(p_up - 1) + 3\n",
    "                else\n",
    "                    p_dn = op_ids[idlist_next_bid[ids_adjascent_next[1]]]\n",
    "                    diff_bond_list[i,4] = 4*(p_dn - 1) + 1\n",
    "                end\n",
    "            else\n",
    "                if idlist_next_bid[ids_adjascent_next[1]] > i\n",
    "                    p_dn = op_ids[idlist_next_bid[ids_adjascent_next[1]]]\n",
    "                    diff_bond_list[i,4] = 4*(p_dn - 1) + 1\n",
    "                else\n",
    "                    p_up = op_ids[idlist_next_bid[ids_adjascent_next[1]]]\n",
    "                    diff_bond_list[i,2] = 4*(p_up - 1) + 3\n",
    "                end\n",
    "            end\n",
    "\n",
    "\n",
    "        elseif num_next_bid == 2\n",
    "        \n",
    "            # now save the bond ids for the next\n",
    "            p_up = op_ids[idlist_next_bid[ids_adjascent_next[1]]]\n",
    "            diff_bond_list[i,2] = 4*(p_up - 1) + 3\n",
    "            p_dn = op_ids[idlist_next_bid[ids_adjascent_next[2]]]\n",
    "            diff_bond_list[i,4] = 4*(p_dn - 1) + 1\n",
    "\n",
    "        end\n",
    " \n",
    "    elseif bid == 1\n",
    "        \n",
    "    elseif bid == num_op\n",
    "    end\n",
    "end\n",
    "#printmat(diff_bond_list)\n",
    "\n",
    "# Now append the list with the diagonal terms\n",
    "# fill up the missing index connections\n",
    "print(\"\\n\")\n",
    "for i in 1:num_op\n",
    "    id_zeros = findall(x->x==0,diff_bond_list[i,1:end])\n",
    "    id_op_ids = findall(x->x>0,diff_bond_list[i,1:end])\n",
    "    num_zeros = size(id_zeros)[1]\n",
    "    num_ops = size(id_op_ids)[1]\n",
    "#    print(\"\\n\",i,\"\\t\",num_zeros,\"\\t\")\n",
    "    if num_zeros > 0\n",
    "        ndiag = trunc(Int,same_bond_list[i,4])\n",
    "        pos = trunc(Int,same_bond_list[i,1])\n",
    "#        print(ndiag,\"\\t pos=\",pos,\"\\t\")\n",
    "        if ndiag==0\n",
    "            # case of no diag ops\n",
    "            opid = i\n",
    "            \n",
    "            # 1 diag op below => pos == 2\n",
    "            # 1 diag op above => pos == 3\n",
    "            if diff_bond_list[i,1] == 0\n",
    "                p_up = op_ids[opid]\n",
    "                diff_bond_list[i,1] = 4*(p_up - 1) + 3\n",
    "            end\n",
    "            if diff_bond_list[i,2] == 0\n",
    "                p_up = op_ids[opid]\n",
    "                diff_bond_list[i,2] = 4*(p_up - 1) + 4\n",
    "            end\n",
    "            if diff_bond_list[i,3] == 0\n",
    "                p_dn = op_ids[opid]\n",
    "                diff_bond_list[i,3] = 4*(p_dn - 1) + 1\n",
    "            end\n",
    "            if diff_bond_list[i,4] == 0\n",
    "                p_dn = op_ids[opid]\n",
    "                diff_bond_list[i,4] = 4*(p_dn - 1) + 2\n",
    "            end \n",
    "\n",
    "        elseif ndiag==1\n",
    "            # case of 1 diag op\n",
    "            opid = trunc(Int,same_bond_list[i,pos])\n",
    "            \n",
    "            # 1 diag op below => pos == 2\n",
    "            # 1 diag op above => pos == 3\n",
    "            if diff_bond_list[i,1] == 0\n",
    "                p_up = op_ids[opid]\n",
    "                diff_bond_list[i,1] = 4*(p_up - 1) + 3\n",
    "            end\n",
    "            if diff_bond_list[i,2] == 0\n",
    "                p_up = op_ids[opid]\n",
    "                diff_bond_list[i,2] = 4*(p_up - 1) + 4\n",
    "            end\n",
    "            if diff_bond_list[i,3] == 0\n",
    "                p_dn = op_ids[opid]\n",
    "                diff_bond_list[i,3] = 4*(p_dn - 1) + 1\n",
    "            end\n",
    "            if diff_bond_list[i,4] == 0\n",
    "                p_dn = op_ids[opid]\n",
    "                diff_bond_list[i,4] = 4*(p_dn - 1) + 2\n",
    "            end  \n",
    "        \n",
    "        elseif ndiag==2\n",
    "            # case of 2 diag op\n",
    "#            print(\" 2diag \")\n",
    "            opid_dn = trunc(Int,same_bond_list[i,2])\n",
    "            opid_up = trunc(Int,same_bond_list[i,3])\n",
    "            if diff_bond_list[i,1] == 0\n",
    "                p_up = op_ids[opid_up]\n",
    "                diff_bond_list[i,1] = 4*(p_up - 1) + 3\n",
    "            end\n",
    "            if diff_bond_list[i,2] == 0\n",
    "                p_up = op_ids[opid_up]\n",
    "                diff_bond_list[i,2] = 4*(p_up - 1) + 4\n",
    "            end\n",
    "            if diff_bond_list[i,3] == 0\n",
    "                p_dn = op_ids[opid_dn]\n",
    "                diff_bond_list[i,3] = 4*(p_dn - 1) + 1\n",
    "            end\n",
    "            if diff_bond_list[i,4] == 0\n",
    "                p_dn = op_ids[opid_dn]\n",
    "                diff_bond_list[i,4] = 4*(p_dn - 1) + 2\n",
    "            end\n",
    "        end\n",
    "end\n",
    "end\n",
    "#printmat(diff_bond_list)\n",
    "\n",
    "# finally make vertexlist\n",
    "vertexlist = zeros(MaxM,4)\n",
    "j=0\n",
    "for i in 1:MaxM\n",
    "    if a[i] > 0\n",
    "        j += 1\n",
    "        vertexlist[i,:] = diff_bond_list[j,:]\n",
    "    end\n",
    "end\n",
    "\n",
    "for i in 1:MaxM\n",
    "    for j in 1:4\n",
    "        print(\"[\",4*(i-1) + j,\"]\",\"\\t\",vertexlist[i,j],\"\\t\")\n",
    "    end\n",
    "    print(\"\\n\")\n",
    "end"
   ]
  },
  {
   "cell_type": "markdown",
   "metadata": {},
   "source": [
    "### f.) Construct loop"
   ]
  },
  {
   "cell_type": "code",
   "execution_count": 704,
   "metadata": {
    "code_folding": [
     27
    ]
   },
   "outputs": [
    {
     "name": "stdout",
     "output_type": "stream",
     "text": [
      "\n",
      "7-element Array{Any,1}:\n",
      "  1\n",
      "  5\n",
      "  3\n",
      " 11\n",
      "  5\n",
      "  8\n",
      "  1\n"
     ]
    },
    {
     "data": {
      "text/plain": [
       "3-element Array{Int64,1}:\n",
       "  4\n",
       "  9\n",
       " 12"
      ]
     },
     "execution_count": 704,
     "metadata": {},
     "output_type": "execute_result"
    }
   ],
   "source": [
    "# construct a loop by traversing the vertexlist.\n",
    "# The rule is simply to follow the two steps:\n",
    "#     1. start by picking an element of vertexlist(p)\n",
    "#     2. go to the index pointed to by p\n",
    "#     3. if l(p) == 1 move to 2 or if l(p) == 2 move to 1 and similarly for 3,4\n",
    "#     4. go to vertexlist(p') and continue from step 1\n",
    "\n",
    "move = Dict()\n",
    "move[1]=2\n",
    "move[2]=1\n",
    "move[3]=4\n",
    "move[4]=3\n",
    "\n",
    "lpmove = Dict()\n",
    "lpmove[0]=4\n",
    "lpmove[1]=1\n",
    "lpmove[2]=2\n",
    "lpmove[3]=3\n",
    "pstart = 1\n",
    "lpstart = 4\n",
    "p = 1\n",
    "lp = 4\n",
    "q = 0\n",
    "v=0\n",
    "loopids = []\n",
    "push!(loopids,p)\n",
    "count = 1\n",
    "while q != pstart && count < 10\n",
    "    v = vertexlist[p,lp]\n",
    "    lp = lpmove[trunc(Int,v%4)]\n",
    "    p = trunc(Int,1 + (v-lp)/4)\n",
    "#    print(\">\",p,\"\\t\",lp,\"\\t\",v,\"\\n\")\n",
    "    lp = move[lp]\n",
    "    q = p\n",
    "    lq = lp\n",
    "    count += 1\n",
    "#    print(count,\"\\t\",p,\"\\t\",lp,\"\\t v=\",4*(p-1)+lp,\"\\n\")\n",
    "    push!(loopids,p)\n",
    "end\n",
    "printmat(loopids)\n",
    "print(\"\\n\")\n",
    "op_ids[mapfoldl(x->op_ids.!=x,(x,y)->x.*y,loopids)]"
   ]
  },
  {
   "cell_type": "markdown",
   "metadata": {},
   "source": [
    "-----------------------------------------------"
   ]
  },
  {
   "cell_type": "markdown",
   "metadata": {
    "heading_collapsed": true
   },
   "source": [
    "# Testing and Helpers"
   ]
  },
  {
   "cell_type": "markdown",
   "metadata": {
    "heading_collapsed": true,
    "hidden": true
   },
   "source": [
    "## Print Mat"
   ]
  },
  {
   "cell_type": "code",
   "execution_count": 509,
   "metadata": {
    "hidden": true
   },
   "outputs": [
    {
     "data": {
      "text/plain": [
       "printmat (generic function with 1 method)"
      ]
     },
     "execution_count": 509,
     "metadata": {},
     "output_type": "execute_result"
    }
   ],
   "source": [
    "function printmat(mat)\n",
    "    print(\"\\n\")\n",
    "    show(Base.stdout, MIME\"text/plain\"(),mat)\n",
    "end"
   ]
  },
  {
   "cell_type": "markdown",
   "metadata": {
    "hidden": true
   },
   "source": [
    "## Other"
   ]
  },
  {
   "cell_type": "code",
   "execution_count": 693,
   "metadata": {
    "hidden": true
   },
   "outputs": [
    {
     "data": {
      "text/plain": [
       "1-element Array{Int64,1}:\n",
       " 3"
      ]
     },
     "execution_count": 693,
     "metadata": {},
     "output_type": "execute_result"
    }
   ],
   "source": [
    "tmparray=[1; 2; 3]\n",
    "findall(x->x==3,tmparray)"
   ]
  },
  {
   "cell_type": "code",
   "execution_count": 524,
   "metadata": {
    "hidden": true
   },
   "outputs": [
    {
     "data": {
      "text/plain": [
       "10-element Array{Float64,1}:\n",
       " 2.0\n",
       " 2.0\n",
       " 2.0\n",
       " 0.0\n",
       " 0.0\n",
       " 0.0\n",
       " 0.0\n",
       " 0.0\n",
       " 0.0\n",
       " 0.0"
      ]
     },
     "execution_count": 524,
     "metadata": {},
     "output_type": "execute_result"
    }
   ],
   "source": [
    "tmparray = zeros(10)\n",
    "ids = [1; 2; 3]\n",
    "tmparray[ids] .= 2\n",
    "tmparray"
   ]
  },
  {
   "cell_type": "code",
   "execution_count": 656,
   "metadata": {
    "hidden": true
   },
   "outputs": [
    {
     "data": {
      "text/plain": [
       "(1,)"
      ]
     },
     "execution_count": 656,
     "metadata": {},
     "output_type": "execute_result"
    }
   ],
   "source": [
    "tmpvec = [1; 2; 3; 4;]\n",
    "size(tmpvec[tmpvec.==4])"
   ]
  },
  {
   "cell_type": "code",
   "execution_count": 467,
   "metadata": {
    "hidden": true
   },
   "outputs": [
    {
     "name": "stdout",
     "output_type": "stream",
     "text": [
      "[2][2]"
     ]
    }
   ],
   "source": [
    "tmparray = [2]\n",
    "print(tmparray)\n",
    "tmparray=tmparray[findall(x->x<4,tmparray)]\n",
    "print(tmparray)"
   ]
  },
  {
   "cell_type": "code",
   "execution_count": 540,
   "metadata": {
    "hidden": true
   },
   "outputs": [
    {
     "name": "stdout",
     "output_type": "stream",
     "text": [
      "(9,)\n",
      "10\n",
      "9"
     ]
    }
   ],
   "source": [
    "using Base.Iterators: flatten\n",
    "tmparray = [11.; 12.; 13.; 14.; 15.; 16.; 17.; 18.; 19.]\n",
    "print(size(tmparray),\"\\n\")\n",
    "print(searchsortedfirst(tmparray,24.5),\"\\n\")\n",
    "print(searchsortedlast(tmparray,24.5))"
   ]
  },
  {
   "cell_type": "code",
   "execution_count": 125,
   "metadata": {
    "hidden": true
   },
   "outputs": [
    {
     "ename": "AssertionError",
     "evalue": "AssertionError: eye == zer",
     "output_type": "error",
     "traceback": [
      "AssertionError: eye == zer",
      "",
      "Stacktrace:",
      " [1] top-level scope at In[125]:7"
     ]
    }
   ],
   "source": [
    "macro assert(ex)\n",
    "           return :( $ex ? nothing : throw(AssertionError($(string(ex)))) )\n",
    "end\n",
    "\n",
    "eye=ones(10)\n",
    "zer=zeros(10)\n",
    "@assert eye == zer"
   ]
  },
  {
   "cell_type": "code",
   "execution_count": 44,
   "metadata": {
    "hidden": true
   },
   "outputs": [
    {
     "data": {
      "image/png": "[encoded data removed]",
      "text/plain": [
       "Figure(PyObject <Figure size 640x480 with 1 Axes>)"
      ]
     },
     "metadata": {},
     "output_type": "display_data"
    }
   ],
   "source": [
    "\n",
    "using ImageView, Images, TestImages\n",
    "\n",
    "mplt = pyimport(\"matplotlib.pyplot\")\n",
    "\n",
    "nx = pyimport(\"networkx\")\n",
    "\n",
    "widget = pyimport(\"ipywidgets\")\n",
    "\n",
    "G = nx.grid_2d_graph(Lx, Ly)  # 5x5 grid\n",
    "pos = Dict( (n, n) for n in G.nodes() )\n",
    "nx.draw(G, pos=pos)\n",
    "\n",
    "\n"
   ]
  },
  {
   "cell_type": "code",
   "execution_count": 20,
   "metadata": {
    "hidden": true
   },
   "outputs": [
    {
     "data": {
      "text/plain": [
       "PyObject <function _InteractFactory.__call__.<locals>.<lambda> at 0x14c8cabf8>"
      ]
     },
     "execution_count": 20,
     "metadata": {},
     "output_type": "execute_result"
    }
   ],
   "source": [
    "\n",
    "function random_lobster(n, m, k, p)\n",
    "    return nx.random_lobster(n, p, p / m)\n",
    "end\n",
    "\n",
    "function powerlaw_cluster(n, m, k, p)\n",
    "    return nx.powerlaw_cluster_graph(n, m, p)\n",
    "end\n",
    "\n",
    "function erdos_renyi(n, m, k, p)\n",
    "    return nx.erdos_renyi_graph(n, p)\n",
    "end\n",
    "\n",
    "function newman_watts_strogatz(n, m, k, p)\n",
    "    return nx.newman_watts_strogatz_graph(n, k, p)\n",
    "end\n",
    "\n",
    "function plot_random_graph(n, m, k, p)\n",
    "    g = powerlaw_cluster(n, m, k, p)\n",
    "    nx.draw(g)\n",
    "    mplt.show()\n",
    "end\n",
    "\n",
    "widget.interact(plot_random_graph, n=(2,30), m=(1,10), k=(1,10), p=(0.0, 1.0, 0.001))"
   ]
  },
  {
   "cell_type": "markdown",
   "metadata": {
    "hidden": true
   },
   "source": [
    "#### Using Graphviz"
   ]
  },
  {
   "cell_type": "code",
   "execution_count": 16,
   "metadata": {
    "hidden": true
   },
   "outputs": [
    {
     "data": {
      "image/svg+xml": [
       "<?xml version=\"1.0\" encoding=\"UTF-8\" standalone=\"no\"?>\n",
       "<!DOCTYPE svg PUBLIC \"-//W3C//DTD SVG 1.1//EN\"\n",
       " \"http://www.w3.org/Graphics/SVG/1.1/DTD/svg11.dtd\">\n",
       "<!-- Generated by graphviz version 2.40.1 (20161225.0304)\n",
       " -->\n",
       "<!-- Title: %3 Pages: 1 -->\n",
       "<svg width=\"242pt\" height=\"474pt\"\n",
       " viewBox=\"0.00 0.00 242.00 474.00\" xmlns=\"http://www.w3.org/2000/svg\" xmlns:xlink=\"http://www.w3.org/1999/xlink\">\n",
       "<g id=\"graph0\" class=\"graph\" transform=\"scale(1 1) rotate(0) translate(4 470)\">\n",
       "<title>%3</title>\n",
       "<polygon fill=\"#ffffff\" stroke=\"transparent\" points=\"-4,4 -4,-470 238,-470 238,4 -4,4\"/>\n",
       "<!-- 0 -->\n",
       "<g id=\"node1\" class=\"node\">\n",
       "<title>0</title>\n",
       "<ellipse fill=\"#ff0000\" stroke=\"#ff0000\" cx=\"57\" cy=\"-448\" rx=\"27\" ry=\"18\"/>\n",
       "<text text-anchor=\"middle\" x=\"57\" y=\"-443.8\" font-family=\"Times,serif\" font-size=\"14.00\" fill=\"#000000\">0</text>\n",
       "</g>\n",
       "<!-- 1 -->\n",
       "<g id=\"node2\" class=\"node\">\n",
       "<title>1</title>\n",
       "<ellipse fill=\"#0000ff\" stroke=\"#0000ff\" cx=\"27\" cy=\"-362\" rx=\"27\" ry=\"18\"/>\n",
       "<text text-anchor=\"middle\" x=\"27\" y=\"-357.8\" font-family=\"Times,serif\" font-size=\"14.00\" fill=\"#000000\">1</text>\n",
       "</g>\n",
       "<!-- 0&#45;&#45;1 -->\n",
       "<g id=\"edge1\" class=\"edge\">\n",
       "<title>0&#45;&#45;1</title>\n",
       "<path fill=\"none\" stroke=\"#000000\" d=\"M42.4237,-432.7126C37.5893,-426.7156 32.7453,-419.4809 30,-412 26.2851,-401.8769 25.4651,-389.8296 25.6072,-380.0972\"/>\n",
       "<text text-anchor=\"middle\" x=\"33.5\" y=\"-400.8\" font-family=\"Times,serif\" font-size=\"14.00\" fill=\"#000000\">1</text>\n",
       "</g>\n",
       "<!-- 0&#45;&#45;1 -->\n",
       "<g id=\"edge2\" class=\"edge\">\n",
       "<title>0&#45;&#45;1</title>\n",
       "<path fill=\"none\" stroke=\"#000000\" d=\"M50.784,-430.1807C45.6352,-415.421 38.3546,-394.5498 33.2081,-379.7964\"/>\n",
       "<text text-anchor=\"middle\" x=\"46.5\" y=\"-400.8\" font-family=\"Times,serif\" font-size=\"14.00\" fill=\"#000000\">2</text>\n",
       "</g>\n",
       "<!-- 2 -->\n",
       "<g id=\"node3\" class=\"node\">\n",
       "<title>2</title>\n",
       "<ellipse fill=\"#0000ff\" stroke=\"#0000ff\" cx=\"99\" cy=\"-362\" rx=\"27\" ry=\"18\"/>\n",
       "<text text-anchor=\"middle\" x=\"99\" y=\"-357.8\" font-family=\"Times,serif\" font-size=\"14.00\" fill=\"#000000\">2</text>\n",
       "</g>\n",
       "<!-- 0&#45;&#45;2 -->\n",
       "<g id=\"edge9\" class=\"edge\">\n",
       "<title>0&#45;&#45;2</title>\n",
       "<path fill=\"none\" stroke=\"#000000\" d=\"M65.4993,-430.5966C72.7861,-415.676 83.2302,-394.2906 90.5133,-379.3775\"/>\n",
       "<text text-anchor=\"middle\" x=\"83.5\" y=\"-400.8\" font-family=\"Times,serif\" font-size=\"14.00\" fill=\"#000000\">9</text>\n",
       "</g>\n",
       "<!-- 3 -->\n",
       "<g id=\"node4\" class=\"node\">\n",
       "<title>3</title>\n",
       "<ellipse fill=\"#ff0000\" stroke=\"#ff0000\" cx=\"64\" cy=\"-276\" rx=\"27\" ry=\"18\"/>\n",
       "<text text-anchor=\"middle\" x=\"64\" y=\"-271.8\" font-family=\"Times,serif\" font-size=\"14.00\" fill=\"#000000\">3</text>\n",
       "</g>\n",
       "<!-- 1&#45;&#45;3 -->\n",
       "<g id=\"edge13\" class=\"edge\">\n",
       "<title>1&#45;&#45;3</title>\n",
       "<path fill=\"none\" stroke=\"#000000\" d=\"M34.298,-344.3763C38.2968,-334.7826 43.3686,-322.7168 48,-312 50.6047,-305.9729 53.5059,-299.4036 56.1149,-293.5463\"/>\n",
       "<text text-anchor=\"middle\" x=\"55\" y=\"-314.8\" font-family=\"Times,serif\" font-size=\"14.00\" fill=\"#000000\">13</text>\n",
       "</g>\n",
       "<!-- 2&#45;&#45;3 -->\n",
       "<g id=\"edge3\" class=\"edge\">\n",
       "<title>2&#45;&#45;3</title>\n",
       "<path fill=\"none\" stroke=\"#000000\" d=\"M83.5936,-346.7809C78.4281,-340.7913 73.1786,-333.5439 70,-326 65.7905,-316.0095 64.2513,-303.9663 63.7831,-294.203\"/>\n",
       "<text text-anchor=\"middle\" x=\"73.5\" y=\"-314.8\" font-family=\"Times,serif\" font-size=\"14.00\" fill=\"#000000\">3</text>\n",
       "</g>\n",
       "<!-- 2&#45;&#45;3 -->\n",
       "<g id=\"edge4\" class=\"edge\">\n",
       "<title>2&#45;&#45;3</title>\n",
       "<path fill=\"none\" stroke=\"#000000\" d=\"M91.9172,-344.5966C85.8449,-329.676 77.1415,-308.2906 71.0722,-293.3775\"/>\n",
       "<text text-anchor=\"middle\" x=\"86.5\" y=\"-314.8\" font-family=\"Times,serif\" font-size=\"14.00\" fill=\"#000000\">4</text>\n",
       "</g>\n",
       "<!-- 4 -->\n",
       "<g id=\"node5\" class=\"node\">\n",
       "<title>4</title>\n",
       "<ellipse fill=\"#ff0000\" stroke=\"#ff0000\" cx=\"136\" cy=\"-276\" rx=\"27\" ry=\"18\"/>\n",
       "<text text-anchor=\"middle\" x=\"136\" y=\"-271.8\" font-family=\"Times,serif\" font-size=\"14.00\" fill=\"#000000\">4</text>\n",
       "</g>\n",
       "<!-- 2&#45;&#45;4 -->\n",
       "<g id=\"edge10\" class=\"edge\">\n",
       "<title>2&#45;&#45;4</title>\n",
       "<path fill=\"none\" stroke=\"#000000\" d=\"M106.4875,-344.5966C112.9068,-329.676 122.1075,-308.2906 128.5236,-293.3775\"/>\n",
       "<text text-anchor=\"middle\" x=\"126\" y=\"-314.8\" font-family=\"Times,serif\" font-size=\"14.00\" fill=\"#000000\">10</text>\n",
       "</g>\n",
       "<!-- 5 -->\n",
       "<g id=\"node6\" class=\"node\">\n",
       "<title>5</title>\n",
       "<ellipse fill=\"#0000ff\" stroke=\"#0000ff\" cx=\"101\" cy=\"-190\" rx=\"27\" ry=\"18\"/>\n",
       "<text text-anchor=\"middle\" x=\"101\" y=\"-185.8\" font-family=\"Times,serif\" font-size=\"14.00\" fill=\"#000000\">5</text>\n",
       "</g>\n",
       "<!-- 3&#45;&#45;5 -->\n",
       "<g id=\"edge14\" class=\"edge\">\n",
       "<title>3&#45;&#45;5</title>\n",
       "<path fill=\"none\" stroke=\"#000000\" d=\"M71.298,-258.3763C75.2968,-248.7826 80.3686,-236.7168 85,-226 87.6047,-219.9729 90.5059,-213.4036 93.1149,-207.5463\"/>\n",
       "<text text-anchor=\"middle\" x=\"92\" y=\"-228.8\" font-family=\"Times,serif\" font-size=\"14.00\" fill=\"#000000\">14</text>\n",
       "</g>\n",
       "<!-- 4&#45;&#45;5 -->\n",
       "<g id=\"edge5\" class=\"edge\">\n",
       "<title>4&#45;&#45;5</title>\n",
       "<path fill=\"none\" stroke=\"#000000\" d=\"M120.5936,-260.7809C115.4281,-254.7913 110.1786,-247.5439 107,-240 102.7905,-230.0095 101.2513,-217.9663 100.7831,-208.203\"/>\n",
       "<text text-anchor=\"middle\" x=\"110.5\" y=\"-228.8\" font-family=\"Times,serif\" font-size=\"14.00\" fill=\"#000000\">5</text>\n",
       "</g>\n",
       "<!-- 4&#45;&#45;5 -->\n",
       "<g id=\"edge6\" class=\"edge\">\n",
       "<title>4&#45;&#45;5</title>\n",
       "<path fill=\"none\" stroke=\"#000000\" d=\"M128.9172,-258.5966C122.8449,-243.676 114.1415,-222.2906 108.0722,-207.3775\"/>\n",
       "<text text-anchor=\"middle\" x=\"123.5\" y=\"-228.8\" font-family=\"Times,serif\" font-size=\"14.00\" fill=\"#000000\">6</text>\n",
       "</g>\n",
       "<!-- 6 -->\n",
       "<g id=\"node7\" class=\"node\">\n",
       "<title>6</title>\n",
       "<ellipse fill=\"#0000ff\" stroke=\"#0000ff\" cx=\"173\" cy=\"-190\" rx=\"27\" ry=\"18\"/>\n",
       "<text text-anchor=\"middle\" x=\"173\" y=\"-185.8\" font-family=\"Times,serif\" font-size=\"14.00\" fill=\"#000000\">6</text>\n",
       "</g>\n",
       "<!-- 4&#45;&#45;6 -->\n",
       "<g id=\"edge11\" class=\"edge\">\n",
       "<title>4&#45;&#45;6</title>\n",
       "<path fill=\"none\" stroke=\"#000000\" d=\"M143.4875,-258.5966C149.9068,-243.676 159.1075,-222.2906 165.5236,-207.3775\"/>\n",
       "<text text-anchor=\"middle\" x=\"162.7437\" y=\"-228.8\" font-family=\"Times,serif\" font-size=\"14.00\" fill=\"#000000\">11</text>\n",
       "</g>\n",
       "<!-- 7 -->\n",
       "<g id=\"node8\" class=\"node\">\n",
       "<title>7</title>\n",
       "<ellipse fill=\"#ff0000\" stroke=\"#ff0000\" cx=\"135\" cy=\"-104\" rx=\"27\" ry=\"18\"/>\n",
       "<text text-anchor=\"middle\" x=\"135\" y=\"-99.8\" font-family=\"Times,serif\" font-size=\"14.00\" fill=\"#000000\">7</text>\n",
       "</g>\n",
       "<!-- 5&#45;&#45;7 -->\n",
       "<g id=\"edge15\" class=\"edge\">\n",
       "<title>5&#45;&#45;7</title>\n",
       "<path fill=\"none\" stroke=\"#000000\" d=\"M99.8409,-171.8034C99.8558,-162.0419 100.9218,-149.9985 105,-140 108.1955,-132.1655 113.7459,-124.7552 119.2104,-118.7173\"/>\n",
       "<text text-anchor=\"middle\" x=\"112\" y=\"-142.8\" font-family=\"Times,serif\" font-size=\"14.00\" fill=\"#000000\">15</text>\n",
       "</g>\n",
       "<!-- 6&#45;&#45;7 -->\n",
       "<g id=\"edge7\" class=\"edge\">\n",
       "<title>6&#45;&#45;7</title>\n",
       "<path fill=\"none\" stroke=\"#000000\" d=\"M157.8323,-174.6762C152.6926,-168.6752 147.3985,-161.4474 144,-154 139.4596,-144.0501 137.2061,-132.0082 136.0894,-122.2354\"/>\n",
       "<text text-anchor=\"middle\" x=\"147.5\" y=\"-142.8\" font-family=\"Times,serif\" font-size=\"14.00\" fill=\"#000000\">7</text>\n",
       "</g>\n",
       "<!-- 6&#45;&#45;7 -->\n",
       "<g id=\"edge8\" class=\"edge\">\n",
       "<title>6&#45;&#45;7</title>\n",
       "<path fill=\"none\" stroke=\"#000000\" d=\"M165.3101,-172.5966C158.7173,-157.676 149.268,-136.2906 142.6784,-121.3775\"/>\n",
       "<text text-anchor=\"middle\" x=\"159.5\" y=\"-142.8\" font-family=\"Times,serif\" font-size=\"14.00\" fill=\"#000000\">8</text>\n",
       "</g>\n",
       "<!-- 8 -->\n",
       "<g id=\"node9\" class=\"node\">\n",
       "<title>8</title>\n",
       "<ellipse fill=\"none\" stroke=\"#000000\" cx=\"207\" cy=\"-104\" rx=\"27\" ry=\"18\"/>\n",
       "<text text-anchor=\"middle\" x=\"207\" y=\"-99.8\" font-family=\"Times,serif\" font-size=\"14.00\" fill=\"#000000\">8</text>\n",
       "</g>\n",
       "<!-- 6&#45;&#45;8 -->\n",
       "<g id=\"edge12\" class=\"edge\">\n",
       "<title>6&#45;&#45;8</title>\n",
       "<path fill=\"none\" stroke=\"#000000\" d=\"M180.0448,-172.1807C185.919,-157.3226 194.2416,-136.2713 200.0805,-121.5022\"/>\n",
       "<text text-anchor=\"middle\" x=\"199\" y=\"-142.8\" font-family=\"Times,serif\" font-size=\"14.00\" fill=\"#000000\">12</text>\n",
       "</g>\n",
       "<!-- 9 -->\n",
       "<g id=\"node10\" class=\"node\">\n",
       "<title>9</title>\n",
       "<ellipse fill=\"none\" stroke=\"#000000\" cx=\"135\" cy=\"-18\" rx=\"27\" ry=\"18\"/>\n",
       "<text text-anchor=\"middle\" x=\"135\" y=\"-13.8\" font-family=\"Times,serif\" font-size=\"14.00\" fill=\"#000000\">9</text>\n",
       "</g>\n",
       "<!-- 7&#45;&#45;9 -->\n",
       "<g id=\"edge16\" class=\"edge\">\n",
       "<title>7&#45;&#45;9</title>\n",
       "<path fill=\"none\" stroke=\"#000000\" d=\"M135,-85.7616C135,-71.1671 135,-50.7996 135,-36.2121\"/>\n",
       "<text text-anchor=\"middle\" x=\"142\" y=\"-56.8\" font-family=\"Times,serif\" font-size=\"14.00\" fill=\"#000000\">16</text>\n",
       "</g>\n",
       "</g>\n",
       "</svg>\n"
      ],
      "text/plain": [
       "PyObject <graphviz.dot.Graph object at 0x14853fc50>"
      ]
     },
     "execution_count": 16,
     "metadata": {},
     "output_type": "execute_result"
    }
   ],
   "source": [
    "using PyPlot\n",
    "using PyCall\n",
    "using Conda\n",
    "\n",
    "\n",
    "graphviz = pyimport(\"graphviz\");\n",
    "\n",
    "dot = graphviz.Graph()\n",
    "\n",
    "# Add nodes 1 and 2\n",
    "countline = 0\n",
    "for ndeI in 0:Lx-1\n",
    "    for ndeJ in 0:Ly-1\n",
    "        if (ndeI*Ly + ndeJ + countline)%2 == 0\n",
    "            dot.node(string(ndeI*Ly + ndeJ),style=\"filled\",color=\"red\")\n",
    "        else\n",
    "            dot.node(string(ndeI*Ly + ndeJ),style=\"filled\",color=\"blue\")\n",
    "        end\n",
    "    end\n",
    "    countline += 1\n",
    "end\n",
    "\n",
    "\n",
    "# Add edge between 1 and 2\n",
    "countedge = 1\n",
    "for ndeI in 0:Lx-1\n",
    "    for ndeJ in 0:Ly-1\n",
    "        if ndeJ < Ly-1\n",
    "            dot.edge(string(ndeI*Ly + ndeJ),string(ndeI*Ly + ndeJ+1),label=string(countedge))\n",
    "        else\n",
    "            dot.edge(string(ndeI*Ly + 0),string(ndeI*Ly + ndeJ),label=string(countedge))\n",
    "        end\n",
    "        countedge += 1\n",
    "    end\n",
    "end\n",
    "\n",
    "for ndeJ in 0:Ly-1\n",
    "    for ndeI in 0:Lx-1\n",
    "#        if ndeI < Lx-1\n",
    "            dot.edge(string(ndeI*Ly + ndeJ),string((ndeI+1)*Ly + ndeJ),label=string(countedge))\n",
    "#        else\n",
    "#            dot.edge(string(0*Ly + ndeJ),string((ndeI)*Ly + ndeJ),label=string(countedge))\n",
    "#        end\n",
    "            countedge += 1\n",
    "    end\n",
    "end\n",
    "\n",
    "\n",
    "dot"
   ]
  },
  {
   "cell_type": "code",
   "execution_count": 400,
   "metadata": {
    "hidden": true
   },
   "outputs": [
    {
     "data": {
      "text/plain": [
       "2-element Array{Int64,1}:\n",
       " 2\n",
       " 4"
      ]
     },
     "execution_count": 400,
     "metadata": {},
     "output_type": "execute_result"
    }
   ],
   "source": [
    "tmpvec = [1; 4; 3; 4; 5;]\n",
    "findall(x->x==4,tmpvec)"
   ]
  },
  {
   "cell_type": "code",
   "execution_count": null,
   "metadata": {
    "hidden": true
   },
   "outputs": [],
   "source": []
  }
 ],
 "metadata": {
  "kernelspec": {
   "display_name": "Julia 1.3.0",
   "language": "julia",
   "name": "julia-1.3"
  },
  "language_info": {
   "file_extension": ".jl",
   "mimetype": "application/julia",
   "name": "julia",
   "version": "1.3.0"
  }
 },
 "nbformat": 4,
 "nbformat_minor": 2
}
